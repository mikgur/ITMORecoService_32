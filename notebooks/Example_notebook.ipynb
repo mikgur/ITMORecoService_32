{
 "cells": [
  {
   "cell_type": "code",
   "execution_count": 1,
   "id": "75b7f8cd-da84-46ec-a4b8-f8fd78e02110",
   "metadata": {},
   "outputs": [],
   "source": [
    "''' Эта ячейка нужна для того, чтобы при обновлении классов/функций в ваших\n",
    "файлах, они автоматически подтягивались в этот ноутбук без необходимости\n",
    "его перезапуска\n",
    "'''\n",
    "\n",
    "%load_ext autoreload\n",
    "%autoreload 2"
   ]
  },
  {
   "cell_type": "code",
   "execution_count": 2,
   "id": "0ca774e6-3378-4e4a-a3ef-0d5b217af9bf",
   "metadata": {},
   "outputs": [],
   "source": [
    "# Добавляем путь к основной папке проекта, чтобы иметь возможность делать импорт из src\n",
    "import os\n",
    "import sys\n",
    "module_path = os.path.abspath(os.path.join('..'))\n",
    "if module_path not in sys.path:\n",
    "    sys.path.append(module_path)"
   ]
  },
  {
   "cell_type": "code",
   "execution_count": 3,
   "id": "1a503b32-88f6-428e-ae5e-ce3ef855fd97",
   "metadata": {},
   "outputs": [],
   "source": [
    "from service.example_module import ExampleClass"
   ]
  },
  {
   "cell_type": "code",
   "execution_count": 4,
   "id": "7115e6c3-787d-41bd-94b3-8c47deb51245",
   "metadata": {},
   "outputs": [],
   "source": [
    "example = ExampleClass()"
   ]
  },
  {
   "cell_type": "code",
   "execution_count": 5,
   "id": "574a474e-2a32-4640-9270-3fecdfed5053",
   "metadata": {},
   "outputs": [
    {
     "data": {
      "text/plain": [
       "<service.example_module.ExampleClass at 0x7f70886280d0>"
      ]
     },
     "execution_count": 5,
     "metadata": {},
     "output_type": "execute_result"
    }
   ],
   "source": [
    "example"
   ]
  },
  {
   "cell_type": "code",
   "execution_count": null,
   "id": "d81c5493-cc33-4a44-8075-27155cf3bced",
   "metadata": {},
   "outputs": [],
   "source": []
  }
 ],
 "metadata": {
  "kernelspec": {
   "display_name": "Python 3 (ipykernel)",
   "language": "python",
   "name": "python3"
  },
  "language_info": {
   "codemirror_mode": {
    "name": "ipython",
    "version": 3
   },
   "file_extension": ".py",
   "mimetype": "text/x-python",
   "name": "python",
   "nbconvert_exporter": "python",
   "pygments_lexer": "ipython3",
   "version": "3.8.13"
  }
 },
 "nbformat": 4,
 "nbformat_minor": 5
}
