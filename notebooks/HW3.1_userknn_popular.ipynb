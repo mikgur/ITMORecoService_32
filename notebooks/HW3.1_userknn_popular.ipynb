{
 "cells": [
  {
   "cell_type": "code",
   "execution_count": 1,
   "id": "6277ba95-066c-4861-817b-4214f65b7ae5",
   "metadata": {},
   "outputs": [],
   "source": [
    "from collections import Counter\n",
    "from pathlib import Path\n",
    "import pickle\n",
    "\n",
    "import dill\n",
    "import numpy as np\n",
    "import pandas as pd\n",
    "import scipy as sp\n",
    "import tqdm\n",
    "\n",
    "from implicit.nearest_neighbours import  BM25Recommender, CosineRecommender, TFIDFRecommender\n",
    "from rectools import Columns\n",
    "from rectools.dataset import Dataset, Interactions\n",
    "from rectools.metrics import Precision, Recall, MeanInvUserFreq, Serendipity, calc_metrics\n",
    "from rectools.models.popular import PopularModel\n",
    "from rectools.model_selection import TimeRangeSplitter"
   ]
  },
  {
   "cell_type": "markdown",
   "id": "fad0d4e1-e947-450b-91e3-99325f6934ba",
   "metadata": {},
   "source": [
    "# 🎬 Get KION dataset "
   ]
  },
  {
   "cell_type": "code",
   "execution_count": 2,
   "id": "eefc609d-a687-462b-8aaa-3d3664f121be",
   "metadata": {},
   "outputs": [
    {
     "name": "stdout",
     "output_type": "stream",
     "text": [
      "mkdir: cannot create directory ‘../data’: File exists\n"
     ]
    }
   ],
   "source": [
    "!mkdir ../data"
   ]
  },
  {
   "cell_type": "code",
   "execution_count": 3,
   "id": "7b7dfe92-7197-488c-af61-cca820a16f7b",
   "metadata": {},
   "outputs": [
    {
     "name": "stdout",
     "output_type": "stream",
     "text": [
      "--2022-12-06 15:04:03--  https://storage.yandexcloud.net/itmo-recsys-public-data/kion_train.zip\n",
      "Resolving storage.yandexcloud.net (storage.yandexcloud.net)... 213.180.193.243, 2a02:6b8::1d9\n",
      "Connecting to storage.yandexcloud.net (storage.yandexcloud.net)|213.180.193.243|:443... connected.\n",
      "HTTP request sent, awaiting response... 200 OK\n",
      "Length: 78795385 (75M) [application/zip]\n",
      "Saving to: ‘../data/data_original.zip’\n",
      "\n",
      "../data/data_origin 100%[===================>]  75,14M  11,2MB/s    in 6,8s    \n",
      "\n",
      "2022-12-06 15:04:11 (11,0 MB/s) - ‘../data/data_original.zip’ saved [78795385/78795385]\n",
      "\n"
     ]
    }
   ],
   "source": [
    "!wget https://storage.yandexcloud.net/itmo-recsys-public-data/kion_train.zip -O ../data/data_original.zip"
   ]
  },
  {
   "cell_type": "code",
   "execution_count": 4,
   "id": "b6ae7b99-cc0c-4f83-b2d8-c70ae277ffc2",
   "metadata": {},
   "outputs": [
    {
     "name": "stdout",
     "output_type": "stream",
     "text": [
      "Archive:  ../data/data_original.zip\n",
      "replace ../data/kion_train/interactions.csv? [y]es, [n]o, [A]ll, [N]one, [r]ename: ^C\n"
     ]
    }
   ],
   "source": [
    "!unzip ../data/data_original.zip -d ../data"
   ]
  },
  {
   "cell_type": "markdown",
   "id": "aef07cbb-1587-4e79-b645-5d66cb7411ff",
   "metadata": {},
   "source": [
    "# EDA"
   ]
  },
  {
   "cell_type": "code",
   "execution_count": 2,
   "id": "8b8c8f88-d1d5-414b-bc8b-a78064e8b4b4",
   "metadata": {},
   "outputs": [],
   "source": [
    "interactions = pd.read_csv('../data/kion_train/interactions.csv')\n",
    "users = pd.read_csv('../data/kion_train/users.csv')\n",
    "items = pd.read_csv('../data/kion_train/items.csv')"
   ]
  },
  {
   "cell_type": "code",
   "execution_count": 3,
   "id": "d6db053d-eab1-4f98-b839-06d065f6b285",
   "metadata": {},
   "outputs": [],
   "source": [
    "# rename columns, convert timestamp\n",
    "interactions.rename(columns={'last_watch_dt': Columns.Datetime,\n",
    "                            'total_dur': Columns.Weight}, \n",
    "                    inplace=True) \n",
    "\n",
    "interactions['datetime'] = pd.to_datetime(interactions['datetime'])"
   ]
  },
  {
   "cell_type": "markdown",
   "id": "3af7b506-528a-41f5-a61a-82657d8a3f3a",
   "metadata": {},
   "source": [
    "# Simple popular by number of interactions"
   ]
  },
  {
   "cell_type": "code",
   "execution_count": 4,
   "id": "679b5367-684a-4711-b275-ad2ec002fffe",
   "metadata": {},
   "outputs": [],
   "source": [
    "# constract dataset for popular\n",
    "dataset = Dataset.construct(\n",
    "    interactions_df=interactions,\n",
    "    user_features_df=None,\n",
    "    item_features_df=None\n",
    ")"
   ]
  },
  {
   "cell_type": "code",
   "execution_count": 5,
   "id": "ffe9b81c-7fef-47e9-ae16-2dae3f983857",
   "metadata": {},
   "outputs": [],
   "source": [
    "popular_model = PopularModel()\n",
    "popular_model.fit(dataset);"
   ]
  },
  {
   "cell_type": "code",
   "execution_count": 6,
   "id": "ab0f3143-1a4e-4eb6-951f-6af29cbfcddc",
   "metadata": {},
   "outputs": [],
   "source": [
    "# join titles from items \n",
    "popular_recommendations = popular_model.recommend(\n",
    "    dataset.user_id_map.external_ids[:1], \n",
    "    dataset=dataset, \n",
    "    k=20, \n",
    "    filter_viewed=False\n",
    ").merge(items[['item_id', 'title']], \n",
    "       on='item_id',\n",
    "       how='left')"
   ]
  },
  {
   "cell_type": "markdown",
   "id": "162d31fa-a55e-46ef-8407-ac2820aa2c8c",
   "metadata": {},
   "source": [
    "## Let's look at popular items"
   ]
  },
  {
   "cell_type": "code",
   "execution_count": 7,
   "id": "a7908b33-a91a-4a0b-8ae4-7616dedbc535",
   "metadata": {},
   "outputs": [
    {
     "data": {
      "text/html": [
       "<div>\n",
       "<style scoped>\n",
       "    .dataframe tbody tr th:only-of-type {\n",
       "        vertical-align: middle;\n",
       "    }\n",
       "\n",
       "    .dataframe tbody tr th {\n",
       "        vertical-align: top;\n",
       "    }\n",
       "\n",
       "    .dataframe thead th {\n",
       "        text-align: right;\n",
       "    }\n",
       "</style>\n",
       "<table border=\"1\" class=\"dataframe\">\n",
       "  <thead>\n",
       "    <tr style=\"text-align: right;\">\n",
       "      <th></th>\n",
       "      <th>user_id</th>\n",
       "      <th>item_id</th>\n",
       "      <th>score</th>\n",
       "      <th>rank</th>\n",
       "      <th>title</th>\n",
       "    </tr>\n",
       "  </thead>\n",
       "  <tbody>\n",
       "    <tr>\n",
       "      <th>0</th>\n",
       "      <td>176549</td>\n",
       "      <td>10440</td>\n",
       "      <td>202457.0</td>\n",
       "      <td>1</td>\n",
       "      <td>Хрустальный</td>\n",
       "    </tr>\n",
       "    <tr>\n",
       "      <th>1</th>\n",
       "      <td>176549</td>\n",
       "      <td>15297</td>\n",
       "      <td>193123.0</td>\n",
       "      <td>2</td>\n",
       "      <td>Клиника счастья</td>\n",
       "    </tr>\n",
       "    <tr>\n",
       "      <th>2</th>\n",
       "      <td>176549</td>\n",
       "      <td>9728</td>\n",
       "      <td>132865.0</td>\n",
       "      <td>3</td>\n",
       "      <td>Гнев человеческий</td>\n",
       "    </tr>\n",
       "    <tr>\n",
       "      <th>3</th>\n",
       "      <td>176549</td>\n",
       "      <td>13865</td>\n",
       "      <td>122119.0</td>\n",
       "      <td>4</td>\n",
       "      <td>Девятаев</td>\n",
       "    </tr>\n",
       "    <tr>\n",
       "      <th>4</th>\n",
       "      <td>176549</td>\n",
       "      <td>4151</td>\n",
       "      <td>91167.0</td>\n",
       "      <td>5</td>\n",
       "      <td>Секреты семейной жизни</td>\n",
       "    </tr>\n",
       "    <tr>\n",
       "      <th>5</th>\n",
       "      <td>176549</td>\n",
       "      <td>3734</td>\n",
       "      <td>74803.0</td>\n",
       "      <td>6</td>\n",
       "      <td>Прабабушка легкого поведения</td>\n",
       "    </tr>\n",
       "    <tr>\n",
       "      <th>6</th>\n",
       "      <td>176549</td>\n",
       "      <td>2657</td>\n",
       "      <td>68581.0</td>\n",
       "      <td>7</td>\n",
       "      <td>Подслушано</td>\n",
       "    </tr>\n",
       "    <tr>\n",
       "      <th>7</th>\n",
       "      <td>176549</td>\n",
       "      <td>4880</td>\n",
       "      <td>55043.0</td>\n",
       "      <td>8</td>\n",
       "      <td>Афера</td>\n",
       "    </tr>\n",
       "    <tr>\n",
       "      <th>8</th>\n",
       "      <td>176549</td>\n",
       "      <td>142</td>\n",
       "      <td>45367.0</td>\n",
       "      <td>9</td>\n",
       "      <td>Маша</td>\n",
       "    </tr>\n",
       "    <tr>\n",
       "      <th>9</th>\n",
       "      <td>176549</td>\n",
       "      <td>6809</td>\n",
       "      <td>40372.0</td>\n",
       "      <td>10</td>\n",
       "      <td>Дуров</td>\n",
       "    </tr>\n",
       "  </tbody>\n",
       "</table>\n",
       "</div>"
      ],
      "text/plain": [
       "   user_id  item_id     score  rank                         title\n",
       "0   176549    10440  202457.0     1                   Хрустальный\n",
       "1   176549    15297  193123.0     2               Клиника счастья\n",
       "2   176549     9728  132865.0     3             Гнев человеческий\n",
       "3   176549    13865  122119.0     4                      Девятаев\n",
       "4   176549     4151   91167.0     5        Секреты семейной жизни\n",
       "5   176549     3734   74803.0     6  Прабабушка легкого поведения\n",
       "6   176549     2657   68581.0     7                    Подслушано\n",
       "7   176549     4880   55043.0     8                         Афера\n",
       "8   176549      142   45367.0     9                          Маша\n",
       "9   176549     6809   40372.0    10                         Дуров"
      ]
     },
     "execution_count": 7,
     "metadata": {},
     "output_type": "execute_result"
    }
   ],
   "source": [
    "popular_recommendations.head(10)"
   ]
  },
  {
   "cell_type": "markdown",
   "id": "7521ff37-1bb4-411d-97c9-49fec8b7bb14",
   "metadata": {},
   "source": [
    "# UserKNN Model"
   ]
  },
  {
   "cell_type": "code",
   "execution_count": 8,
   "id": "720c8476-1392-4641-b2e8-71ea2ae43d19",
   "metadata": {},
   "outputs": [
    {
     "name": "stdout",
     "output_type": "stream",
     "text": [
      "Start date and last date of the test fold: (Timestamp('2021-08-08 00:00:00'), Timestamp('2021-08-22 00:00:00'))\n",
      "Test fold borders: ['2021-08-08' '2021-08-15']\n",
      "Real number of folds: 1\n"
     ]
    }
   ],
   "source": [
    "# train test split \n",
    "# test = last 1 week \n",
    "\n",
    "n_folds = 1\n",
    "unit = \"W\"\n",
    "n_units = 1\n",
    "periods = n_folds + 1\n",
    "freq = f\"{n_units}{unit}\"\n",
    "\n",
    "last_date = interactions[Columns.Datetime].max().normalize()\n",
    "start_date = last_date - pd.Timedelta(n_folds * n_units + 1, unit=unit)  \n",
    "print(f\"Start date and last date of the test fold: {start_date, last_date}\")\n",
    "    \n",
    "date_range = pd.date_range(start=start_date, periods=periods, freq=freq, tz=last_date.tz)\n",
    "print(f\"Test fold borders: {date_range.values.astype('datetime64[D]')}\")\n",
    "\n",
    "# generator of folds\n",
    "cv = TimeRangeSplitter(\n",
    "    date_range=date_range,\n",
    "    filter_already_seen=True,\n",
    "    filter_cold_items=True,\n",
    "    filter_cold_users=True,\n",
    ")\n",
    "print(f\"Real number of folds: {cv.get_n_splits(Interactions(interactions))}\")"
   ]
  },
  {
   "cell_type": "code",
   "execution_count": 9,
   "id": "40381191-d98d-484c-871b-5ec23123a76b",
   "metadata": {},
   "outputs": [],
   "source": [
    "# we have just 1 test fold - no need to iterate over fold\n",
    "(train_ids, test_ids, fold_info) = cv.split(Interactions(interactions), collect_fold_stats=True).__next__()"
   ]
  },
  {
   "cell_type": "code",
   "execution_count": 10,
   "id": "97511475-e453-44e7-878e-d9bb1b121c07",
   "metadata": {},
   "outputs": [],
   "source": [
    "# Prepare train matrix \n",
    "train = interactions.loc[train_ids]\n",
    "test = interactions.loc[test_ids]"
   ]
  },
  {
   "cell_type": "code",
   "execution_count": 11,
   "id": "401c7c60-8311-43a6-8e9a-5cbed959f151",
   "metadata": {},
   "outputs": [
    {
     "name": "stdout",
     "output_type": "stream",
     "text": [
      "users_mapping amount: 842129\n",
      "items_mapping amount: 15404\n"
     ]
    }
   ],
   "source": [
    "users_inv_mapping = dict(enumerate(train['user_id'].unique()))\n",
    "users_mapping = {v: k for k, v in users_inv_mapping.items()}\n",
    "\n",
    "items_inv_mapping = dict(enumerate(train['item_id'].unique()))\n",
    "items_mapping = {v: k for k, v in items_inv_mapping.items()}\n",
    "\n",
    "print(f\"users_mapping amount: {len(users_mapping)}\")\n",
    "print(f\"items_mapping amount: {len(items_mapping)}\")"
   ]
  },
  {
   "cell_type": "code",
   "execution_count": 12,
   "id": "717b78a9-568f-4dee-8de4-c01a68543176",
   "metadata": {},
   "outputs": [],
   "source": [
    "# Get sparse matrix \n",
    "def get_coo_matrix(df, \n",
    "                   user_col='user_id', \n",
    "                   item_col='item_id', \n",
    "                   weight_col=None, \n",
    "                   users_mapping=None, \n",
    "                   items_mapping=None):\n",
    "    if weight_col:\n",
    "        weights = df[weight_col].astype(np.float32)\n",
    "    else:\n",
    "        weights = np.ones(len(df), dtype=np.float32)\n",
    "\n",
    "    interaction_matrix = sp.sparse.coo_matrix((\n",
    "        weights, \n",
    "        (\n",
    "            df[user_col].map(users_mapping.get), \n",
    "            df[item_col].map(items_mapping.get)\n",
    "        )\n",
    "    ))\n",
    "    return interaction_matrix"
   ]
  },
  {
   "cell_type": "code",
   "execution_count": 13,
   "id": "b7050c52-aee2-4332-b2ac-3442bd89de1a",
   "metadata": {},
   "outputs": [],
   "source": [
    "interaction_matrix = get_coo_matrix(train, weight_col='weight',\n",
    "                                    users_mapping=users_mapping, \n",
    "                                    items_mapping=items_mapping)"
   ]
  },
  {
   "cell_type": "markdown",
   "id": "ba077a34-ceb0-429f-a7a8-7fac54848c83",
   "metadata": {},
   "source": [
    "## We will try CosineRecommender, TFIDFRecommender with different K"
   ]
  },
  {
   "cell_type": "markdown",
   "id": "24874577-7fd7-48eb-ab32-3bda1a1ea612",
   "metadata": {},
   "source": [
    "## Задание: наличие тюнинга гиперпараметров (например, векторного расстояния или типов kNN моделей (implicit/rectools/...)) (4 балла)"
   ]
  },
  {
   "cell_type": "code",
   "execution_count": 14,
   "id": "20c7fb08-fe26-4265-8215-4f73bd300b82",
   "metadata": {},
   "outputs": [],
   "source": [
    "models = {\n",
    "    'Cosine_10': CosineRecommender(K=10),\n",
    "    'Cosine_20': CosineRecommender(K=20),\n",
    "    'Cosine_50': CosineRecommender(K=50),\n",
    "    'Cosine_100': CosineRecommender(K=100),\n",
    "    'TFIDF_10' : TFIDFRecommender(K=10),\n",
    "    'TFIDF_20' : TFIDFRecommender(K=20),\n",
    "    'TFIDF_50' : TFIDFRecommender(K=50),\n",
    "    'TFIDF_100' : TFIDFRecommender(K=100),\n",
    "}\n",
    "\n",
    "metrics = {\n",
    "    \"prec@10\": Precision(k=10),\n",
    "    \"recall@10\": Recall(k=10),\n",
    "    \"novelty\": MeanInvUserFreq(k=10),\n",
    "    \"serendipity\": Serendipity(k=10),\n",
    "}\n",
    "\n",
    "catalog = train['item_id'].unique()"
   ]
  },
  {
   "cell_type": "markdown",
   "id": "3e2b5406-ceab-4c65-adcf-5ab076f816f0",
   "metadata": {},
   "source": [
    "## Train and save models"
   ]
  },
  {
   "cell_type": "code",
   "execution_count": null,
   "id": "c7bead49-8b5d-414f-ae93-cddfa6b3dcfb",
   "metadata": {},
   "outputs": [],
   "source": [
    "models_dir = Path('../models')\n",
    "models_dir.mkdir(exist_ok=True)\n",
    "\n",
    "for model_name, model in tqdm.tqdm(models.items()):\n",
    "    model.fit(interaction_matrix)\n",
    "    # save model\n",
    "    with open(models_dir / f'{model_name}.dill', 'wb') as f:\n",
    "        dill.dump(model, f)"
   ]
  },
  {
   "cell_type": "markdown",
   "id": "c1a7e261-62f7-47f9-ae40-dfc298ce90ff",
   "metadata": {},
   "source": [
    "## Load saved models"
   ]
  },
  {
   "cell_type": "code",
   "execution_count": 15,
   "id": "174b117c-1c8f-4a77-ba84-dd299678cdc3",
   "metadata": {},
   "outputs": [
    {
     "name": "stderr",
     "output_type": "stream",
     "text": [
      "100%|█████████████████████████████████████████████████████████████████████████████████████████████████████████████████████████| 8/8 [00:01<00:00,  6.63it/s]\n"
     ]
    }
   ],
   "source": [
    "models_dir = Path('../models')\n",
    "\n",
    "for model_name in tqdm.tqdm(models.keys()):\n",
    "    with open(models_dir / f'{model_name}.dill', 'rb') as f:\n",
    "        models[model_name] = dill.load(f)"
   ]
  },
  {
   "cell_type": "markdown",
   "id": "4dc41448-0c72-4325-b83e-134bf1c1dc5d",
   "metadata": {},
   "source": [
    "### Utility function to get user neighbours"
   ]
  },
  {
   "cell_type": "code",
   "execution_count": 16,
   "id": "89c1877f-14c3-4bdc-a8ae-ea4e8ee9735b",
   "metadata": {},
   "outputs": [],
   "source": [
    "def generate_implicit_recs_mapper(model, N, users_mapping, users_inv_mapping):\n",
    "    def _recs_mapper(user):\n",
    "        user_id = users_mapping[user]\n",
    "        recs = model.similar_items(user_id, N=N)\n",
    "        return [users_inv_mapping[user] for user, _ in recs], [sim for _, sim in recs]\n",
    "    return _recs_mapper"
   ]
  },
  {
   "cell_type": "markdown",
   "id": "55cacde9-bf93-40dd-bbdf-a78a1025dab0",
   "metadata": {},
   "source": [
    "### Utility function to add items IDF to recs"
   ]
  },
  {
   "cell_type": "code",
   "execution_count": 17,
   "id": "add714ba-78bf-4a89-9af3-a411ea2a0481",
   "metadata": {},
   "outputs": [],
   "source": [
    "def add_items_idf(df: pd.DataFrame, train:pd.DataFrame = train):\n",
    "    cnt = Counter(train['item_id'].values)\n",
    "    idf = pd.DataFrame.from_dict(cnt, orient='index', columns=['doc_freq']).reset_index()\n",
    "    n = train.shape[0]\n",
    "    idf['idf'] = idf['doc_freq'].apply(lambda x: np.log((1 + n) / (1 + x) + 1))\n",
    "    return df.merge(\n",
    "        idf[['index', 'idf']], \n",
    "        left_on='item_id',\n",
    "        right_on='index',\n",
    "        how='left'\n",
    "    ).drop(['index'], axis=1)"
   ]
  },
  {
   "cell_type": "markdown",
   "id": "43cb8266-cf95-4ebd-bf82-064627a4052d",
   "metadata": {},
   "source": [
    "## Calculate metrcis for all models.\n",
    "\n",
    "### We tried 3 items assessment techniques:\n",
    "- vanilla IDF\n",
    "- user-normalized IDF with multiplication\n",
    "- user-normalized IDF with addition"
   ]
  },
  {
   "cell_type": "markdown",
   "id": "99bb0789-c5d2-4a00-80fc-7909c7235a40",
   "metadata": {},
   "source": [
    "## Задание: другие варианты ранжированивания айтемов похожих пользователей (2 балла)"
   ]
  },
  {
   "cell_type": "code",
   "execution_count": 18,
   "id": "562de5f3-7588-478f-a7f0-ebff0a2c9bc2",
   "metadata": {},
   "outputs": [
    {
     "name": "stderr",
     "output_type": "stream",
     "text": [
      "100%|█████████████████████████████████████████████████████████████████████████████████████████████████████████████████████████| 8/8 [11:00<00:00, 82.55s/it]\n"
     ]
    }
   ],
   "source": [
    "results = []\n",
    "\n",
    "# Calculate metrics with IDF ranking\n",
    "\n",
    "for model_name, model in tqdm.tqdm(models.items()):\n",
    "    # if model_name.startswith('BM25'):\n",
    "    #     continue\n",
    "    mapper = generate_implicit_recs_mapper(\n",
    "        model, \n",
    "        N=model.K,\n",
    "        users_mapping=users_mapping,\n",
    "        users_inv_mapping=users_inv_mapping\n",
    "    )\n",
    "    recs = pd.DataFrame({\n",
    "        'user_id': test['user_id'].unique()\n",
    "    })\n",
    "    recs['similar_user_id'], recs['similarity'] = zip(*recs['user_id'].map(mapper))\n",
    "\n",
    "    # explode lists to get vertical representation\n",
    "    recs = recs.set_index('user_id').apply(pd.Series.explode).reset_index()\n",
    "    # delete recommendations of itself  \n",
    "    recs = recs[~(recs['user_id']==recs['similar_user_id'])]\n",
    "\n",
    "    # Join watched items of neighbour users to get item recommendations\n",
    "    watched_items = train.groupby('user_id').agg({'item_id': list})\n",
    "    watched_items.head()\n",
    "    recs = recs.merge(watched_items, left_on=['similar_user_id'], right_on=['user_id'], how='left')\n",
    "    recs = recs.explode('item_id')\n",
    "\n",
    "    # Sort and keep only pairs user_id - item_id with highest users similarity\n",
    "    recs = recs.sort_values(['user_id', 'similarity'], ascending=False)\n",
    "    recs = recs.drop_duplicates(['user_id', 'item_id'], keep='first')\n",
    "\n",
    "    # Add IDF for items and calculate final ranks\n",
    "    recs_with_idf = add_items_idf(recs, train)\n",
    "    \n",
    "    # Normalize IDF for each user\n",
    "    max_idfs = recs_with_idf.groupby('user_id')['idf'].max()\n",
    "    recs_with_idf = recs_with_idf.merge(\n",
    "        max_idfs,\n",
    "        left_on='user_id',\n",
    "        right_index=True,\n",
    "        how='left'\n",
    "    ).rename(columns={'idf_x': 'idf', 'idf_y': 'idf_max'})\n",
    "    recs_with_idf['norm_idf'] = recs_with_idf['idf'] / recs_with_idf['idf_max']\n",
    "\n",
    "    # Calculate ranks based on vanilla IDF\n",
    "    recs_with_idf['rank_idf'] = recs_with_idf['similarity'] * recs_with_idf['idf']\n",
    "    recs_with_idf = recs_with_idf.sort_values(['user_id', 'rank_idf'], ascending=False)\n",
    "    recs_with_idf['rank'] = recs_with_idf.groupby('user_id').cumcount() + 1\n",
    "    model_result = {'name': model_name}\n",
    "    metric_values = calc_metrics(\n",
    "                metrics,\n",
    "                reco=recs_with_idf[recs_with_idf['rank'] < 11], # We need only 10 recs for each user\n",
    "                interactions=test,\n",
    "                prev_interactions=train,\n",
    "                catalog=catalog\n",
    "            )\n",
    "    model_result.update(metric_values)\n",
    "    results.append(model_result)\n",
    "    \n",
    "    # Calculate ranks based on normalized IDF (multiply)\n",
    "    recs_with_idf['rank_idf'] = recs_with_idf['similarity'] * recs_with_idf['norm_idf']\n",
    "    recs_with_idf = recs_with_idf.sort_values(['user_id', 'rank_idf'], ascending=False)\n",
    "    recs_with_idf['rank'] = recs_with_idf.groupby('user_id').cumcount() + 1 \n",
    "    model_result = {'name': f'{model_name}_norm_idf_mult'}\n",
    "    metric_values = calc_metrics(\n",
    "                metrics,\n",
    "                reco=recs_with_idf[recs_with_idf['rank'] < 11], # We need only 10 recs for each user\n",
    "                interactions=test,\n",
    "                prev_interactions=train,\n",
    "                catalog=catalog\n",
    "            )\n",
    "    model_result.update(metric_values)\n",
    "    results.append(model_result)\n",
    "    \n",
    "    # Calculate ranks based on normalized IDF (Additions)\n",
    "    recs_with_idf['rank_idf'] = recs_with_idf['similarity'] + recs_with_idf['norm_idf']\n",
    "    recs_with_idf = recs_with_idf.sort_values(['user_id', 'rank_idf'], ascending=False)\n",
    "    recs_with_idf['rank'] = recs_with_idf.groupby('user_id').cumcount() + 1 \n",
    "    model_result = {'name': f'{model_name}_norm_idf_add'}\n",
    "    metric_values = calc_metrics(\n",
    "                metrics,\n",
    "                reco=recs_with_idf[recs_with_idf['rank'] < 11], # We need only 10 recs for each user\n",
    "                interactions=test,\n",
    "                prev_interactions=train,\n",
    "                catalog=catalog\n",
    "            )\n",
    "    model_result.update(metric_values)\n",
    "    results.append(model_result)"
   ]
  },
  {
   "cell_type": "code",
   "execution_count": 19,
   "id": "b5cfb2e0-6d3b-4aa1-bbba-4cfbe514c712",
   "metadata": {},
   "outputs": [
    {
     "data": {
      "text/html": [
       "<div>\n",
       "<style scoped>\n",
       "    .dataframe tbody tr th:only-of-type {\n",
       "        vertical-align: middle;\n",
       "    }\n",
       "\n",
       "    .dataframe tbody tr th {\n",
       "        vertical-align: top;\n",
       "    }\n",
       "\n",
       "    .dataframe thead th {\n",
       "        text-align: right;\n",
       "    }\n",
       "</style>\n",
       "<table border=\"1\" class=\"dataframe\">\n",
       "  <thead>\n",
       "    <tr style=\"text-align: right;\">\n",
       "      <th></th>\n",
       "      <th>name</th>\n",
       "      <th>prec@10</th>\n",
       "      <th>recall@10</th>\n",
       "      <th>novelty</th>\n",
       "      <th>serendipity</th>\n",
       "    </tr>\n",
       "  </thead>\n",
       "  <tbody>\n",
       "    <tr>\n",
       "      <th>0</th>\n",
       "      <td>Cosine_10</td>\n",
       "      <td>0.003556</td>\n",
       "      <td>0.016221</td>\n",
       "      <td>8.202711</td>\n",
       "      <td>0.000060</td>\n",
       "    </tr>\n",
       "    <tr>\n",
       "      <th>1</th>\n",
       "      <td>Cosine_10_norm_idf_mult</td>\n",
       "      <td>0.003556</td>\n",
       "      <td>0.016221</td>\n",
       "      <td>8.202711</td>\n",
       "      <td>0.000060</td>\n",
       "    </tr>\n",
       "    <tr>\n",
       "      <th>2</th>\n",
       "      <td>Cosine_10_norm_idf_add</td>\n",
       "      <td>0.003539</td>\n",
       "      <td>0.016146</td>\n",
       "      <td>8.207746</td>\n",
       "      <td>0.000059</td>\n",
       "    </tr>\n",
       "    <tr>\n",
       "      <th>3</th>\n",
       "      <td>Cosine_20</td>\n",
       "      <td>0.002736</td>\n",
       "      <td>0.012419</td>\n",
       "      <td>9.021152</td>\n",
       "      <td>0.000063</td>\n",
       "    </tr>\n",
       "    <tr>\n",
       "      <th>4</th>\n",
       "      <td>Cosine_20_norm_idf_mult</td>\n",
       "      <td>0.002736</td>\n",
       "      <td>0.012419</td>\n",
       "      <td>9.021152</td>\n",
       "      <td>0.000063</td>\n",
       "    </tr>\n",
       "    <tr>\n",
       "      <th>5</th>\n",
       "      <td>Cosine_20_norm_idf_add</td>\n",
       "      <td>0.002721</td>\n",
       "      <td>0.012377</td>\n",
       "      <td>9.031966</td>\n",
       "      <td>0.000063</td>\n",
       "    </tr>\n",
       "    <tr>\n",
       "      <th>6</th>\n",
       "      <td>Cosine_50</td>\n",
       "      <td>0.001832</td>\n",
       "      <td>0.008025</td>\n",
       "      <td>10.066978</td>\n",
       "      <td>0.000062</td>\n",
       "    </tr>\n",
       "    <tr>\n",
       "      <th>7</th>\n",
       "      <td>Cosine_50_norm_idf_mult</td>\n",
       "      <td>0.001832</td>\n",
       "      <td>0.008025</td>\n",
       "      <td>10.066978</td>\n",
       "      <td>0.000062</td>\n",
       "    </tr>\n",
       "    <tr>\n",
       "      <th>8</th>\n",
       "      <td>Cosine_50_norm_idf_add</td>\n",
       "      <td>0.001808</td>\n",
       "      <td>0.007937</td>\n",
       "      <td>10.088801</td>\n",
       "      <td>0.000061</td>\n",
       "    </tr>\n",
       "    <tr>\n",
       "      <th>9</th>\n",
       "      <td>Cosine_100</td>\n",
       "      <td>0.001344</td>\n",
       "      <td>0.005731</td>\n",
       "      <td>10.904754</td>\n",
       "      <td>0.000056</td>\n",
       "    </tr>\n",
       "    <tr>\n",
       "      <th>10</th>\n",
       "      <td>Cosine_100_norm_idf_mult</td>\n",
       "      <td>0.001344</td>\n",
       "      <td>0.005731</td>\n",
       "      <td>10.904754</td>\n",
       "      <td>0.000056</td>\n",
       "    </tr>\n",
       "    <tr>\n",
       "      <th>11</th>\n",
       "      <td>Cosine_100_norm_idf_add</td>\n",
       "      <td>0.001319</td>\n",
       "      <td>0.005644</td>\n",
       "      <td>10.942376</td>\n",
       "      <td>0.000054</td>\n",
       "    </tr>\n",
       "    <tr>\n",
       "      <th>12</th>\n",
       "      <td>TFIDF_10</td>\n",
       "      <td>0.004693</td>\n",
       "      <td>0.022396</td>\n",
       "      <td>7.564770</td>\n",
       "      <td>0.000056</td>\n",
       "    </tr>\n",
       "    <tr>\n",
       "      <th>13</th>\n",
       "      <td>TFIDF_10_norm_idf_mult</td>\n",
       "      <td>0.004693</td>\n",
       "      <td>0.022396</td>\n",
       "      <td>7.564770</td>\n",
       "      <td>0.000056</td>\n",
       "    </tr>\n",
       "    <tr>\n",
       "      <th>14</th>\n",
       "      <td>TFIDF_10_norm_idf_add</td>\n",
       "      <td>0.004704</td>\n",
       "      <td>0.022392</td>\n",
       "      <td>7.574683</td>\n",
       "      <td>0.000058</td>\n",
       "    </tr>\n",
       "    <tr>\n",
       "      <th>15</th>\n",
       "      <td>TFIDF_20</td>\n",
       "      <td>0.004327</td>\n",
       "      <td>0.020769</td>\n",
       "      <td>8.131894</td>\n",
       "      <td>0.000069</td>\n",
       "    </tr>\n",
       "    <tr>\n",
       "      <th>16</th>\n",
       "      <td>TFIDF_20_norm_idf_mult</td>\n",
       "      <td>0.004327</td>\n",
       "      <td>0.020769</td>\n",
       "      <td>8.131894</td>\n",
       "      <td>0.000069</td>\n",
       "    </tr>\n",
       "    <tr>\n",
       "      <th>17</th>\n",
       "      <td>TFIDF_20_norm_idf_add</td>\n",
       "      <td>0.004304</td>\n",
       "      <td>0.020651</td>\n",
       "      <td>8.157594</td>\n",
       "      <td>0.000069</td>\n",
       "    </tr>\n",
       "    <tr>\n",
       "      <th>18</th>\n",
       "      <td>TFIDF_50</td>\n",
       "      <td>0.003359</td>\n",
       "      <td>0.016054</td>\n",
       "      <td>9.071508</td>\n",
       "      <td>0.000079</td>\n",
       "    </tr>\n",
       "    <tr>\n",
       "      <th>19</th>\n",
       "      <td>TFIDF_50_norm_idf_mult</td>\n",
       "      <td>0.003359</td>\n",
       "      <td>0.016054</td>\n",
       "      <td>9.071508</td>\n",
       "      <td>0.000079</td>\n",
       "    </tr>\n",
       "    <tr>\n",
       "      <th>20</th>\n",
       "      <td>TFIDF_50_norm_idf_add</td>\n",
       "      <td>0.003293</td>\n",
       "      <td>0.015824</td>\n",
       "      <td>9.137457</td>\n",
       "      <td>0.000077</td>\n",
       "    </tr>\n",
       "    <tr>\n",
       "      <th>21</th>\n",
       "      <td>TFIDF_100</td>\n",
       "      <td>0.002604</td>\n",
       "      <td>0.012091</td>\n",
       "      <td>9.906228</td>\n",
       "      <td>0.000082</td>\n",
       "    </tr>\n",
       "    <tr>\n",
       "      <th>22</th>\n",
       "      <td>TFIDF_100_norm_idf_mult</td>\n",
       "      <td>0.002604</td>\n",
       "      <td>0.012091</td>\n",
       "      <td>9.906228</td>\n",
       "      <td>0.000082</td>\n",
       "    </tr>\n",
       "    <tr>\n",
       "      <th>23</th>\n",
       "      <td>TFIDF_100_norm_idf_add</td>\n",
       "      <td>0.002479</td>\n",
       "      <td>0.011721</td>\n",
       "      <td>10.030464</td>\n",
       "      <td>0.000075</td>\n",
       "    </tr>\n",
       "  </tbody>\n",
       "</table>\n",
       "</div>"
      ],
      "text/plain": [
       "                        name   prec@10  recall@10    novelty  serendipity\n",
       "0                  Cosine_10  0.003556   0.016221   8.202711     0.000060\n",
       "1    Cosine_10_norm_idf_mult  0.003556   0.016221   8.202711     0.000060\n",
       "2     Cosine_10_norm_idf_add  0.003539   0.016146   8.207746     0.000059\n",
       "3                  Cosine_20  0.002736   0.012419   9.021152     0.000063\n",
       "4    Cosine_20_norm_idf_mult  0.002736   0.012419   9.021152     0.000063\n",
       "5     Cosine_20_norm_idf_add  0.002721   0.012377   9.031966     0.000063\n",
       "6                  Cosine_50  0.001832   0.008025  10.066978     0.000062\n",
       "7    Cosine_50_norm_idf_mult  0.001832   0.008025  10.066978     0.000062\n",
       "8     Cosine_50_norm_idf_add  0.001808   0.007937  10.088801     0.000061\n",
       "9                 Cosine_100  0.001344   0.005731  10.904754     0.000056\n",
       "10  Cosine_100_norm_idf_mult  0.001344   0.005731  10.904754     0.000056\n",
       "11   Cosine_100_norm_idf_add  0.001319   0.005644  10.942376     0.000054\n",
       "12                  TFIDF_10  0.004693   0.022396   7.564770     0.000056\n",
       "13    TFIDF_10_norm_idf_mult  0.004693   0.022396   7.564770     0.000056\n",
       "14     TFIDF_10_norm_idf_add  0.004704   0.022392   7.574683     0.000058\n",
       "15                  TFIDF_20  0.004327   0.020769   8.131894     0.000069\n",
       "16    TFIDF_20_norm_idf_mult  0.004327   0.020769   8.131894     0.000069\n",
       "17     TFIDF_20_norm_idf_add  0.004304   0.020651   8.157594     0.000069\n",
       "18                  TFIDF_50  0.003359   0.016054   9.071508     0.000079\n",
       "19    TFIDF_50_norm_idf_mult  0.003359   0.016054   9.071508     0.000079\n",
       "20     TFIDF_50_norm_idf_add  0.003293   0.015824   9.137457     0.000077\n",
       "21                 TFIDF_100  0.002604   0.012091   9.906228     0.000082\n",
       "22   TFIDF_100_norm_idf_mult  0.002604   0.012091   9.906228     0.000082\n",
       "23    TFIDF_100_norm_idf_add  0.002479   0.011721  10.030464     0.000075"
      ]
     },
     "execution_count": 19,
     "metadata": {},
     "output_type": "execute_result"
    }
   ],
   "source": [
    "pd.DataFrame.from_dict(results)"
   ]
  },
  {
   "cell_type": "markdown",
   "id": "e7a1d49f-2bd3-4877-a7c6-388b242455d5",
   "metadata": {},
   "source": [
    "# Best model - TFIDF_10"
   ]
  },
  {
   "cell_type": "code",
   "execution_count": 135,
   "id": "3281dbb5-a536-47f9-aaca-f8cdd87dafcb",
   "metadata": {},
   "outputs": [
    {
     "data": {
      "text/html": [
       "<div>\n",
       "<style scoped>\n",
       "    .dataframe tbody tr th:only-of-type {\n",
       "        vertical-align: middle;\n",
       "    }\n",
       "\n",
       "    .dataframe tbody tr th {\n",
       "        vertical-align: top;\n",
       "    }\n",
       "\n",
       "    .dataframe thead th {\n",
       "        text-align: right;\n",
       "    }\n",
       "</style>\n",
       "<table border=\"1\" class=\"dataframe\">\n",
       "  <thead>\n",
       "    <tr style=\"text-align: right;\">\n",
       "      <th></th>\n",
       "      <th>user_id</th>\n",
       "      <th>similar_user_id</th>\n",
       "      <th>similarity</th>\n",
       "      <th>item_id</th>\n",
       "      <th>idf</th>\n",
       "      <th>rank_idf</th>\n",
       "      <th>rank</th>\n",
       "      <th>idf_max</th>\n",
       "      <th>norm_idf</th>\n",
       "    </tr>\n",
       "  </thead>\n",
       "  <tbody>\n",
       "    <tr>\n",
       "      <th>4</th>\n",
       "      <td>1097557</td>\n",
       "      <td>816790</td>\n",
       "      <td>0.968389</td>\n",
       "      <td>16509</td>\n",
       "      <td>6.371188</td>\n",
       "      <td>6.169792</td>\n",
       "      <td>1</td>\n",
       "      <td>6.371188</td>\n",
       "      <td>1.000000</td>\n",
       "    </tr>\n",
       "    <tr>\n",
       "      <th>1</th>\n",
       "      <td>1097557</td>\n",
       "      <td>991816</td>\n",
       "      <td>0.968476</td>\n",
       "      <td>3182</td>\n",
       "      <td>6.171464</td>\n",
       "      <td>5.976913</td>\n",
       "      <td>2</td>\n",
       "      <td>6.371188</td>\n",
       "      <td>0.968652</td>\n",
       "    </tr>\n",
       "    <tr>\n",
       "      <th>2</th>\n",
       "      <td>1097557</td>\n",
       "      <td>816790</td>\n",
       "      <td>0.968389</td>\n",
       "      <td>6192</td>\n",
       "      <td>6.084136</td>\n",
       "      <td>5.891813</td>\n",
       "      <td>3</td>\n",
       "      <td>6.371188</td>\n",
       "      <td>0.954945</td>\n",
       "    </tr>\n",
       "    <tr>\n",
       "      <th>3</th>\n",
       "      <td>1097557</td>\n",
       "      <td>816790</td>\n",
       "      <td>0.968389</td>\n",
       "      <td>4151</td>\n",
       "      <td>4.086500</td>\n",
       "      <td>3.957324</td>\n",
       "      <td>4</td>\n",
       "      <td>6.371188</td>\n",
       "      <td>0.641403</td>\n",
       "    </tr>\n",
       "    <tr>\n",
       "      <th>5</th>\n",
       "      <td>1097557</td>\n",
       "      <td>850075</td>\n",
       "      <td>0.923018</td>\n",
       "      <td>9728</td>\n",
       "      <td>3.796473</td>\n",
       "      <td>3.504212</td>\n",
       "      <td>5</td>\n",
       "      <td>6.371188</td>\n",
       "      <td>0.595881</td>\n",
       "    </tr>\n",
       "    <tr>\n",
       "      <th>...</th>\n",
       "      <td>...</td>\n",
       "      <td>...</td>\n",
       "      <td>...</td>\n",
       "      <td>...</td>\n",
       "      <td>...</td>\n",
       "      <td>...</td>\n",
       "      <td>...</td>\n",
       "      <td>...</td>\n",
       "      <td>...</td>\n",
       "    </tr>\n",
       "    <tr>\n",
       "      <th>7561571</th>\n",
       "      <td>0</td>\n",
       "      <td>4112</td>\n",
       "      <td>0.719012</td>\n",
       "      <td>849</td>\n",
       "      <td>5.884698</td>\n",
       "      <td>4.231168</td>\n",
       "      <td>6</td>\n",
       "      <td>9.832989</td>\n",
       "      <td>0.598465</td>\n",
       "    </tr>\n",
       "    <tr>\n",
       "      <th>7561573</th>\n",
       "      <td>0</td>\n",
       "      <td>1024203</td>\n",
       "      <td>0.710033</td>\n",
       "      <td>12192</td>\n",
       "      <td>5.101967</td>\n",
       "      <td>3.622563</td>\n",
       "      <td>7</td>\n",
       "      <td>9.832989</td>\n",
       "      <td>0.518862</td>\n",
       "    </tr>\n",
       "    <tr>\n",
       "      <th>7561568</th>\n",
       "      <td>0</td>\n",
       "      <td>341571</td>\n",
       "      <td>0.746481</td>\n",
       "      <td>3734</td>\n",
       "      <td>4.298216</td>\n",
       "      <td>3.208536</td>\n",
       "      <td>8</td>\n",
       "      <td>9.832989</td>\n",
       "      <td>0.437122</td>\n",
       "    </tr>\n",
       "    <tr>\n",
       "      <th>7561567</th>\n",
       "      <td>0</td>\n",
       "      <td>341571</td>\n",
       "      <td>0.746481</td>\n",
       "      <td>9728</td>\n",
       "      <td>3.796473</td>\n",
       "      <td>2.833994</td>\n",
       "      <td>9</td>\n",
       "      <td>9.832989</td>\n",
       "      <td>0.386096</td>\n",
       "    </tr>\n",
       "    <tr>\n",
       "      <th>7561570</th>\n",
       "      <td>0</td>\n",
       "      <td>997824</td>\n",
       "      <td>0.721065</td>\n",
       "      <td>15297</td>\n",
       "      <td>3.375019</td>\n",
       "      <td>2.433606</td>\n",
       "      <td>10</td>\n",
       "      <td>9.832989</td>\n",
       "      <td>0.343234</td>\n",
       "    </tr>\n",
       "  </tbody>\n",
       "</table>\n",
       "<p>4083080 rows × 9 columns</p>\n",
       "</div>"
      ],
      "text/plain": [
       "         user_id similar_user_id similarity item_id       idf  rank_idf  rank  \\\n",
       "4        1097557          816790   0.968389   16509  6.371188  6.169792     1   \n",
       "1        1097557          991816   0.968476    3182  6.171464  5.976913     2   \n",
       "2        1097557          816790   0.968389    6192  6.084136  5.891813     3   \n",
       "3        1097557          816790   0.968389    4151  4.086500  3.957324     4   \n",
       "5        1097557          850075   0.923018    9728  3.796473  3.504212     5   \n",
       "...          ...             ...        ...     ...       ...       ...   ...   \n",
       "7561571        0            4112   0.719012     849  5.884698  4.231168     6   \n",
       "7561573        0         1024203   0.710033   12192  5.101967  3.622563     7   \n",
       "7561568        0          341571   0.746481    3734  4.298216  3.208536     8   \n",
       "7561567        0          341571   0.746481    9728  3.796473  2.833994     9   \n",
       "7561570        0          997824   0.721065   15297  3.375019  2.433606    10   \n",
       "\n",
       "          idf_max  norm_idf  \n",
       "4        6.371188  1.000000  \n",
       "1        6.371188  0.968652  \n",
       "2        6.371188  0.954945  \n",
       "3        6.371188  0.641403  \n",
       "5        6.371188  0.595881  \n",
       "...           ...       ...  \n",
       "7561571  9.832989  0.598465  \n",
       "7561573  9.832989  0.518862  \n",
       "7561568  9.832989  0.437122  \n",
       "7561567  9.832989  0.386096  \n",
       "7561570  9.832989  0.343234  \n",
       "\n",
       "[4083080 rows x 9 columns]"
      ]
     },
     "execution_count": 135,
     "metadata": {},
     "output_type": "execute_result"
    }
   ],
   "source": [
    "model = models['TFIDF_10']\n",
    "\n",
    "mapper = generate_implicit_recs_mapper(\n",
    "        model, \n",
    "        N=model.K,\n",
    "        users_mapping=users_mapping,\n",
    "        users_inv_mapping=users_inv_mapping\n",
    "    )\n",
    "\n",
    "all_data = pd.concat([train, test])\n",
    "\n",
    "recs = pd.DataFrame({\n",
    "    'user_id': all_data['user_id'].unique()\n",
    "})\n",
    "\n",
    "recs['similar_user_id'], recs['similarity'] = zip(*recs['user_id'].map(mapper))\n",
    "\n",
    "# explode lists to get vertical representation\n",
    "recs = recs.set_index('user_id').apply(pd.Series.explode).reset_index()\n",
    "# delete recommendations of itself  \n",
    "recs = recs[~(recs['user_id']==recs['similar_user_id'])]\n",
    "\n",
    "# Join watched items of neighbour users to get item recommendations\n",
    "watched_items = all_data.groupby('user_id').agg({'item_id': list})\n",
    "recs = recs.merge(watched_items, left_on=['similar_user_id'], right_on=['user_id'], how='left')\n",
    "recs = recs.explode('item_id')\n",
    "\n",
    "# Sort and keep only pairs user_id - item_id with highest users similarity\n",
    "recs = recs.sort_values(['user_id', 'similarity'], ascending=False)\n",
    "recs = recs.drop_duplicates(['user_id', 'item_id'], keep='first')\n",
    "\n",
    "# Add IDF for items and calculate final ranks\n",
    "recs_with_idf = add_items_idf(recs, all_data)\n",
    "recs_with_idf['rank_idf'] = recs_with_idf['similarity'] * recs_with_idf['idf']\n",
    "recs_with_idf = recs_with_idf.sort_values(['user_id', 'rank_idf'], ascending=False)\n",
    "\n",
    "# Calculate final ranks\n",
    "recs_with_idf['rank'] = recs_with_idf.groupby('user_id').cumcount() + 1 \n",
    "\n",
    "# We need only 10 recs for each user\n",
    "recs_with_idf = recs_with_idf[recs_with_idf['rank'] < 11]\n",
    "    \n",
    "max_idfs = recs_with_idf.groupby('user_id')['idf'].max()\n",
    "recs_with_idf = recs_with_idf.merge(\n",
    "    max_idfs,\n",
    "    left_on='user_id',\n",
    "    right_index=True,\n",
    "    how='left'\n",
    ").rename(columns={'idf_x': 'idf', 'idf_y': 'idf_max'})\n",
    "recs_with_idf['norm_idf'] = recs_with_idf['idf'] / recs_with_idf['idf_max']\n",
    "recs_with_idf"
   ]
  },
  {
   "cell_type": "markdown",
   "id": "006661c7-b67f-405c-88bd-07a10dcf22b4",
   "metadata": {},
   "source": [
    "# Save offline recs"
   ]
  },
  {
   "cell_type": "code",
   "execution_count": null,
   "id": "e9b60de4-cafa-4e7c-a03e-f358911592ae",
   "metadata": {},
   "outputs": [],
   "source": [
    "groups_for_offline = recs_with_idf.groupby('user_id')['item_id'].agg(list)"
   ]
  },
  {
   "cell_type": "code",
   "execution_count": 142,
   "id": "cb23e619-83cc-43e1-8de1-6032000b63c3",
   "metadata": {
    "scrolled": true,
    "tags": []
   },
   "outputs": [],
   "source": [
    "tfidf_offline_recs = groups_for_offline.to_dict()"
   ]
  },
  {
   "cell_type": "code",
   "execution_count": 90,
   "id": "32c1d95c-0ceb-4211-8a4f-be285468bada",
   "metadata": {},
   "outputs": [
    {
     "name": "stderr",
     "output_type": "stream",
     "text": [
      "100%|██████████████████████████████████████████████████████████████████████████████████████████████████████████████| 842053/842053 [23:46<00:00, 590.37it/s]\n"
     ]
    }
   ],
   "source": [
    "tfidf_offline_recs = {}\n",
    "for user in tqdm.tqdm(recs_with_idf['user_id'].unique()):\n",
    "    tfidf_offline_recs[user] = recs_with_idf[recs_with_idf['user_id']==user]['item_id'].values"
   ]
  },
  {
   "cell_type": "markdown",
   "id": "05d07833-85b0-410f-8b41-563a107bf8f4",
   "metadata": {},
   "source": [
    "## Задание в тесте вас ждут холодные пользователи. Сделайте рекомендации для них (обратите внимание на rectools.models.popular) (2 балла)\n",
    "\n",
    "- в сервисе для холодных пользователей мы возвращаем 10 популярных"
   ]
  },
  {
   "cell_type": "code",
   "execution_count": 91,
   "id": "e45c98f7-abf5-4578-b10f-00fc10afc1ac",
   "metadata": {},
   "outputs": [
    {
     "data": {
      "text/plain": [
       "[10440,\n",
       " 15297,\n",
       " 9728,\n",
       " 13865,\n",
       " 4151,\n",
       " 3734,\n",
       " 2657,\n",
       " 4880,\n",
       " 142,\n",
       " 6809,\n",
       " 12192,\n",
       " 9996,\n",
       " 8636,\n",
       " 4740,\n",
       " 7571,\n",
       " 11237,\n",
       " 1844,\n",
       " 12995,\n",
       " 4457,\n",
       " 14431]"
      ]
     },
     "execution_count": 91,
     "metadata": {},
     "output_type": "execute_result"
    }
   ],
   "source": [
    "popular_items = list(popular_recommendations.head(20)['item_id'].values)\n",
    "popular_items"
   ]
  },
  {
   "cell_type": "markdown",
   "id": "920dbfad-f959-47a4-b6e1-a6a98c654773",
   "metadata": {},
   "source": [
    "## ЗАДАНИЕ: сделать кол-во рекомендаций не меньше N (2 балла)"
   ]
  },
  {
   "cell_type": "code",
   "execution_count": 24,
   "id": "7ad75c1c-835d-424c-819b-55e9353a357e",
   "metadata": {
    "scrolled": true,
    "tags": []
   },
   "outputs": [],
   "source": [
    "# Let's add popular items in case user has few recommendations\n",
    "\n",
    "# for user in tfidf_offline_recs:\n",
    "#     tfidf_offline_recs[user] = list(tfidf_offline_recs[user])\n",
    "#     user_recs = tfidf_offline_recs[user]\n",
    "#     i = 0\n",
    "#     while len(user_recs) < 10:\n",
    "#         if popular_items[i] not in user_recs:\n",
    "#             user_recs.append(popular_items[i])\n",
    "#         i += 1"
   ]
  },
  {
   "cell_type": "code",
   "execution_count": 152,
   "id": "e2b93f2d-acb3-4c8f-a21f-5f6fb19dddb8",
   "metadata": {},
   "outputs": [],
   "source": [
    "with open(models_dir / 'tfidf_idf_10_offline.pkl', 'wb') as f:\n",
    "    pickle.dump(tfidf_offline_recs, f, protocol=pickle.HIGHEST_PROTOCOL)"
   ]
  },
  {
   "cell_type": "markdown",
   "id": "901c8c61-5696-4ecc-8973-f745f4e58e33",
   "metadata": {},
   "source": [
    "## Save artifacts for online recommender"
   ]
  },
  {
   "cell_type": "code",
   "execution_count": 24,
   "id": "d6172e73-f3bd-44f6-9999-5a0a3fb04751",
   "metadata": {},
   "outputs": [],
   "source": [
    "with open(models_dir / 'popular.pkl', 'wb') as f:\n",
    "    pickle.dump(popular_items, f, protocol=pickle.HIGHEST_PROTOCOL)"
   ]
  },
  {
   "cell_type": "code",
   "execution_count": 103,
   "id": "05f85259-a07b-4f55-8531-446d1a664735",
   "metadata": {},
   "outputs": [],
   "source": [
    "# Save train_test\n",
    "pd.concat([train, test]).to_csv(models_dir / 'train.csv', index=False)"
   ]
  },
  {
   "cell_type": "markdown",
   "id": "b44f78cb-a0b4-4dcb-97c0-3837cec60166",
   "metadata": {},
   "source": [
    "# Debug"
   ]
  },
  {
   "cell_type": "code",
   "execution_count": 93,
   "id": "1ecd3075-e452-4045-b66e-bbbd861b18a7",
   "metadata": {},
   "outputs": [
    {
     "name": "stdout",
     "output_type": "stream",
     "text": [
      "The autoreload extension is already loaded. To reload it, use:\n",
      "  %reload_ext autoreload\n"
     ]
    }
   ],
   "source": [
    "%load_ext autoreload \n",
    "%autoreload 2\n",
    "\n",
    "# Добавляем путь к основной папке проекта, чтобы иметь возможность делать импорт из src\n",
    "import os\n",
    "import sys\n",
    "module_path = os.path.abspath(os.path.join('..'))\n",
    "if module_path not in sys.path:\n",
    "    sys.path.append(module_path)"
   ]
  },
  {
   "cell_type": "code",
   "execution_count": 154,
   "id": "599102b3-c1c4-417f-996c-3ea9f65e239a",
   "metadata": {},
   "outputs": [],
   "source": [
    "from service.userknn import OnlineUserKnnRecommender, OfflineRecommender"
   ]
  },
  {
   "cell_type": "code",
   "execution_count": 145,
   "id": "17a8eb71-69d2-401f-aa06-47de916d817e",
   "metadata": {},
   "outputs": [],
   "source": [
    "online_model = OnlineUserKnnRecommender(\n",
    "    'TFIDF_10.dill',\n",
    "    Path('../models'),\n",
    "    'train.csv'\n",
    ")"
   ]
  },
  {
   "cell_type": "code",
   "execution_count": 155,
   "id": "fdc1de28-e641-4945-9d23-ad9a43aa0f5c",
   "metadata": {},
   "outputs": [],
   "source": [
    "offline_model = OfflineRecommender(\n",
    "    'tfidf_idf_10_offline.pkl',\n",
    "    Path('../models'),\n",
    "    'popular.pkl'\n",
    ")"
   ]
  },
  {
   "cell_type": "code",
   "execution_count": 161,
   "id": "d1622ba3-edc5-4f0b-9739-d9ab45d8f6dc",
   "metadata": {},
   "outputs": [
    {
     "name": "stderr",
     "output_type": "stream",
     "text": [
      "100%|████████████████████████████████████████████████████████████████████████████████████████████████████████████████| 10000/10000 [01:18<00:00, 127.34it/s]\n"
     ]
    }
   ],
   "source": [
    "different_recs = []\n",
    "\n",
    "for user in tqdm.tqdm(pd.concat([train, test])['user_id'].unique()[:10000]):\n",
    "    online = online_model.recommend(user)\n",
    "    offline = offline_model.recommend(user)\n",
    "    if set(online) != set(offline):\n",
    "        different_recs.append(user)"
   ]
  },
  {
   "cell_type": "code",
   "execution_count": 162,
   "id": "c3dfae20-8ebd-47d7-8e60-315cf5eb66a0",
   "metadata": {},
   "outputs": [
    {
     "data": {
      "text/plain": [
       "0"
      ]
     },
     "execution_count": 162,
     "metadata": {},
     "output_type": "execute_result"
    }
   ],
   "source": [
    "len(different_recs)"
   ]
  }
 ],
 "metadata": {
  "kernelspec": {
   "display_name": "Python 3 (ipykernel)",
   "language": "python",
   "name": "python3"
  },
  "language_info": {
   "codemirror_mode": {
    "name": "ipython",
    "version": 3
   },
   "file_extension": ".py",
   "mimetype": "text/x-python",
   "name": "python",
   "nbconvert_exporter": "python",
   "pygments_lexer": "ipython3",
   "version": "3.8.14"
  }
 },
 "nbformat": 4,
 "nbformat_minor": 5
}
