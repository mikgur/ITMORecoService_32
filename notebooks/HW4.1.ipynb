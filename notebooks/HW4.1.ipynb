{
 "cells": [
  {
   "cell_type": "markdown",
   "id": "ca11cb17",
   "metadata": {},
   "source": [
    "# ALS, BPR Matrix Factorization"
   ]
  },
  {
   "cell_type": "code",
   "execution_count": 1,
   "id": "806713b3",
   "metadata": {},
   "outputs": [],
   "source": [
    "#To run learning procedures faster (to run them in a parellel)\n",
    "import os\n",
    "os.environ[\"OPENBLAS_NUM_THREADS\"] = \"1\" "
   ]
  },
  {
   "cell_type": "code",
   "execution_count": 2,
   "id": "a1c4d6e1",
   "metadata": {},
   "outputs": [
    {
     "name": "stderr",
     "output_type": "stream",
     "text": [
      "Your CPU supports instructions that this binary was not compiled to use: SSE3 SSE4.1 SSE4.2 AVX AVX2\n",
      "For maximum performance, you can install NMSLIB from sources \n",
      "pip install --no-binary :all: nmslib\n"
     ]
    }
   ],
   "source": [
    "import time\n",
    "\n",
    "#importing requirments\n",
    "import dill\n",
    "import pandas as pd\n",
    "import numpy as np\n",
    "\n",
    "from implicit.als import AlternatingLeastSquares\n",
    "\n",
    "from rectools.metrics import Precision, Recall, MAP, calc_metrics\n",
    "from rectools.models import PopularModel, RandomModel, ImplicitALSWrapperModel\n",
    "from rectools import Columns\n",
    "from rectools.dataset import Dataset\n",
    "from rectools.models import ImplicitALSWrapperModel, LightFMWrapperModel\n",
    "\n",
    "import matplotlib.pyplot as plt\n",
    "import seaborn as sns\n",
    "\n",
    "import matplotlib.pyplot as plt\n",
    "import nmslib\n",
    "from pathlib import Path\n",
    "import typing as tp\n",
    "from tqdm import tqdm\n",
    "\n",
    "from lightfm import LightFM\n",
    "\n",
    "from implicit.bpr import BayesianPersonalizedRanking\n",
    "\n",
    "from implicit.lmf import LogisticMatrixFactorization"
   ]
  },
  {
   "cell_type": "markdown",
   "id": "19251deb",
   "metadata": {},
   "source": [
    "# 1. Load data:"
   ]
  },
  {
   "cell_type": "code",
   "execution_count": 3,
   "id": "0a311d90-6468-437d-81f6-0b98fb38c4a9",
   "metadata": {},
   "outputs": [
    {
     "name": "stdout",
     "output_type": "stream",
     "text": [
      "mkdir: cannot create directory ‘../data’: File exists\n"
     ]
    }
   ],
   "source": [
    "!mkdir ../data"
   ]
  },
  {
   "cell_type": "code",
   "execution_count": null,
   "id": "b99dfb88-e4e6-457c-99b6-3121bbe680dd",
   "metadata": {},
   "outputs": [],
   "source": [
    "!wget https://storage.yandexcloud.net/itmo-recsys-public-data/kion_train.zip -O ../data/data_original.zip"
   ]
  },
  {
   "cell_type": "code",
   "execution_count": null,
   "id": "1a538e3d-e560-4122-8ab8-567de4fc40da",
   "metadata": {},
   "outputs": [],
   "source": [
    "!unzip ../data/data_original.zip -d ../data"
   ]
  },
  {
   "cell_type": "code",
   "execution_count": 4,
   "id": "85c077a7",
   "metadata": {},
   "outputs": [],
   "source": [
    "interactions = pd.read_csv('../data/kion_train/interactions.csv')\n",
    "users = pd.read_csv('../data/kion_train/users.csv')\n",
    "items = pd.read_csv('../data/kion_train/items.csv')"
   ]
  },
  {
   "cell_type": "markdown",
   "id": "6ea76db9",
   "metadata": {},
   "source": [
    "# 2. Data vizualization"
   ]
  },
  {
   "cell_type": "markdown",
   "id": "d0bfdf86",
   "metadata": {},
   "source": [
    "### Users"
   ]
  },
  {
   "cell_type": "code",
   "execution_count": 5,
   "id": "b026f38b",
   "metadata": {},
   "outputs": [
    {
     "data": {
      "text/html": [
       "<div>\n",
       "<style scoped>\n",
       "    .dataframe tbody tr th:only-of-type {\n",
       "        vertical-align: middle;\n",
       "    }\n",
       "\n",
       "    .dataframe tbody tr th {\n",
       "        vertical-align: top;\n",
       "    }\n",
       "\n",
       "    .dataframe thead th {\n",
       "        text-align: right;\n",
       "    }\n",
       "</style>\n",
       "<table border=\"1\" class=\"dataframe\">\n",
       "  <thead>\n",
       "    <tr style=\"text-align: right;\">\n",
       "      <th></th>\n",
       "      <th>user_id</th>\n",
       "      <th>age</th>\n",
       "      <th>income</th>\n",
       "      <th>sex</th>\n",
       "      <th>kids_flg</th>\n",
       "    </tr>\n",
       "  </thead>\n",
       "  <tbody>\n",
       "    <tr>\n",
       "      <th>0</th>\n",
       "      <td>973171</td>\n",
       "      <td>age_25_34</td>\n",
       "      <td>income_60_90</td>\n",
       "      <td>М</td>\n",
       "      <td>1</td>\n",
       "    </tr>\n",
       "    <tr>\n",
       "      <th>1</th>\n",
       "      <td>962099</td>\n",
       "      <td>age_18_24</td>\n",
       "      <td>income_20_40</td>\n",
       "      <td>М</td>\n",
       "      <td>0</td>\n",
       "    </tr>\n",
       "    <tr>\n",
       "      <th>2</th>\n",
       "      <td>1047345</td>\n",
       "      <td>age_45_54</td>\n",
       "      <td>income_40_60</td>\n",
       "      <td>Ж</td>\n",
       "      <td>0</td>\n",
       "    </tr>\n",
       "    <tr>\n",
       "      <th>3</th>\n",
       "      <td>721985</td>\n",
       "      <td>age_45_54</td>\n",
       "      <td>income_20_40</td>\n",
       "      <td>Ж</td>\n",
       "      <td>0</td>\n",
       "    </tr>\n",
       "    <tr>\n",
       "      <th>4</th>\n",
       "      <td>704055</td>\n",
       "      <td>age_35_44</td>\n",
       "      <td>income_60_90</td>\n",
       "      <td>Ж</td>\n",
       "      <td>0</td>\n",
       "    </tr>\n",
       "  </tbody>\n",
       "</table>\n",
       "</div>"
      ],
      "text/plain": [
       "   user_id        age        income sex  kids_flg\n",
       "0   973171  age_25_34  income_60_90   М         1\n",
       "1   962099  age_18_24  income_20_40   М         0\n",
       "2  1047345  age_45_54  income_40_60   Ж         0\n",
       "3   721985  age_45_54  income_20_40   Ж         0\n",
       "4   704055  age_35_44  income_60_90   Ж         0"
      ]
     },
     "execution_count": 5,
     "metadata": {},
     "output_type": "execute_result"
    }
   ],
   "source": [
    "users.head()"
   ]
  },
  {
   "cell_type": "code",
   "execution_count": 6,
   "id": "47d76ed7",
   "metadata": {},
   "outputs": [
    {
     "name": "stdout",
     "output_type": "stream",
     "text": [
      "Всего уникальных пользователей: 840,197\n"
     ]
    }
   ],
   "source": [
    "# Number of unique users\n",
    "print(f\"Всего уникальных пользователей: {users[Columns.User].nunique():,}\")"
   ]
  },
  {
   "cell_type": "code",
   "execution_count": 7,
   "id": "7533cede",
   "metadata": {},
   "outputs": [],
   "source": [
    "# Callable def for a bar chart\n",
    "def plot_normalized_barh_chart(\n",
    "    dataframe: pd.DataFrame,\n",
    "    column_name: str,\n",
    "    title: str,\n",
    "    figsize: tp.Tuple[int, int] = (12, 7),\n",
    "    annotate_chart: bool = True,\n",
    "    xlabel: tp.Optional[str] = None,\n",
    "    ylabel: tp.Optional[str] = None,\n",
    ") -> plt.Axes.axes:\n",
    "    ax = (\n",
    "        dataframe[column_name]\n",
    "        .value_counts(dropna=False, normalize=True)\n",
    "        .sort_index()\n",
    "        .plot(\n",
    "            kind='barh',\n",
    "            grid=True,\n",
    "            title=title,\n",
    "            figsize=figsize,\n",
    "            xlabel=xlabel,\n",
    "            ylabel=ylabel,\n",
    "        )\n",
    "    )\n",
    "\n",
    "    if annotate_chart:\n",
    "        for bars in ax.containers:\n",
    "            ax.bar_label(bars, labels=[f'{x:.1%}' for x in bars.datavalues])"
   ]
  },
  {
   "cell_type": "code",
   "execution_count": 8,
   "id": "8d46ab6f",
   "metadata": {},
   "outputs": [],
   "source": [
    "# Mapping objects on an iterable column\n",
    "users['sex'] = users['sex'].map({'Ж': 1, 'М': 0})"
   ]
  },
  {
   "cell_type": "code",
   "execution_count": 9,
   "id": "c66876a5",
   "metadata": {},
   "outputs": [
    {
     "data": {
      "image/png": "[encoded data removed]",
      "text/plain": [
       "<Figure size 1200x700 with 1 Axes>"
      ]
     },
     "metadata": {},
     "output_type": "display_data"
    }
   ],
   "source": [
    "# Calling a bar chart vizualisation for users.csv by sex column\n",
    "plot_normalized_barh_chart(users, 'sex', 'Расределение мужчин и женщин')"
   ]
  },
  {
   "cell_type": "markdown",
   "id": "c70d0df8",
   "metadata": {},
   "source": [
    "### Items"
   ]
  },
  {
   "cell_type": "code",
   "execution_count": 10,
   "id": "077c3ec8",
   "metadata": {},
   "outputs": [
    {
     "data": {
      "text/html": [
       "<div>\n",
       "<style scoped>\n",
       "    .dataframe tbody tr th:only-of-type {\n",
       "        vertical-align: middle;\n",
       "    }\n",
       "\n",
       "    .dataframe tbody tr th {\n",
       "        vertical-align: top;\n",
       "    }\n",
       "\n",
       "    .dataframe thead th {\n",
       "        text-align: right;\n",
       "    }\n",
       "</style>\n",
       "<table border=\"1\" class=\"dataframe\">\n",
       "  <thead>\n",
       "    <tr style=\"text-align: right;\">\n",
       "      <th></th>\n",
       "      <th>item_id</th>\n",
       "      <th>content_type</th>\n",
       "      <th>title</th>\n",
       "      <th>title_orig</th>\n",
       "      <th>release_year</th>\n",
       "      <th>genres</th>\n",
       "      <th>countries</th>\n",
       "      <th>for_kids</th>\n",
       "      <th>age_rating</th>\n",
       "      <th>studios</th>\n",
       "      <th>directors</th>\n",
       "      <th>actors</th>\n",
       "      <th>description</th>\n",
       "      <th>keywords</th>\n",
       "    </tr>\n",
       "  </thead>\n",
       "  <tbody>\n",
       "    <tr>\n",
       "      <th>0</th>\n",
       "      <td>10711</td>\n",
       "      <td>film</td>\n",
       "      <td>Поговори с ней</td>\n",
       "      <td>Hable con ella</td>\n",
       "      <td>2002.0</td>\n",
       "      <td>драмы, зарубежные, детективы, мелодрамы</td>\n",
       "      <td>Испания</td>\n",
       "      <td>NaN</td>\n",
       "      <td>16.0</td>\n",
       "      <td>NaN</td>\n",
       "      <td>Педро Альмодовар</td>\n",
       "      <td>Адольфо Фернандес, Ана Фернандес, Дарио Гранди...</td>\n",
       "      <td>Мелодрама легендарного Педро Альмодовара «Пого...</td>\n",
       "      <td>Поговори, ней, 2002, Испания, друзья, любовь, ...</td>\n",
       "    </tr>\n",
       "    <tr>\n",
       "      <th>1</th>\n",
       "      <td>2508</td>\n",
       "      <td>film</td>\n",
       "      <td>Голые перцы</td>\n",
       "      <td>Search Party</td>\n",
       "      <td>2014.0</td>\n",
       "      <td>зарубежные, приключения, комедии</td>\n",
       "      <td>США</td>\n",
       "      <td>NaN</td>\n",
       "      <td>16.0</td>\n",
       "      <td>NaN</td>\n",
       "      <td>Скот Армстронг</td>\n",
       "      <td>Адам Палли, Брайан Хаски, Дж.Б. Смув, Джейсон ...</td>\n",
       "      <td>Уморительная современная комедия на популярную...</td>\n",
       "      <td>Голые, перцы, 2014, США, друзья, свадьбы, прео...</td>\n",
       "    </tr>\n",
       "    <tr>\n",
       "      <th>2</th>\n",
       "      <td>10716</td>\n",
       "      <td>film</td>\n",
       "      <td>Тактическая сила</td>\n",
       "      <td>Tactical Force</td>\n",
       "      <td>2011.0</td>\n",
       "      <td>криминал, зарубежные, триллеры, боевики, комедии</td>\n",
       "      <td>Канада</td>\n",
       "      <td>NaN</td>\n",
       "      <td>16.0</td>\n",
       "      <td>NaN</td>\n",
       "      <td>Адам П. Калтраро</td>\n",
       "      <td>Адриан Холмс, Даррен Шалави, Джерри Вассерман,...</td>\n",
       "      <td>Профессиональный рестлер Стив Остин («Все или ...</td>\n",
       "      <td>Тактическая, сила, 2011, Канада, бандиты, ганг...</td>\n",
       "    </tr>\n",
       "    <tr>\n",
       "      <th>3</th>\n",
       "      <td>7868</td>\n",
       "      <td>film</td>\n",
       "      <td>45 лет</td>\n",
       "      <td>45 Years</td>\n",
       "      <td>2015.0</td>\n",
       "      <td>драмы, зарубежные, мелодрамы</td>\n",
       "      <td>Великобритания</td>\n",
       "      <td>NaN</td>\n",
       "      <td>16.0</td>\n",
       "      <td>NaN</td>\n",
       "      <td>Эндрю Хэй</td>\n",
       "      <td>Александра Риддлстон-Барретт, Джеральдин Джейм...</td>\n",
       "      <td>Шарлотта Рэмплинг, Том Кортни, Джеральдин Джей...</td>\n",
       "      <td>45, лет, 2015, Великобритания, брак, жизнь, лю...</td>\n",
       "    </tr>\n",
       "    <tr>\n",
       "      <th>4</th>\n",
       "      <td>16268</td>\n",
       "      <td>film</td>\n",
       "      <td>Все решает мгновение</td>\n",
       "      <td>NaN</td>\n",
       "      <td>1978.0</td>\n",
       "      <td>драмы, спорт, советские, мелодрамы</td>\n",
       "      <td>СССР</td>\n",
       "      <td>NaN</td>\n",
       "      <td>12.0</td>\n",
       "      <td>Ленфильм</td>\n",
       "      <td>Виктор Садовский</td>\n",
       "      <td>Александр Абдулов, Александр Демьяненко, Алекс...</td>\n",
       "      <td>Расчетливая чаровница из советского кинохита «...</td>\n",
       "      <td>Все, решает, мгновение, 1978, СССР, сильные, ж...</td>\n",
       "    </tr>\n",
       "  </tbody>\n",
       "</table>\n",
       "</div>"
      ],
      "text/plain": [
       "   item_id content_type                 title      title_orig  release_year  \\\n",
       "0    10711         film        Поговори с ней  Hable con ella        2002.0   \n",
       "1     2508         film           Голые перцы    Search Party        2014.0   \n",
       "2    10716         film      Тактическая сила  Tactical Force        2011.0   \n",
       "3     7868         film                45 лет        45 Years        2015.0   \n",
       "4    16268         film  Все решает мгновение             NaN        1978.0   \n",
       "\n",
       "                                             genres       countries  for_kids  \\\n",
       "0           драмы, зарубежные, детективы, мелодрамы         Испания       NaN   \n",
       "1                  зарубежные, приключения, комедии             США       NaN   \n",
       "2  криминал, зарубежные, триллеры, боевики, комедии          Канада       NaN   \n",
       "3                      драмы, зарубежные, мелодрамы  Великобритания       NaN   \n",
       "4                драмы, спорт, советские, мелодрамы            СССР       NaN   \n",
       "\n",
       "   age_rating   studios         directors  \\\n",
       "0        16.0       NaN  Педро Альмодовар   \n",
       "1        16.0       NaN    Скот Армстронг   \n",
       "2        16.0       NaN  Адам П. Калтраро   \n",
       "3        16.0       NaN         Эндрю Хэй   \n",
       "4        12.0  Ленфильм  Виктор Садовский   \n",
       "\n",
       "                                              actors  \\\n",
       "0  Адольфо Фернандес, Ана Фернандес, Дарио Гранди...   \n",
       "1  Адам Палли, Брайан Хаски, Дж.Б. Смув, Джейсон ...   \n",
       "2  Адриан Холмс, Даррен Шалави, Джерри Вассерман,...   \n",
       "3  Александра Риддлстон-Барретт, Джеральдин Джейм...   \n",
       "4  Александр Абдулов, Александр Демьяненко, Алекс...   \n",
       "\n",
       "                                         description  \\\n",
       "0  Мелодрама легендарного Педро Альмодовара «Пого...   \n",
       "1  Уморительная современная комедия на популярную...   \n",
       "2  Профессиональный рестлер Стив Остин («Все или ...   \n",
       "3  Шарлотта Рэмплинг, Том Кортни, Джеральдин Джей...   \n",
       "4  Расчетливая чаровница из советского кинохита «...   \n",
       "\n",
       "                                            keywords  \n",
       "0  Поговори, ней, 2002, Испания, друзья, любовь, ...  \n",
       "1  Голые, перцы, 2014, США, друзья, свадьбы, прео...  \n",
       "2  Тактическая, сила, 2011, Канада, бандиты, ганг...  \n",
       "3  45, лет, 2015, Великобритания, брак, жизнь, лю...  \n",
       "4  Все, решает, мгновение, 1978, СССР, сильные, ж...  "
      ]
     },
     "execution_count": 10,
     "metadata": {},
     "output_type": "execute_result"
    }
   ],
   "source": [
    "items.head()"
   ]
  },
  {
   "cell_type": "code",
   "execution_count": 11,
   "id": "f2cc446b",
   "metadata": {},
   "outputs": [
    {
     "name": "stdout",
     "output_type": "stream",
     "text": [
      "Всего уникальных айтемов: 15,963\n"
     ]
    }
   ],
   "source": [
    "# Counting a unique items number\n",
    "print(f'Всего уникальных айтемов: {items[Columns.Item].nunique():,}')"
   ]
  },
  {
   "cell_type": "code",
   "execution_count": 12,
   "id": "200ef3ab",
   "metadata": {},
   "outputs": [],
   "source": [
    "# Statistics of items' release year\n",
    "# bins == all items released before 1990\n",
    "YEAR_FROM = 1990\n",
    "STEP_SIZE = 5\n",
    "bins = [year for year in range (YEAR_FROM, int(items['release_year'].max()) + STEP_SIZE, STEP_SIZE)]"
   ]
  },
  {
   "cell_type": "code",
   "execution_count": 13,
   "id": "86fbbfda",
   "metadata": {},
   "outputs": [],
   "source": [
    "bins = [int(items['release_year'].min())] + bins"
   ]
  },
  {
   "cell_type": "code",
   "execution_count": 14,
   "id": "07e7cb22",
   "metadata": {},
   "outputs": [],
   "source": [
    "items['year_bin'] = pd.cut(items['release_year'],\n",
    "                          bins = bins, include_lowest = True)"
   ]
  },
  {
   "cell_type": "code",
   "execution_count": 15,
   "id": "7e8c26b2",
   "metadata": {
    "scrolled": true
   },
   "outputs": [
    {
     "data": {
      "image/png": "[encoded data removed]",
      "text/plain": [
       "<Figure size 1200x700 with 1 Axes>"
      ]
     },
     "metadata": {},
     "output_type": "display_data"
    }
   ],
   "source": [
    "plot_normalized_barh_chart(items, 'year_bin', 'Распределение выхода контента')"
   ]
  },
  {
   "cell_type": "code",
   "execution_count": 16,
   "id": "631fe809",
   "metadata": {},
   "outputs": [
    {
     "data": {
      "image/png": "[encoded data removed]",
      "text/plain": [
       "<Figure size 1200x700 with 1 Axes>"
      ]
     },
     "metadata": {},
     "output_type": "display_data"
    }
   ],
   "source": [
    "plot_normalized_barh_chart(items, 'content_type', 'Распределение контента')"
   ]
  },
  {
   "cell_type": "markdown",
   "id": "57eb7569",
   "metadata": {},
   "source": [
    "### Interactions"
   ]
  },
  {
   "cell_type": "code",
   "execution_count": 17,
   "id": "96a28230",
   "metadata": {},
   "outputs": [
    {
     "data": {
      "text/html": [
       "<div>\n",
       "<style scoped>\n",
       "    .dataframe tbody tr th:only-of-type {\n",
       "        vertical-align: middle;\n",
       "    }\n",
       "\n",
       "    .dataframe tbody tr th {\n",
       "        vertical-align: top;\n",
       "    }\n",
       "\n",
       "    .dataframe thead th {\n",
       "        text-align: right;\n",
       "    }\n",
       "</style>\n",
       "<table border=\"1\" class=\"dataframe\">\n",
       "  <thead>\n",
       "    <tr style=\"text-align: right;\">\n",
       "      <th></th>\n",
       "      <th>user_id</th>\n",
       "      <th>item_id</th>\n",
       "      <th>last_watch_dt</th>\n",
       "      <th>total_dur</th>\n",
       "      <th>watched_pct</th>\n",
       "    </tr>\n",
       "  </thead>\n",
       "  <tbody>\n",
       "    <tr>\n",
       "      <th>0</th>\n",
       "      <td>176549</td>\n",
       "      <td>9506</td>\n",
       "      <td>2021-05-11</td>\n",
       "      <td>4250</td>\n",
       "      <td>72.0</td>\n",
       "    </tr>\n",
       "    <tr>\n",
       "      <th>1</th>\n",
       "      <td>699317</td>\n",
       "      <td>1659</td>\n",
       "      <td>2021-05-29</td>\n",
       "      <td>8317</td>\n",
       "      <td>100.0</td>\n",
       "    </tr>\n",
       "    <tr>\n",
       "      <th>2</th>\n",
       "      <td>656683</td>\n",
       "      <td>7107</td>\n",
       "      <td>2021-05-09</td>\n",
       "      <td>10</td>\n",
       "      <td>0.0</td>\n",
       "    </tr>\n",
       "    <tr>\n",
       "      <th>3</th>\n",
       "      <td>864613</td>\n",
       "      <td>7638</td>\n",
       "      <td>2021-07-05</td>\n",
       "      <td>14483</td>\n",
       "      <td>100.0</td>\n",
       "    </tr>\n",
       "    <tr>\n",
       "      <th>4</th>\n",
       "      <td>964868</td>\n",
       "      <td>9506</td>\n",
       "      <td>2021-04-30</td>\n",
       "      <td>6725</td>\n",
       "      <td>100.0</td>\n",
       "    </tr>\n",
       "  </tbody>\n",
       "</table>\n",
       "</div>"
      ],
      "text/plain": [
       "   user_id  item_id last_watch_dt  total_dur  watched_pct\n",
       "0   176549     9506    2021-05-11       4250         72.0\n",
       "1   699317     1659    2021-05-29       8317        100.0\n",
       "2   656683     7107    2021-05-09         10          0.0\n",
       "3   864613     7638    2021-07-05      14483        100.0\n",
       "4   964868     9506    2021-04-30       6725        100.0"
      ]
     },
     "execution_count": 17,
     "metadata": {},
     "output_type": "execute_result"
    }
   ],
   "source": [
    "interactions.head()"
   ]
  },
  {
   "cell_type": "code",
   "execution_count": 18,
   "id": "584b3efc",
   "metadata": {},
   "outputs": [],
   "source": [
    "# Fixing column name and making objects iterable\n",
    "Columns.Datetime = 'last_watch_dt'"
   ]
  },
  {
   "cell_type": "code",
   "execution_count": 19,
   "id": "64ec45ee",
   "metadata": {},
   "outputs": [],
   "source": [
    "# Excluding datetime objects with incorrect date format\n",
    "interactions.drop(interactions[interactions[Columns.Datetime].str.len() != 10].index, inplace=True)"
   ]
  },
  {
   "cell_type": "code",
   "execution_count": 20,
   "id": "62e874ff",
   "metadata": {},
   "outputs": [
    {
     "data": {
      "text/plain": [
       "10    5476251\n",
       "Name: last_watch_dt, dtype: int64"
      ]
     },
     "execution_count": 20,
     "metadata": {},
     "output_type": "execute_result"
    }
   ],
   "source": [
    "# Number interactions\n",
    "interactions[Columns.Datetime].str.len().value_counts()"
   ]
  },
  {
   "cell_type": "code",
   "execution_count": 21,
   "id": "13a4d864",
   "metadata": {},
   "outputs": [
    {
     "data": {
      "text/plain": [
       "('2021-03-13', '2021-08-22')"
      ]
     },
     "execution_count": 21,
     "metadata": {},
     "output_type": "execute_result"
    }
   ],
   "source": [
    "interactions[Columns.Datetime].min(), interactions[Columns.Datetime].max()"
   ]
  },
  {
   "cell_type": "code",
   "execution_count": 22,
   "id": "9c816520",
   "metadata": {},
   "outputs": [
    {
     "data": {
      "text/html": [
       "<div>\n",
       "<style scoped>\n",
       "    .dataframe tbody tr th:only-of-type {\n",
       "        vertical-align: middle;\n",
       "    }\n",
       "\n",
       "    .dataframe tbody tr th {\n",
       "        vertical-align: top;\n",
       "    }\n",
       "\n",
       "    .dataframe thead th {\n",
       "        text-align: right;\n",
       "    }\n",
       "</style>\n",
       "<table border=\"1\" class=\"dataframe\">\n",
       "  <thead>\n",
       "    <tr style=\"text-align: right;\">\n",
       "      <th></th>\n",
       "      <th>user_id</th>\n",
       "      <th>item_id</th>\n",
       "      <th>last_watch_dt</th>\n",
       "      <th>total_dur</th>\n",
       "      <th>watched_pct</th>\n",
       "    </tr>\n",
       "  </thead>\n",
       "  <tbody>\n",
       "    <tr>\n",
       "      <th>0</th>\n",
       "      <td>176549</td>\n",
       "      <td>9506</td>\n",
       "      <td>2021-05-11</td>\n",
       "      <td>4250</td>\n",
       "      <td>72.0</td>\n",
       "    </tr>\n",
       "    <tr>\n",
       "      <th>1</th>\n",
       "      <td>699317</td>\n",
       "      <td>1659</td>\n",
       "      <td>2021-05-29</td>\n",
       "      <td>8317</td>\n",
       "      <td>100.0</td>\n",
       "    </tr>\n",
       "    <tr>\n",
       "      <th>2</th>\n",
       "      <td>656683</td>\n",
       "      <td>7107</td>\n",
       "      <td>2021-05-09</td>\n",
       "      <td>10</td>\n",
       "      <td>0.0</td>\n",
       "    </tr>\n",
       "    <tr>\n",
       "      <th>3</th>\n",
       "      <td>864613</td>\n",
       "      <td>7638</td>\n",
       "      <td>2021-07-05</td>\n",
       "      <td>14483</td>\n",
       "      <td>100.0</td>\n",
       "    </tr>\n",
       "    <tr>\n",
       "      <th>4</th>\n",
       "      <td>964868</td>\n",
       "      <td>9506</td>\n",
       "      <td>2021-04-30</td>\n",
       "      <td>6725</td>\n",
       "      <td>100.0</td>\n",
       "    </tr>\n",
       "    <tr>\n",
       "      <th>...</th>\n",
       "      <td>...</td>\n",
       "      <td>...</td>\n",
       "      <td>...</td>\n",
       "      <td>...</td>\n",
       "      <td>...</td>\n",
       "    </tr>\n",
       "    <tr>\n",
       "      <th>5476246</th>\n",
       "      <td>648596</td>\n",
       "      <td>12225</td>\n",
       "      <td>2021-08-13</td>\n",
       "      <td>76</td>\n",
       "      <td>0.0</td>\n",
       "    </tr>\n",
       "    <tr>\n",
       "      <th>5476247</th>\n",
       "      <td>546862</td>\n",
       "      <td>9673</td>\n",
       "      <td>2021-04-13</td>\n",
       "      <td>2308</td>\n",
       "      <td>49.0</td>\n",
       "    </tr>\n",
       "    <tr>\n",
       "      <th>5476248</th>\n",
       "      <td>697262</td>\n",
       "      <td>15297</td>\n",
       "      <td>2021-08-20</td>\n",
       "      <td>18307</td>\n",
       "      <td>63.0</td>\n",
       "    </tr>\n",
       "    <tr>\n",
       "      <th>5476249</th>\n",
       "      <td>384202</td>\n",
       "      <td>16197</td>\n",
       "      <td>2021-04-19</td>\n",
       "      <td>6203</td>\n",
       "      <td>100.0</td>\n",
       "    </tr>\n",
       "    <tr>\n",
       "      <th>5476250</th>\n",
       "      <td>319709</td>\n",
       "      <td>4436</td>\n",
       "      <td>2021-08-15</td>\n",
       "      <td>3921</td>\n",
       "      <td>45.0</td>\n",
       "    </tr>\n",
       "  </tbody>\n",
       "</table>\n",
       "<p>5476251 rows × 5 columns</p>\n",
       "</div>"
      ],
      "text/plain": [
       "         user_id  item_id last_watch_dt  total_dur  watched_pct\n",
       "0         176549     9506    2021-05-11       4250         72.0\n",
       "1         699317     1659    2021-05-29       8317        100.0\n",
       "2         656683     7107    2021-05-09         10          0.0\n",
       "3         864613     7638    2021-07-05      14483        100.0\n",
       "4         964868     9506    2021-04-30       6725        100.0\n",
       "...          ...      ...           ...        ...          ...\n",
       "5476246   648596    12225    2021-08-13         76          0.0\n",
       "5476247   546862     9673    2021-04-13       2308         49.0\n",
       "5476248   697262    15297    2021-08-20      18307         63.0\n",
       "5476249   384202    16197    2021-04-19       6203        100.0\n",
       "5476250   319709     4436    2021-08-15       3921         45.0\n",
       "\n",
       "[5476251 rows x 5 columns]"
      ]
     },
     "execution_count": 22,
     "metadata": {},
     "output_type": "execute_result"
    }
   ],
   "source": [
    "interactions"
   ]
  },
  {
   "cell_type": "markdown",
   "id": "e4d8082a",
   "metadata": {},
   "source": [
    "# 3. Train/Test split"
   ]
  },
  {
   "cell_type": "code",
   "execution_count": 23,
   "id": "95c9b634",
   "metadata": {},
   "outputs": [],
   "source": [
    "#Convert str-Datetime to pd-Datetime object\n",
    "interactions[Columns.Datetime] = pd.to_datetime(interactions[Columns.Datetime], format='%Y-%m-%d')"
   ]
  },
  {
   "cell_type": "code",
   "execution_count": 24,
   "id": "1e351a39",
   "metadata": {},
   "outputs": [],
   "source": [
    "#The max date of interactions\n",
    "max_date = interactions[Columns.Datetime].max()"
   ]
  },
  {
   "cell_type": "code",
   "execution_count": 25,
   "id": "8aff3f35",
   "metadata": {},
   "outputs": [
    {
     "data": {
      "text/plain": [
       "count     5476251.00\n",
       "mean         8295.49\n",
       "std         48567.99\n",
       "min             1.00\n",
       "1%              3.00\n",
       "10%            42.00\n",
       "50%          2898.00\n",
       "90%         15112.00\n",
       "99%         90083.00\n",
       "max      80411672.00\n",
       "Name: total_dur, dtype: float64"
      ]
     },
     "execution_count": 25,
     "metadata": {},
     "output_type": "execute_result"
    }
   ],
   "source": [
    "#Sort interactions by duration\n",
    "interactions['total_dur'].describe(percentiles=[.01,.1,.5,.9,.99]).round(2)"
   ]
  },
  {
   "cell_type": "code",
   "execution_count": 26,
   "id": "eab4ddd1",
   "metadata": {},
   "outputs": [],
   "source": [
    "#If user's interacted with item more than(or directly) 10%==3, else 1\n",
    "interactions[Columns.Weight] = np.where(interactions['watched_pct'] > 10, 3, 1)"
   ]
  },
  {
   "cell_type": "code",
   "execution_count": 27,
   "id": "fdb3e5b9",
   "metadata": {},
   "outputs": [
    {
     "data": {
      "text/plain": [
       "3    0.660172\n",
       "1    0.339828\n",
       "Name: weight, dtype: float64"
      ]
     },
     "execution_count": 27,
     "metadata": {},
     "output_type": "execute_result"
    }
   ],
   "source": [
    "#Describe count of interactions by Weight\n",
    "interactions[Columns.Weight].value_counts(normalize=True)"
   ]
  },
  {
   "cell_type": "code",
   "execution_count": 28,
   "id": "4d729de0",
   "metadata": {},
   "outputs": [
    {
     "name": "stdout",
     "output_type": "stream",
     "text": [
      "train: (4985269, 6)\n",
      "test: (490982, 6)\n"
     ]
    }
   ],
   "source": [
    "#Split test/train interaction by DateTime\n",
    "# test == all the last week interactions before max_date (cold_users included)\n",
    "# train == all the other interactions (cold_users excluded)\n",
    "train = interactions[interactions[Columns.Datetime] < max_date - pd.Timedelta(days=7)].copy()\n",
    "test = interactions[interactions[Columns.Datetime] >= max_date - pd.Timedelta(days=7)].copy()\n",
    "\n",
    "print(f\"train: {train.shape}\")\n",
    "print(f\"test: {test.shape}\")"
   ]
  },
  {
   "cell_type": "code",
   "execution_count": 29,
   "id": "b4d660a9",
   "metadata": {},
   "outputs": [],
   "source": [
    "#Drop out items[\"total_dur\"] less that 300 from train\n",
    "train.drop(train.query(\"total_dur < 300\").index, inplace=True)"
   ]
  },
  {
   "cell_type": "code",
   "execution_count": 30,
   "id": "a70f4ca8",
   "metadata": {},
   "outputs": [],
   "source": [
    "# Take out of account all cold_users\n",
    "cold_users = set(test[Columns.User]) - set(train[Columns.User])"
   ]
  },
  {
   "cell_type": "code",
   "execution_count": 31,
   "id": "e41bbb46",
   "metadata": {},
   "outputs": [],
   "source": [
    "test.drop(test[test[Columns.User].isin(cold_users)].index, inplace=True)"
   ]
  },
  {
   "cell_type": "markdown",
   "id": "2d1c711a",
   "metadata": {},
   "source": [
    "# 4. Features"
   ]
  },
  {
   "cell_type": "markdown",
   "id": "efb73c71",
   "metadata": {},
   "source": [
    "### User features"
   ]
  },
  {
   "cell_type": "code",
   "execution_count": 32,
   "id": "e1ea6711",
   "metadata": {},
   "outputs": [
    {
     "data": {
      "text/plain": [
       "user_id         0\n",
       "age         14095\n",
       "income      14776\n",
       "sex         13831\n",
       "kids_flg        0\n",
       "dtype: int64"
      ]
     },
     "execution_count": 32,
     "metadata": {},
     "output_type": "execute_result"
    }
   ],
   "source": [
    "users.isnull().sum()"
   ]
  },
  {
   "cell_type": "code",
   "execution_count": 33,
   "id": "53475cac",
   "metadata": {},
   "outputs": [
    {
     "data": {
      "text/plain": [
       "user_id     840197\n",
       "age              7\n",
       "income           7\n",
       "sex              3\n",
       "kids_flg         2\n",
       "dtype: int64"
      ]
     },
     "execution_count": 33,
     "metadata": {},
     "output_type": "execute_result"
    }
   ],
   "source": [
    "# Replacing a Null values\n",
    "users.fillna(\"Unknown\", inplace = True)\n",
    "users.nunique()"
   ]
  },
  {
   "cell_type": "code",
   "execution_count": 34,
   "id": "a2e00cbd",
   "metadata": {},
   "outputs": [],
   "source": [
    "# copying df and locing on users in train df\n",
    "users = users.loc[users[Columns.User].isin(train[Columns.User])].copy()"
   ]
  },
  {
   "cell_type": "code",
   "execution_count": 35,
   "id": "5f37c336",
   "metadata": {},
   "outputs": [
    {
     "data": {
      "text/html": [
       "<div>\n",
       "<style scoped>\n",
       "    .dataframe tbody tr th:only-of-type {\n",
       "        vertical-align: middle;\n",
       "    }\n",
       "\n",
       "    .dataframe tbody tr th {\n",
       "        vertical-align: top;\n",
       "    }\n",
       "\n",
       "    .dataframe thead th {\n",
       "        text-align: right;\n",
       "    }\n",
       "</style>\n",
       "<table border=\"1\" class=\"dataframe\">\n",
       "  <thead>\n",
       "    <tr style=\"text-align: right;\">\n",
       "      <th></th>\n",
       "      <th>user_id</th>\n",
       "      <th>age</th>\n",
       "      <th>income</th>\n",
       "      <th>sex</th>\n",
       "      <th>kids_flg</th>\n",
       "    </tr>\n",
       "  </thead>\n",
       "  <tbody>\n",
       "    <tr>\n",
       "      <th>0</th>\n",
       "      <td>973171</td>\n",
       "      <td>age_25_34</td>\n",
       "      <td>income_60_90</td>\n",
       "      <td>0.0</td>\n",
       "      <td>1</td>\n",
       "    </tr>\n",
       "    <tr>\n",
       "      <th>1</th>\n",
       "      <td>962099</td>\n",
       "      <td>age_18_24</td>\n",
       "      <td>income_20_40</td>\n",
       "      <td>0.0</td>\n",
       "      <td>0</td>\n",
       "    </tr>\n",
       "    <tr>\n",
       "      <th>3</th>\n",
       "      <td>721985</td>\n",
       "      <td>age_45_54</td>\n",
       "      <td>income_20_40</td>\n",
       "      <td>1.0</td>\n",
       "      <td>0</td>\n",
       "    </tr>\n",
       "    <tr>\n",
       "      <th>4</th>\n",
       "      <td>704055</td>\n",
       "      <td>age_35_44</td>\n",
       "      <td>income_60_90</td>\n",
       "      <td>1.0</td>\n",
       "      <td>0</td>\n",
       "    </tr>\n",
       "    <tr>\n",
       "      <th>5</th>\n",
       "      <td>1037719</td>\n",
       "      <td>age_45_54</td>\n",
       "      <td>income_60_90</td>\n",
       "      <td>0.0</td>\n",
       "      <td>0</td>\n",
       "    </tr>\n",
       "    <tr>\n",
       "      <th>...</th>\n",
       "      <td>...</td>\n",
       "      <td>...</td>\n",
       "      <td>...</td>\n",
       "      <td>...</td>\n",
       "      <td>...</td>\n",
       "    </tr>\n",
       "    <tr>\n",
       "      <th>840184</th>\n",
       "      <td>529394</td>\n",
       "      <td>age_25_34</td>\n",
       "      <td>income_40_60</td>\n",
       "      <td>1.0</td>\n",
       "      <td>0</td>\n",
       "    </tr>\n",
       "    <tr>\n",
       "      <th>840186</th>\n",
       "      <td>80113</td>\n",
       "      <td>age_25_34</td>\n",
       "      <td>income_40_60</td>\n",
       "      <td>1.0</td>\n",
       "      <td>0</td>\n",
       "    </tr>\n",
       "    <tr>\n",
       "      <th>840188</th>\n",
       "      <td>312839</td>\n",
       "      <td>age_65_inf</td>\n",
       "      <td>income_60_90</td>\n",
       "      <td>1.0</td>\n",
       "      <td>0</td>\n",
       "    </tr>\n",
       "    <tr>\n",
       "      <th>840189</th>\n",
       "      <td>191349</td>\n",
       "      <td>age_45_54</td>\n",
       "      <td>income_40_60</td>\n",
       "      <td>0.0</td>\n",
       "      <td>1</td>\n",
       "    </tr>\n",
       "    <tr>\n",
       "      <th>840190</th>\n",
       "      <td>393868</td>\n",
       "      <td>age_25_34</td>\n",
       "      <td>income_20_40</td>\n",
       "      <td>0.0</td>\n",
       "      <td>0</td>\n",
       "    </tr>\n",
       "  </tbody>\n",
       "</table>\n",
       "<p>586668 rows × 5 columns</p>\n",
       "</div>"
      ],
      "text/plain": [
       "        user_id         age        income  sex  kids_flg\n",
       "0        973171   age_25_34  income_60_90  0.0         1\n",
       "1        962099   age_18_24  income_20_40  0.0         0\n",
       "3        721985   age_45_54  income_20_40  1.0         0\n",
       "4        704055   age_35_44  income_60_90  1.0         0\n",
       "5       1037719   age_45_54  income_60_90  0.0         0\n",
       "...         ...         ...           ...  ...       ...\n",
       "840184   529394   age_25_34  income_40_60  1.0         0\n",
       "840186    80113   age_25_34  income_40_60  1.0         0\n",
       "840188   312839  age_65_inf  income_60_90  1.0         0\n",
       "840189   191349   age_45_54  income_40_60  0.0         1\n",
       "840190   393868   age_25_34  income_20_40  0.0         0\n",
       "\n",
       "[586668 rows x 5 columns]"
      ]
     },
     "execution_count": 35,
     "metadata": {},
     "output_type": "execute_result"
    }
   ],
   "source": [
    "users"
   ]
  },
  {
   "cell_type": "code",
   "execution_count": 36,
   "id": "8fdb4a1b",
   "metadata": {},
   "outputs": [
    {
     "data": {
      "text/html": [
       "<div>\n",
       "<style scoped>\n",
       "    .dataframe tbody tr th:only-of-type {\n",
       "        vertical-align: middle;\n",
       "    }\n",
       "\n",
       "    .dataframe tbody tr th {\n",
       "        vertical-align: top;\n",
       "    }\n",
       "\n",
       "    .dataframe thead th {\n",
       "        text-align: right;\n",
       "    }\n",
       "</style>\n",
       "<table border=\"1\" class=\"dataframe\">\n",
       "  <thead>\n",
       "    <tr style=\"text-align: right;\">\n",
       "      <th></th>\n",
       "      <th>id</th>\n",
       "      <th>value</th>\n",
       "      <th>feature</th>\n",
       "    </tr>\n",
       "  </thead>\n",
       "  <tbody>\n",
       "    <tr>\n",
       "      <th>0</th>\n",
       "      <td>973171</td>\n",
       "      <td>0.0</td>\n",
       "      <td>sex</td>\n",
       "    </tr>\n",
       "    <tr>\n",
       "      <th>1</th>\n",
       "      <td>962099</td>\n",
       "      <td>0.0</td>\n",
       "      <td>sex</td>\n",
       "    </tr>\n",
       "    <tr>\n",
       "      <th>3</th>\n",
       "      <td>721985</td>\n",
       "      <td>1.0</td>\n",
       "      <td>sex</td>\n",
       "    </tr>\n",
       "    <tr>\n",
       "      <th>4</th>\n",
       "      <td>704055</td>\n",
       "      <td>1.0</td>\n",
       "      <td>sex</td>\n",
       "    </tr>\n",
       "    <tr>\n",
       "      <th>5</th>\n",
       "      <td>1037719</td>\n",
       "      <td>0.0</td>\n",
       "      <td>sex</td>\n",
       "    </tr>\n",
       "    <tr>\n",
       "      <th>...</th>\n",
       "      <td>...</td>\n",
       "      <td>...</td>\n",
       "      <td>...</td>\n",
       "    </tr>\n",
       "    <tr>\n",
       "      <th>840184</th>\n",
       "      <td>529394</td>\n",
       "      <td>income_40_60</td>\n",
       "      <td>income</td>\n",
       "    </tr>\n",
       "    <tr>\n",
       "      <th>840186</th>\n",
       "      <td>80113</td>\n",
       "      <td>income_40_60</td>\n",
       "      <td>income</td>\n",
       "    </tr>\n",
       "    <tr>\n",
       "      <th>840188</th>\n",
       "      <td>312839</td>\n",
       "      <td>income_60_90</td>\n",
       "      <td>income</td>\n",
       "    </tr>\n",
       "    <tr>\n",
       "      <th>840189</th>\n",
       "      <td>191349</td>\n",
       "      <td>income_40_60</td>\n",
       "      <td>income</td>\n",
       "    </tr>\n",
       "    <tr>\n",
       "      <th>840190</th>\n",
       "      <td>393868</td>\n",
       "      <td>income_20_40</td>\n",
       "      <td>income</td>\n",
       "    </tr>\n",
       "  </tbody>\n",
       "</table>\n",
       "<p>1760004 rows × 3 columns</p>\n",
       "</div>"
      ],
      "text/plain": [
       "             id         value feature\n",
       "0        973171           0.0     sex\n",
       "1        962099           0.0     sex\n",
       "3        721985           1.0     sex\n",
       "4        704055           1.0     sex\n",
       "5       1037719           0.0     sex\n",
       "...         ...           ...     ...\n",
       "840184   529394  income_40_60  income\n",
       "840186    80113  income_40_60  income\n",
       "840188   312839  income_60_90  income\n",
       "840189   191349  income_40_60  income\n",
       "840190   393868  income_20_40  income\n",
       "\n",
       "[1760004 rows x 3 columns]"
      ]
     },
     "execution_count": 36,
     "metadata": {},
     "output_type": "execute_result"
    }
   ],
   "source": [
    "# creating a user_feature_frame\n",
    "user_features_frames = []\n",
    "for feature in [\"sex\", \"age\", \"income\"]:\n",
    "    feature_frame = users.reindex(columns=[Columns.User, feature])\n",
    "    feature_frame.columns = [\"id\", \"value\"]\n",
    "    feature_frame[\"feature\"] = feature\n",
    "    user_features_frames.append(feature_frame)\n",
    "user_features = pd.concat(user_features_frames)\n",
    "user_features"
   ]
  },
  {
   "cell_type": "markdown",
   "id": "c0a8df25",
   "metadata": {},
   "source": [
    "### Item features"
   ]
  },
  {
   "cell_type": "code",
   "execution_count": 37,
   "id": "791ec3a5",
   "metadata": {},
   "outputs": [
    {
     "data": {
      "text/plain": [
       "item_id             0\n",
       "content_type        0\n",
       "title               0\n",
       "title_orig       4745\n",
       "release_year       98\n",
       "genres              0\n",
       "countries          37\n",
       "for_kids        15397\n",
       "age_rating          2\n",
       "studios         14898\n",
       "directors        1509\n",
       "actors           2619\n",
       "description         2\n",
       "keywords          423\n",
       "year_bin           98\n",
       "dtype: int64"
      ]
     },
     "execution_count": 37,
     "metadata": {},
     "output_type": "execute_result"
    }
   ],
   "source": [
    "items.isnull().sum()"
   ]
  },
  {
   "cell_type": "code",
   "execution_count": 38,
   "id": "bbd31428",
   "metadata": {
    "scrolled": true
   },
   "outputs": [
    {
     "data": {
      "text/html": [
       "<div>\n",
       "<style scoped>\n",
       "    .dataframe tbody tr th:only-of-type {\n",
       "        vertical-align: middle;\n",
       "    }\n",
       "\n",
       "    .dataframe tbody tr th {\n",
       "        vertical-align: top;\n",
       "    }\n",
       "\n",
       "    .dataframe thead th {\n",
       "        text-align: right;\n",
       "    }\n",
       "</style>\n",
       "<table border=\"1\" class=\"dataframe\">\n",
       "  <thead>\n",
       "    <tr style=\"text-align: right;\">\n",
       "      <th></th>\n",
       "      <th>item_id</th>\n",
       "      <th>content_type</th>\n",
       "      <th>title</th>\n",
       "      <th>title_orig</th>\n",
       "      <th>release_year</th>\n",
       "      <th>genres</th>\n",
       "      <th>countries</th>\n",
       "      <th>for_kids</th>\n",
       "      <th>age_rating</th>\n",
       "      <th>studios</th>\n",
       "      <th>directors</th>\n",
       "      <th>actors</th>\n",
       "      <th>description</th>\n",
       "      <th>keywords</th>\n",
       "      <th>year_bin</th>\n",
       "    </tr>\n",
       "  </thead>\n",
       "  <tbody>\n",
       "    <tr>\n",
       "      <th>0</th>\n",
       "      <td>10711</td>\n",
       "      <td>film</td>\n",
       "      <td>Поговори с ней</td>\n",
       "      <td>Hable con ella</td>\n",
       "      <td>2002.0</td>\n",
       "      <td>драмы, зарубежные, детективы, мелодрамы</td>\n",
       "      <td>Испания</td>\n",
       "      <td>NaN</td>\n",
       "      <td>16.0</td>\n",
       "      <td>NaN</td>\n",
       "      <td>Педро Альмодовар</td>\n",
       "      <td>Адольфо Фернандес, Ана Фернандес, Дарио Гранди...</td>\n",
       "      <td>Мелодрама легендарного Педро Альмодовара «Пого...</td>\n",
       "      <td>Поговори, ней, 2002, Испания, друзья, любовь, ...</td>\n",
       "      <td>(2000.0, 2005.0]</td>\n",
       "    </tr>\n",
       "    <tr>\n",
       "      <th>1</th>\n",
       "      <td>2508</td>\n",
       "      <td>film</td>\n",
       "      <td>Голые перцы</td>\n",
       "      <td>Search Party</td>\n",
       "      <td>2014.0</td>\n",
       "      <td>зарубежные, приключения, комедии</td>\n",
       "      <td>США</td>\n",
       "      <td>NaN</td>\n",
       "      <td>16.0</td>\n",
       "      <td>NaN</td>\n",
       "      <td>Скот Армстронг</td>\n",
       "      <td>Адам Палли, Брайан Хаски, Дж.Б. Смув, Джейсон ...</td>\n",
       "      <td>Уморительная современная комедия на популярную...</td>\n",
       "      <td>Голые, перцы, 2014, США, друзья, свадьбы, прео...</td>\n",
       "      <td>(2010.0, 2015.0]</td>\n",
       "    </tr>\n",
       "    <tr>\n",
       "      <th>2</th>\n",
       "      <td>10716</td>\n",
       "      <td>film</td>\n",
       "      <td>Тактическая сила</td>\n",
       "      <td>Tactical Force</td>\n",
       "      <td>2011.0</td>\n",
       "      <td>криминал, зарубежные, триллеры, боевики, комедии</td>\n",
       "      <td>Канада</td>\n",
       "      <td>NaN</td>\n",
       "      <td>16.0</td>\n",
       "      <td>NaN</td>\n",
       "      <td>Адам П. Калтраро</td>\n",
       "      <td>Адриан Холмс, Даррен Шалави, Джерри Вассерман,...</td>\n",
       "      <td>Профессиональный рестлер Стив Остин («Все или ...</td>\n",
       "      <td>Тактическая, сила, 2011, Канада, бандиты, ганг...</td>\n",
       "      <td>(2010.0, 2015.0]</td>\n",
       "    </tr>\n",
       "    <tr>\n",
       "      <th>3</th>\n",
       "      <td>7868</td>\n",
       "      <td>film</td>\n",
       "      <td>45 лет</td>\n",
       "      <td>45 Years</td>\n",
       "      <td>2015.0</td>\n",
       "      <td>драмы, зарубежные, мелодрамы</td>\n",
       "      <td>Великобритания</td>\n",
       "      <td>NaN</td>\n",
       "      <td>16.0</td>\n",
       "      <td>NaN</td>\n",
       "      <td>Эндрю Хэй</td>\n",
       "      <td>Александра Риддлстон-Барретт, Джеральдин Джейм...</td>\n",
       "      <td>Шарлотта Рэмплинг, Том Кортни, Джеральдин Джей...</td>\n",
       "      <td>45, лет, 2015, Великобритания, брак, жизнь, лю...</td>\n",
       "      <td>(2010.0, 2015.0]</td>\n",
       "    </tr>\n",
       "    <tr>\n",
       "      <th>4</th>\n",
       "      <td>16268</td>\n",
       "      <td>film</td>\n",
       "      <td>Все решает мгновение</td>\n",
       "      <td>NaN</td>\n",
       "      <td>1978.0</td>\n",
       "      <td>драмы, спорт, советские, мелодрамы</td>\n",
       "      <td>СССР</td>\n",
       "      <td>NaN</td>\n",
       "      <td>12.0</td>\n",
       "      <td>Ленфильм</td>\n",
       "      <td>Виктор Садовский</td>\n",
       "      <td>Александр Абдулов, Александр Демьяненко, Алекс...</td>\n",
       "      <td>Расчетливая чаровница из советского кинохита «...</td>\n",
       "      <td>Все, решает, мгновение, 1978, СССР, сильные, ж...</td>\n",
       "      <td>(1896.999, 1990.0]</td>\n",
       "    </tr>\n",
       "    <tr>\n",
       "      <th>...</th>\n",
       "      <td>...</td>\n",
       "      <td>...</td>\n",
       "      <td>...</td>\n",
       "      <td>...</td>\n",
       "      <td>...</td>\n",
       "      <td>...</td>\n",
       "      <td>...</td>\n",
       "      <td>...</td>\n",
       "      <td>...</td>\n",
       "      <td>...</td>\n",
       "      <td>...</td>\n",
       "      <td>...</td>\n",
       "      <td>...</td>\n",
       "      <td>...</td>\n",
       "      <td>...</td>\n",
       "    </tr>\n",
       "    <tr>\n",
       "      <th>15958</th>\n",
       "      <td>6443</td>\n",
       "      <td>series</td>\n",
       "      <td>Полярный круг</td>\n",
       "      <td>Arctic Circle</td>\n",
       "      <td>2018.0</td>\n",
       "      <td>драмы, триллеры, криминал</td>\n",
       "      <td>Финляндия, Германия</td>\n",
       "      <td>NaN</td>\n",
       "      <td>16.0</td>\n",
       "      <td>NaN</td>\n",
       "      <td>Ханну Салонен</td>\n",
       "      <td>Иина Куустонен, Максимилиан Брюкнер, Пихла Вии...</td>\n",
       "      <td>Во время погони за браконьерами по лесу, сотру...</td>\n",
       "      <td>убийство, вирус, расследование преступления, н...</td>\n",
       "      <td>(2015.0, 2020.0]</td>\n",
       "    </tr>\n",
       "    <tr>\n",
       "      <th>15959</th>\n",
       "      <td>2367</td>\n",
       "      <td>series</td>\n",
       "      <td>Надежда</td>\n",
       "      <td>NaN</td>\n",
       "      <td>2020.0</td>\n",
       "      <td>драмы, боевики</td>\n",
       "      <td>Россия</td>\n",
       "      <td>0.0</td>\n",
       "      <td>18.0</td>\n",
       "      <td>NaN</td>\n",
       "      <td>Елена Хазанова</td>\n",
       "      <td>Виктория Исакова, Александр Кузьмин, Алексей М...</td>\n",
       "      <td>Оригинальный киносериал от создателей «Бывших»...</td>\n",
       "      <td>Надежда, 2020, Россия</td>\n",
       "      <td>(2015.0, 2020.0]</td>\n",
       "    </tr>\n",
       "    <tr>\n",
       "      <th>15960</th>\n",
       "      <td>10632</td>\n",
       "      <td>series</td>\n",
       "      <td>Сговор</td>\n",
       "      <td>Hassel</td>\n",
       "      <td>2017.0</td>\n",
       "      <td>драмы, триллеры, криминал</td>\n",
       "      <td>Россия</td>\n",
       "      <td>0.0</td>\n",
       "      <td>18.0</td>\n",
       "      <td>NaN</td>\n",
       "      <td>Эшреф Рейбрук, Амир Камдин, Эрик Эгер</td>\n",
       "      <td>Ола Рапас, Алиетт Офейм, Уильма Лиден, Шанти Р...</td>\n",
       "      <td>Криминальная драма по мотивам романов о шведск...</td>\n",
       "      <td>Сговор, 2017, Россия</td>\n",
       "      <td>(2015.0, 2020.0]</td>\n",
       "    </tr>\n",
       "    <tr>\n",
       "      <th>15961</th>\n",
       "      <td>4538</td>\n",
       "      <td>series</td>\n",
       "      <td>Среди камней</td>\n",
       "      <td>Darklands</td>\n",
       "      <td>2019.0</td>\n",
       "      <td>драмы, спорт, криминал</td>\n",
       "      <td>Россия</td>\n",
       "      <td>0.0</td>\n",
       "      <td>18.0</td>\n",
       "      <td>NaN</td>\n",
       "      <td>Марк О’Коннор, Конор МакМахон</td>\n",
       "      <td>Дэйн Уайт О’Хара, Томас Кэйн-Бирн, Джудит Родд...</td>\n",
       "      <td>Семнадцатилетний Дэмиен мечтает вырваться за п...</td>\n",
       "      <td>Среди, камней, 2019, Россия</td>\n",
       "      <td>(2015.0, 2020.0]</td>\n",
       "    </tr>\n",
       "    <tr>\n",
       "      <th>15962</th>\n",
       "      <td>3206</td>\n",
       "      <td>series</td>\n",
       "      <td>Гоша</td>\n",
       "      <td>NaN</td>\n",
       "      <td>2019.0</td>\n",
       "      <td>комедии</td>\n",
       "      <td>Россия</td>\n",
       "      <td>0.0</td>\n",
       "      <td>16.0</td>\n",
       "      <td>NaN</td>\n",
       "      <td>Михаил Миронов</td>\n",
       "      <td>Мкртыч Арзуманян, Виктория Рунцова</td>\n",
       "      <td>Добродушный Гоша не может выйти из дома, чтобы...</td>\n",
       "      <td>Гоша, 2019, Россия</td>\n",
       "      <td>(2015.0, 2020.0]</td>\n",
       "    </tr>\n",
       "  </tbody>\n",
       "</table>\n",
       "<p>14019 rows × 15 columns</p>\n",
       "</div>"
      ],
      "text/plain": [
       "       item_id content_type                 title      title_orig  \\\n",
       "0        10711         film        Поговори с ней  Hable con ella   \n",
       "1         2508         film           Голые перцы    Search Party   \n",
       "2        10716         film      Тактическая сила  Tactical Force   \n",
       "3         7868         film                45 лет        45 Years   \n",
       "4        16268         film  Все решает мгновение             NaN   \n",
       "...        ...          ...                   ...             ...   \n",
       "15958     6443       series         Полярный круг   Arctic Circle   \n",
       "15959     2367       series               Надежда             NaN   \n",
       "15960    10632       series                Сговор          Hassel   \n",
       "15961     4538       series          Среди камней      Darklands    \n",
       "15962     3206       series                  Гоша             NaN   \n",
       "\n",
       "       release_year                                            genres  \\\n",
       "0            2002.0           драмы, зарубежные, детективы, мелодрамы   \n",
       "1            2014.0                  зарубежные, приключения, комедии   \n",
       "2            2011.0  криминал, зарубежные, триллеры, боевики, комедии   \n",
       "3            2015.0                      драмы, зарубежные, мелодрамы   \n",
       "4            1978.0                драмы, спорт, советские, мелодрамы   \n",
       "...             ...                                               ...   \n",
       "15958        2018.0                         драмы, триллеры, криминал   \n",
       "15959        2020.0                                    драмы, боевики   \n",
       "15960        2017.0                         драмы, триллеры, криминал   \n",
       "15961        2019.0                            драмы, спорт, криминал   \n",
       "15962        2019.0                                           комедии   \n",
       "\n",
       "                 countries  for_kids  age_rating   studios  \\\n",
       "0                  Испания       NaN        16.0       NaN   \n",
       "1                      США       NaN        16.0       NaN   \n",
       "2                   Канада       NaN        16.0       NaN   \n",
       "3           Великобритания       NaN        16.0       NaN   \n",
       "4                     СССР       NaN        12.0  Ленфильм   \n",
       "...                    ...       ...         ...       ...   \n",
       "15958  Финляндия, Германия       NaN        16.0       NaN   \n",
       "15959               Россия       0.0        18.0       NaN   \n",
       "15960               Россия       0.0        18.0       NaN   \n",
       "15961               Россия       0.0        18.0       NaN   \n",
       "15962               Россия       0.0        16.0       NaN   \n",
       "\n",
       "                                   directors  \\\n",
       "0                           Педро Альмодовар   \n",
       "1                             Скот Армстронг   \n",
       "2                           Адам П. Калтраро   \n",
       "3                                  Эндрю Хэй   \n",
       "4                           Виктор Садовский   \n",
       "...                                      ...   \n",
       "15958                          Ханну Салонен   \n",
       "15959                         Елена Хазанова   \n",
       "15960  Эшреф Рейбрук, Амир Камдин, Эрик Эгер   \n",
       "15961          Марк О’Коннор, Конор МакМахон   \n",
       "15962                         Михаил Миронов   \n",
       "\n",
       "                                                  actors  \\\n",
       "0      Адольфо Фернандес, Ана Фернандес, Дарио Гранди...   \n",
       "1      Адам Палли, Брайан Хаски, Дж.Б. Смув, Джейсон ...   \n",
       "2      Адриан Холмс, Даррен Шалави, Джерри Вассерман,...   \n",
       "3      Александра Риддлстон-Барретт, Джеральдин Джейм...   \n",
       "4      Александр Абдулов, Александр Демьяненко, Алекс...   \n",
       "...                                                  ...   \n",
       "15958  Иина Куустонен, Максимилиан Брюкнер, Пихла Вии...   \n",
       "15959  Виктория Исакова, Александр Кузьмин, Алексей М...   \n",
       "15960  Ола Рапас, Алиетт Офейм, Уильма Лиден, Шанти Р...   \n",
       "15961  Дэйн Уайт О’Хара, Томас Кэйн-Бирн, Джудит Родд...   \n",
       "15962                 Мкртыч Арзуманян, Виктория Рунцова   \n",
       "\n",
       "                                             description  \\\n",
       "0      Мелодрама легендарного Педро Альмодовара «Пого...   \n",
       "1      Уморительная современная комедия на популярную...   \n",
       "2      Профессиональный рестлер Стив Остин («Все или ...   \n",
       "3      Шарлотта Рэмплинг, Том Кортни, Джеральдин Джей...   \n",
       "4      Расчетливая чаровница из советского кинохита «...   \n",
       "...                                                  ...   \n",
       "15958  Во время погони за браконьерами по лесу, сотру...   \n",
       "15959  Оригинальный киносериал от создателей «Бывших»...   \n",
       "15960  Криминальная драма по мотивам романов о шведск...   \n",
       "15961  Семнадцатилетний Дэмиен мечтает вырваться за п...   \n",
       "15962  Добродушный Гоша не может выйти из дома, чтобы...   \n",
       "\n",
       "                                                keywords            year_bin  \n",
       "0      Поговори, ней, 2002, Испания, друзья, любовь, ...    (2000.0, 2005.0]  \n",
       "1      Голые, перцы, 2014, США, друзья, свадьбы, прео...    (2010.0, 2015.0]  \n",
       "2      Тактическая, сила, 2011, Канада, бандиты, ганг...    (2010.0, 2015.0]  \n",
       "3      45, лет, 2015, Великобритания, брак, жизнь, лю...    (2010.0, 2015.0]  \n",
       "4      Все, решает, мгновение, 1978, СССР, сильные, ж...  (1896.999, 1990.0]  \n",
       "...                                                  ...                 ...  \n",
       "15958  убийство, вирус, расследование преступления, н...    (2015.0, 2020.0]  \n",
       "15959                              Надежда, 2020, Россия    (2015.0, 2020.0]  \n",
       "15960                               Сговор, 2017, Россия    (2015.0, 2020.0]  \n",
       "15961                        Среди, камней, 2019, Россия    (2015.0, 2020.0]  \n",
       "15962                                 Гоша, 2019, Россия    (2015.0, 2020.0]  \n",
       "\n",
       "[14019 rows x 15 columns]"
      ]
     },
     "execution_count": 38,
     "metadata": {},
     "output_type": "execute_result"
    }
   ],
   "source": [
    "items = items.loc[items[Columns.Item].isin(train[Columns.Item])].copy()\n",
    "items"
   ]
  },
  {
   "cell_type": "code",
   "execution_count": 39,
   "id": "c4afd7da",
   "metadata": {},
   "outputs": [
    {
     "data": {
      "text/html": [
       "<div>\n",
       "<style scoped>\n",
       "    .dataframe tbody tr th:only-of-type {\n",
       "        vertical-align: middle;\n",
       "    }\n",
       "\n",
       "    .dataframe tbody tr th {\n",
       "        vertical-align: top;\n",
       "    }\n",
       "\n",
       "    .dataframe thead th {\n",
       "        text-align: right;\n",
       "    }\n",
       "</style>\n",
       "<table border=\"1\" class=\"dataframe\">\n",
       "  <thead>\n",
       "    <tr style=\"text-align: right;\">\n",
       "      <th></th>\n",
       "      <th>id</th>\n",
       "      <th>value</th>\n",
       "      <th>feature</th>\n",
       "    </tr>\n",
       "  </thead>\n",
       "  <tbody>\n",
       "    <tr>\n",
       "      <th>0</th>\n",
       "      <td>10711</td>\n",
       "      <td>драмы</td>\n",
       "      <td>genre</td>\n",
       "    </tr>\n",
       "    <tr>\n",
       "      <th>0</th>\n",
       "      <td>10711</td>\n",
       "      <td>зарубежные</td>\n",
       "      <td>genre</td>\n",
       "    </tr>\n",
       "    <tr>\n",
       "      <th>0</th>\n",
       "      <td>10711</td>\n",
       "      <td>детективы</td>\n",
       "      <td>genre</td>\n",
       "    </tr>\n",
       "    <tr>\n",
       "      <th>0</th>\n",
       "      <td>10711</td>\n",
       "      <td>мелодрамы</td>\n",
       "      <td>genre</td>\n",
       "    </tr>\n",
       "    <tr>\n",
       "      <th>1</th>\n",
       "      <td>2508</td>\n",
       "      <td>зарубежные</td>\n",
       "      <td>genre</td>\n",
       "    </tr>\n",
       "  </tbody>\n",
       "</table>\n",
       "</div>"
      ],
      "text/plain": [
       "      id       value feature\n",
       "0  10711       драмы   genre\n",
       "0  10711  зарубежные   genre\n",
       "0  10711   детективы   genre\n",
       "0  10711   мелодрамы   genre\n",
       "1   2508  зарубежные   genre"
      ]
     },
     "execution_count": 39,
     "metadata": {},
     "output_type": "execute_result"
    }
   ],
   "source": [
    "# Explode genres feature to flatten table\n",
    "items[\"genre\"] = items[\"genres\"].str.lower().str.replace(\", \", \",\", regex=False).str.split(\",\")\n",
    "genre_feature = items[[\"item_id\", \"genre\"]].explode(\"genre\")\n",
    "genre_feature.columns = [\"id\", \"value\"]\n",
    "genre_feature[\"feature\"] = \"genre\"\n",
    "genre_feature.head()"
   ]
  },
  {
   "cell_type": "code",
   "execution_count": 40,
   "id": "170fe9e2",
   "metadata": {},
   "outputs": [
    {
     "data": {
      "text/html": [
       "<div>\n",
       "<style scoped>\n",
       "    .dataframe tbody tr th:only-of-type {\n",
       "        vertical-align: middle;\n",
       "    }\n",
       "\n",
       "    .dataframe tbody tr th {\n",
       "        vertical-align: top;\n",
       "    }\n",
       "\n",
       "    .dataframe thead th {\n",
       "        text-align: right;\n",
       "    }\n",
       "</style>\n",
       "<table border=\"1\" class=\"dataframe\">\n",
       "  <thead>\n",
       "    <tr style=\"text-align: right;\">\n",
       "      <th></th>\n",
       "      <th>id</th>\n",
       "      <th>value</th>\n",
       "      <th>feature</th>\n",
       "    </tr>\n",
       "  </thead>\n",
       "  <tbody>\n",
       "    <tr>\n",
       "      <th>0</th>\n",
       "      <td>10711</td>\n",
       "      <td>film</td>\n",
       "      <td>content_type</td>\n",
       "    </tr>\n",
       "    <tr>\n",
       "      <th>1</th>\n",
       "      <td>2508</td>\n",
       "      <td>film</td>\n",
       "      <td>content_type</td>\n",
       "    </tr>\n",
       "    <tr>\n",
       "      <th>2</th>\n",
       "      <td>10716</td>\n",
       "      <td>film</td>\n",
       "      <td>content_type</td>\n",
       "    </tr>\n",
       "    <tr>\n",
       "      <th>3</th>\n",
       "      <td>7868</td>\n",
       "      <td>film</td>\n",
       "      <td>content_type</td>\n",
       "    </tr>\n",
       "    <tr>\n",
       "      <th>4</th>\n",
       "      <td>16268</td>\n",
       "      <td>film</td>\n",
       "      <td>content_type</td>\n",
       "    </tr>\n",
       "  </tbody>\n",
       "</table>\n",
       "</div>"
      ],
      "text/plain": [
       "      id value       feature\n",
       "0  10711  film  content_type\n",
       "1   2508  film  content_type\n",
       "2  10716  film  content_type\n",
       "3   7868  film  content_type\n",
       "4  16268  film  content_type"
      ]
     },
     "execution_count": 40,
     "metadata": {},
     "output_type": "execute_result"
    }
   ],
   "source": [
    "# Explode content feature to flatten table\n",
    "content_feature = items.reindex(columns=[Columns.Item, \"content_type\"])\n",
    "content_feature.columns = [\"id\", \"value\"]\n",
    "content_feature[\"feature\"] = \"content_type\"\n",
    "content_feature.head()"
   ]
  },
  {
   "cell_type": "code",
   "execution_count": 41,
   "id": "eb13b3f1",
   "metadata": {},
   "outputs": [
    {
     "data": {
      "text/html": [
       "<div>\n",
       "<style scoped>\n",
       "    .dataframe tbody tr th:only-of-type {\n",
       "        vertical-align: middle;\n",
       "    }\n",
       "\n",
       "    .dataframe tbody tr th {\n",
       "        vertical-align: top;\n",
       "    }\n",
       "\n",
       "    .dataframe thead th {\n",
       "        text-align: right;\n",
       "    }\n",
       "</style>\n",
       "<table border=\"1\" class=\"dataframe\">\n",
       "  <thead>\n",
       "    <tr style=\"text-align: right;\">\n",
       "      <th></th>\n",
       "      <th>id</th>\n",
       "      <th>value</th>\n",
       "      <th>feature</th>\n",
       "    </tr>\n",
       "  </thead>\n",
       "  <tbody>\n",
       "    <tr>\n",
       "      <th>0</th>\n",
       "      <td>10711</td>\n",
       "      <td>драмы</td>\n",
       "      <td>genre</td>\n",
       "    </tr>\n",
       "    <tr>\n",
       "      <th>0</th>\n",
       "      <td>10711</td>\n",
       "      <td>зарубежные</td>\n",
       "      <td>genre</td>\n",
       "    </tr>\n",
       "    <tr>\n",
       "      <th>0</th>\n",
       "      <td>10711</td>\n",
       "      <td>детективы</td>\n",
       "      <td>genre</td>\n",
       "    </tr>\n",
       "    <tr>\n",
       "      <th>0</th>\n",
       "      <td>10711</td>\n",
       "      <td>мелодрамы</td>\n",
       "      <td>genre</td>\n",
       "    </tr>\n",
       "    <tr>\n",
       "      <th>1</th>\n",
       "      <td>2508</td>\n",
       "      <td>зарубежные</td>\n",
       "      <td>genre</td>\n",
       "    </tr>\n",
       "  </tbody>\n",
       "</table>\n",
       "</div>"
      ],
      "text/plain": [
       "      id       value feature\n",
       "0  10711       драмы   genre\n",
       "0  10711  зарубежные   genre\n",
       "0  10711   детективы   genre\n",
       "0  10711   мелодрамы   genre\n",
       "1   2508  зарубежные   genre"
      ]
     },
     "execution_count": 41,
     "metadata": {},
     "output_type": "execute_result"
    }
   ],
   "source": [
    "# Concatenating features\n",
    "item_features = pd.concat((genre_feature, content_feature))\n",
    "item_features.head()"
   ]
  },
  {
   "cell_type": "code",
   "execution_count": 42,
   "id": "b9d78195-01c0-43c6-b600-6a228c6e4f80",
   "metadata": {},
   "outputs": [
    {
     "name": "stdout",
     "output_type": "stream",
     "text": [
      "users_mapping amount: 756562\n",
      "items_mapping amount: 14019\n"
     ]
    }
   ],
   "source": [
    "users_inv_mapping = dict(enumerate(train['user_id'].unique()))\n",
    "users_mapping = {v: k for k, v in users_inv_mapping.items()}\n",
    "\n",
    "items_inv_mapping = dict(enumerate(train['item_id'].unique()))\n",
    "items_mapping = {v: k for k, v in items_inv_mapping.items()}\n",
    "\n",
    "print(f\"users_mapping amount: {len(users_mapping)}\")\n",
    "print(f\"items_mapping amount: {len(items_mapping)}\")"
   ]
  },
  {
   "cell_type": "markdown",
   "id": "bb2256e8",
   "metadata": {},
   "source": [
    "# 5. ALS, BPR"
   ]
  },
  {
   "cell_type": "code",
   "execution_count": 43,
   "id": "7c36b841",
   "metadata": {},
   "outputs": [],
   "source": [
    "K_RECOS = 10\n",
    "RANDOM_STATE = 42\n",
    "N_FACTORS = (4, 16, 32)\n",
    "N_EPOCHS = 1 # Lightfm\n",
    "USER_ALPHA = 0 # Lightfm\n",
    "ITEM_ALPHA = 0 # Lightfm\n",
    "LEARNING_RATE = 0.05 # Lightfm"
   ]
  },
  {
   "cell_type": "code",
   "execution_count": 44,
   "id": "2496b317",
   "metadata": {},
   "outputs": [],
   "source": [
    "dataset = Dataset.construct(\n",
    "    interactions_df=train,\n",
    "    user_features_df=user_features,\n",
    "    cat_user_features=[\"sex\", \"age\", \"income\"],\n",
    "    item_features_df=item_features,\n",
    "    cat_item_features=[\"genre\", \"content_type\"],\n",
    ")"
   ]
  },
  {
   "cell_type": "code",
   "execution_count": 45,
   "id": "b1d3bf4a",
   "metadata": {},
   "outputs": [],
   "source": [
    "TEST_USERS = test[Columns.User].unique()"
   ]
  },
  {
   "cell_type": "code",
   "execution_count": 46,
   "id": "9a3a7f26",
   "metadata": {},
   "outputs": [],
   "source": [
    "# models from implicit\n",
    "models = {}\n",
    "\n",
    "implicit_models = {\n",
    "    'ALS': AlternatingLeastSquares,\n",
    "}\n",
    "for implicit_name, implicit_model in implicit_models.items():\n",
    "    for is_fitting_features in (True, False):\n",
    "        for n_factors in N_FACTORS:\n",
    "            models[f\"{implicit_name}_{n_factors}_{is_fitting_features}\"] = (\n",
    "                ImplicitALSWrapperModel(\n",
    "                model=implicit_model(\n",
    "                    factors=n_factors, \n",
    "                    random_state=RANDOM_STATE, \n",
    "                ),\n",
    "                fit_features_together = is_fitting_features,\n",
    "            )\n",
    "        )"
   ]
  },
  {
   "cell_type": "code",
   "execution_count": 47,
   "id": "12d1741a",
   "metadata": {},
   "outputs": [],
   "source": [
    "# models from lightfm\n",
    "\n",
    "lightfm_losses = ('logistic', 'bpr', 'warp')\n",
    "\n",
    "for loss in lightfm_losses:\n",
    "    for n_factors in N_FACTORS:\n",
    "        models[f\"LightFM_{loss}_{n_factors}\"] = LightFMWrapperModel(\n",
    "            LightFM(\n",
    "                no_components=n_factors, \n",
    "                loss=loss, \n",
    "                random_state=RANDOM_STATE,\n",
    "                learning_rate=LEARNING_RATE,\n",
    "                user_alpha=USER_ALPHA,\n",
    "                item_alpha=ITEM_ALPHA,\n",
    "            ),\n",
    "            epochs=N_EPOCHS,\n",
    "        )"
   ]
  },
  {
   "cell_type": "code",
   "execution_count": 48,
   "id": "37bf0c5f",
   "metadata": {},
   "outputs": [
    {
     "data": {
      "text/plain": [
       "{'ALS_4_True': <rectools.models.implicit_als.ImplicitALSWrapperModel at 0x7fbf948de790>,\n",
       " 'ALS_16_True': <rectools.models.implicit_als.ImplicitALSWrapperModel at 0x7fbf948de220>,\n",
       " 'ALS_32_True': <rectools.models.implicit_als.ImplicitALSWrapperModel at 0x7fbf948de850>,\n",
       " 'ALS_4_False': <rectools.models.implicit_als.ImplicitALSWrapperModel at 0x7fbf948de2e0>,\n",
       " 'ALS_16_False': <rectools.models.implicit_als.ImplicitALSWrapperModel at 0x7fbf948de0a0>,\n",
       " 'ALS_32_False': <rectools.models.implicit_als.ImplicitALSWrapperModel at 0x7fbf948de040>,\n",
       " 'LightFM_logistic_4': <rectools.models.lightfm.LightFMWrapperModel at 0x7fbf948de280>,\n",
       " 'LightFM_logistic_16': <rectools.models.lightfm.LightFMWrapperModel at 0x7fbf948de490>,\n",
       " 'LightFM_logistic_32': <rectools.models.lightfm.LightFMWrapperModel at 0x7fbf948de700>,\n",
       " 'LightFM_bpr_4': <rectools.models.lightfm.LightFMWrapperModel at 0x7fbf948de940>,\n",
       " 'LightFM_bpr_16': <rectools.models.lightfm.LightFMWrapperModel at 0x7fbf948dea00>,\n",
       " 'LightFM_bpr_32': <rectools.models.lightfm.LightFMWrapperModel at 0x7fbf948de4f0>,\n",
       " 'LightFM_warp_4': <rectools.models.lightfm.LightFMWrapperModel at 0x7fbf948deb50>,\n",
       " 'LightFM_warp_16': <rectools.models.lightfm.LightFMWrapperModel at 0x7fbf948dec40>,\n",
       " 'LightFM_warp_32': <rectools.models.lightfm.LightFMWrapperModel at 0x7fbf948ded60>}"
      ]
     },
     "execution_count": 48,
     "metadata": {},
     "output_type": "execute_result"
    }
   ],
   "source": [
    "models"
   ]
  },
  {
   "cell_type": "code",
   "execution_count": 49,
   "id": "67189bb0",
   "metadata": {},
   "outputs": [],
   "source": [
    "# metrics\n",
    "metrics_name = {\n",
    "    'Precision': Precision,\n",
    "    'Recall': Recall,\n",
    "    'MAP': MAP,\n",
    "}\n",
    "\n",
    "metrics = {}\n",
    "for metric_name, metric in metrics_name.items():\n",
    "    for k in range(1, 10+1):\n",
    "        metrics[f'{metric_name}@{k}'] = metric(k=k)"
   ]
  },
  {
   "cell_type": "code",
   "execution_count": 50,
   "id": "b6517fa2",
   "metadata": {},
   "outputs": [
    {
     "data": {
      "text/plain": [
       "{'Precision@1': Precision(k=1),\n",
       " 'Precision@2': Precision(k=2),\n",
       " 'Precision@3': Precision(k=3),\n",
       " 'Precision@4': Precision(k=4),\n",
       " 'Precision@5': Precision(k=5),\n",
       " 'Precision@6': Precision(k=6),\n",
       " 'Precision@7': Precision(k=7),\n",
       " 'Precision@8': Precision(k=8),\n",
       " 'Precision@9': Precision(k=9),\n",
       " 'Precision@10': Precision(k=10),\n",
       " 'Recall@1': Recall(k=1),\n",
       " 'Recall@2': Recall(k=2),\n",
       " 'Recall@3': Recall(k=3),\n",
       " 'Recall@4': Recall(k=4),\n",
       " 'Recall@5': Recall(k=5),\n",
       " 'Recall@6': Recall(k=6),\n",
       " 'Recall@7': Recall(k=7),\n",
       " 'Recall@8': Recall(k=8),\n",
       " 'Recall@9': Recall(k=9),\n",
       " 'Recall@10': Recall(k=10),\n",
       " 'MAP@1': MAP(k=1, divide_by_k=False),\n",
       " 'MAP@2': MAP(k=2, divide_by_k=False),\n",
       " 'MAP@3': MAP(k=3, divide_by_k=False),\n",
       " 'MAP@4': MAP(k=4, divide_by_k=False),\n",
       " 'MAP@5': MAP(k=5, divide_by_k=False),\n",
       " 'MAP@6': MAP(k=6, divide_by_k=False),\n",
       " 'MAP@7': MAP(k=7, divide_by_k=False),\n",
       " 'MAP@8': MAP(k=8, divide_by_k=False),\n",
       " 'MAP@9': MAP(k=9, divide_by_k=False),\n",
       " 'MAP@10': MAP(k=10, divide_by_k=False)}"
      ]
     },
     "execution_count": 50,
     "metadata": {},
     "output_type": "execute_result"
    }
   ],
   "source": [
    "metrics"
   ]
  },
  {
   "cell_type": "code",
   "execution_count": 61,
   "id": "a709cc00",
   "metadata": {},
   "outputs": [
    {
     "name": "stdout",
     "output_type": "stream",
     "text": [
      "Fitting model ALS_4_True...\n",
      "Fitting model ALS_16_True...\n"
     ]
    },
    {
     "name": "stderr",
     "output_type": "stream",
     "text": [
      "/home/mikhail/Documents/DL/ITMORecoService_32/.venv/lib/python3.8/site-packages/rectools/dataset/features.py:399: UserWarning: Converting sparse features to dense array may cause MemoryError\n",
      "  warnings.warn(\"Converting sparse features to dense array may cause MemoryError\")\n"
     ]
    },
    {
     "name": "stdout",
     "output_type": "stream",
     "text": [
      "Fitting model ALS_32_True...\n"
     ]
    },
    {
     "name": "stderr",
     "output_type": "stream",
     "text": [
      "/home/mikhail/Documents/DL/ITMORecoService_32/.venv/lib/python3.8/site-packages/rectools/dataset/features.py:399: UserWarning: Converting sparse features to dense array may cause MemoryError\n",
      "  warnings.warn(\"Converting sparse features to dense array may cause MemoryError\")\n"
     ]
    },
    {
     "name": "stdout",
     "output_type": "stream",
     "text": [
      "Fitting model ALS_4_False...\n"
     ]
    },
    {
     "name": "stderr",
     "output_type": "stream",
     "text": [
      "/home/mikhail/Documents/DL/ITMORecoService_32/.venv/lib/python3.8/site-packages/rectools/dataset/features.py:399: UserWarning: Converting sparse features to dense array may cause MemoryError\n",
      "  warnings.warn(\"Converting sparse features to dense array may cause MemoryError\")\n"
     ]
    },
    {
     "name": "stdout",
     "output_type": "stream",
     "text": [
      "Fitting model ALS_16_False...\n"
     ]
    },
    {
     "name": "stderr",
     "output_type": "stream",
     "text": [
      "/home/mikhail/Documents/DL/ITMORecoService_32/.venv/lib/python3.8/site-packages/rectools/dataset/features.py:399: UserWarning: Converting sparse features to dense array may cause MemoryError\n",
      "  warnings.warn(\"Converting sparse features to dense array may cause MemoryError\")\n"
     ]
    },
    {
     "name": "stdout",
     "output_type": "stream",
     "text": [
      "Fitting model ALS_32_False...\n"
     ]
    },
    {
     "name": "stderr",
     "output_type": "stream",
     "text": [
      "/home/mikhail/Documents/DL/ITMORecoService_32/.venv/lib/python3.8/site-packages/rectools/dataset/features.py:399: UserWarning: Converting sparse features to dense array may cause MemoryError\n",
      "  warnings.warn(\"Converting sparse features to dense array may cause MemoryError\")\n"
     ]
    },
    {
     "name": "stdout",
     "output_type": "stream",
     "text": [
      "Fitting model LightFM_logistic_4...\n",
      "Fitting model LightFM_logistic_16...\n",
      "Fitting model LightFM_logistic_32...\n",
      "Fitting model LightFM_bpr_4...\n",
      "Fitting model LightFM_bpr_16...\n",
      "Fitting model LightFM_bpr_32...\n",
      "Fitting model LightFM_warp_4...\n",
      "Fitting model LightFM_warp_16...\n",
      "Fitting model LightFM_warp_32...\n"
     ]
    }
   ],
   "source": [
    "models_dir = Path('../models')\n",
    "models_dir.mkdir(exist_ok=True)\n",
    "\n",
    "results = []\n",
    "for model_name, model in models.items():\n",
    "    print(f\"Fitting model {model_name}...\")\n",
    "    model_quality = {'model': model_name}\n",
    "\n",
    "    model.fit(dataset)\n",
    "    with open(models_dir / f'{model_name}.dill', 'wb') as f:\n",
    "        dill.dump(model, f)\n",
    "    recos = model.recommend(\n",
    "        users=TEST_USERS,\n",
    "        dataset=dataset,\n",
    "        k=K_RECOS,\n",
    "        filter_viewed=True,\n",
    "    )\n",
    "    metric_values = calc_metrics(metrics, recos, test, train)\n",
    "    model_quality.update(metric_values)\n",
    "    results.append(model_quality)"
   ]
  },
  {
   "cell_type": "code",
   "execution_count": 64,
   "id": "29061389",
   "metadata": {},
   "outputs": [],
   "source": [
    "# Creating a df and highlighting highest result in a row\n",
    "df_quality = pd.DataFrame(results).T\n",
    "df_quality.columns = df_quality.iloc[0]\n",
    "df_quality.drop('model', inplace=True)"
   ]
  },
  {
   "cell_type": "code",
   "execution_count": 65,
   "id": "471b0a9c",
   "metadata": {},
   "outputs": [
    {
     "data": {
      "text/html": [
       "<style type=\"text/css\">\n",
       "#T_a299b_row0_col12, #T_a299b_row1_col2, #T_a299b_row2_col14, #T_a299b_row3_col1, #T_a299b_row4_col14, #T_a299b_row5_col14, #T_a299b_row6_col14, #T_a299b_row7_col14, #T_a299b_row8_col13, #T_a299b_row9_col13, #T_a299b_row10_col13, #T_a299b_row11_col13, #T_a299b_row12_col13, #T_a299b_row13_col13, #T_a299b_row14_col13, #T_a299b_row15_col13, #T_a299b_row16_col13, #T_a299b_row17_col13, #T_a299b_row18_col13, #T_a299b_row19_col13, #T_a299b_row20_col2, #T_a299b_row21_col1, #T_a299b_row22_col14, #T_a299b_row23_col14, #T_a299b_row24_col14, #T_a299b_row25_col13, #T_a299b_row26_col13, #T_a299b_row27_col13, #T_a299b_row28_col13, #T_a299b_row29_col13 {\n",
       "  background-color: lightgreen;\n",
       "}\n",
       "</style>\n",
       "<table id=\"T_a299b\">\n",
       "  <thead>\n",
       "    <tr>\n",
       "      <th class=\"index_name level0\" >model</th>\n",
       "      <th id=\"T_a299b_level0_col0\" class=\"col_heading level0 col0\" >ALS_4_True</th>\n",
       "      <th id=\"T_a299b_level0_col1\" class=\"col_heading level0 col1\" >ALS_16_True</th>\n",
       "      <th id=\"T_a299b_level0_col2\" class=\"col_heading level0 col2\" >ALS_32_True</th>\n",
       "      <th id=\"T_a299b_level0_col3\" class=\"col_heading level0 col3\" >ALS_4_False</th>\n",
       "      <th id=\"T_a299b_level0_col4\" class=\"col_heading level0 col4\" >ALS_16_False</th>\n",
       "      <th id=\"T_a299b_level0_col5\" class=\"col_heading level0 col5\" >ALS_32_False</th>\n",
       "      <th id=\"T_a299b_level0_col6\" class=\"col_heading level0 col6\" >LightFM_logistic_4</th>\n",
       "      <th id=\"T_a299b_level0_col7\" class=\"col_heading level0 col7\" >LightFM_logistic_16</th>\n",
       "      <th id=\"T_a299b_level0_col8\" class=\"col_heading level0 col8\" >LightFM_logistic_32</th>\n",
       "      <th id=\"T_a299b_level0_col9\" class=\"col_heading level0 col9\" >LightFM_bpr_4</th>\n",
       "      <th id=\"T_a299b_level0_col10\" class=\"col_heading level0 col10\" >LightFM_bpr_16</th>\n",
       "      <th id=\"T_a299b_level0_col11\" class=\"col_heading level0 col11\" >LightFM_bpr_32</th>\n",
       "      <th id=\"T_a299b_level0_col12\" class=\"col_heading level0 col12\" >LightFM_warp_4</th>\n",
       "      <th id=\"T_a299b_level0_col13\" class=\"col_heading level0 col13\" >LightFM_warp_16</th>\n",
       "      <th id=\"T_a299b_level0_col14\" class=\"col_heading level0 col14\" >LightFM_warp_32</th>\n",
       "    </tr>\n",
       "  </thead>\n",
       "  <tbody>\n",
       "    <tr>\n",
       "      <th id=\"T_a299b_level0_row0\" class=\"row_heading level0 row0\" >Precision@1</th>\n",
       "      <td id=\"T_a299b_row0_col0\" class=\"data row0 col0\" >0.079839</td>\n",
       "      <td id=\"T_a299b_row0_col1\" class=\"data row0 col1\" >0.081379</td>\n",
       "      <td id=\"T_a299b_row0_col2\" class=\"data row0 col2\" >0.081043</td>\n",
       "      <td id=\"T_a299b_row0_col3\" class=\"data row0 col3\" >0.072953</td>\n",
       "      <td id=\"T_a299b_row0_col4\" class=\"data row0 col4\" >0.058676</td>\n",
       "      <td id=\"T_a299b_row0_col5\" class=\"data row0 col5\" >0.061021</td>\n",
       "      <td id=\"T_a299b_row0_col6\" class=\"data row0 col6\" >0.000363</td>\n",
       "      <td id=\"T_a299b_row0_col7\" class=\"data row0 col7\" >0.000363</td>\n",
       "      <td id=\"T_a299b_row0_col8\" class=\"data row0 col8\" >0.000363</td>\n",
       "      <td id=\"T_a299b_row0_col9\" class=\"data row0 col9\" >0.028962</td>\n",
       "      <td id=\"T_a299b_row0_col10\" class=\"data row0 col10\" >0.033210</td>\n",
       "      <td id=\"T_a299b_row0_col11\" class=\"data row0 col11\" >0.033564</td>\n",
       "      <td id=\"T_a299b_row0_col12\" class=\"data row0 col12\" >0.081433</td>\n",
       "      <td id=\"T_a299b_row0_col13\" class=\"data row0 col13\" >0.079653</td>\n",
       "      <td id=\"T_a299b_row0_col14\" class=\"data row0 col14\" >0.079804</td>\n",
       "    </tr>\n",
       "    <tr>\n",
       "      <th id=\"T_a299b_level0_row1\" class=\"row_heading level0 row1\" >Recall@1</th>\n",
       "      <td id=\"T_a299b_row1_col0\" class=\"data row1 col0\" >0.040853</td>\n",
       "      <td id=\"T_a299b_row1_col1\" class=\"data row1 col1\" >0.041867</td>\n",
       "      <td id=\"T_a299b_row1_col2\" class=\"data row1 col2\" >0.041905</td>\n",
       "      <td id=\"T_a299b_row1_col3\" class=\"data row1 col3\" >0.036633</td>\n",
       "      <td id=\"T_a299b_row1_col4\" class=\"data row1 col4\" >0.028896</td>\n",
       "      <td id=\"T_a299b_row1_col5\" class=\"data row1 col5\" >0.030265</td>\n",
       "      <td id=\"T_a299b_row1_col6\" class=\"data row1 col6\" >0.000116</td>\n",
       "      <td id=\"T_a299b_row1_col7\" class=\"data row1 col7\" >0.000116</td>\n",
       "      <td id=\"T_a299b_row1_col8\" class=\"data row1 col8\" >0.000116</td>\n",
       "      <td id=\"T_a299b_row1_col9\" class=\"data row1 col9\" >0.016639</td>\n",
       "      <td id=\"T_a299b_row1_col10\" class=\"data row1 col10\" >0.019000</td>\n",
       "      <td id=\"T_a299b_row1_col11\" class=\"data row1 col11\" >0.019221</td>\n",
       "      <td id=\"T_a299b_row1_col12\" class=\"data row1 col12\" >0.041697</td>\n",
       "      <td id=\"T_a299b_row1_col13\" class=\"data row1 col13\" >0.040503</td>\n",
       "      <td id=\"T_a299b_row1_col14\" class=\"data row1 col14\" >0.040512</td>\n",
       "    </tr>\n",
       "    <tr>\n",
       "      <th id=\"T_a299b_level0_row2\" class=\"row_heading level0 row2\" >Precision@2</th>\n",
       "      <td id=\"T_a299b_row2_col0\" class=\"data row2 col0\" >0.068200</td>\n",
       "      <td id=\"T_a299b_row2_col1\" class=\"data row2 col1\" >0.069195</td>\n",
       "      <td id=\"T_a299b_row2_col2\" class=\"data row2 col2\" >0.068961</td>\n",
       "      <td id=\"T_a299b_row2_col3\" class=\"data row2 col3\" >0.063787</td>\n",
       "      <td id=\"T_a299b_row2_col4\" class=\"data row2 col4\" >0.053710</td>\n",
       "      <td id=\"T_a299b_row2_col5\" class=\"data row2 col5\" >0.054361</td>\n",
       "      <td id=\"T_a299b_row2_col6\" class=\"data row2 col6\" >0.000469</td>\n",
       "      <td id=\"T_a299b_row2_col7\" class=\"data row2 col7\" >0.000469</td>\n",
       "      <td id=\"T_a299b_row2_col8\" class=\"data row2 col8\" >0.000469</td>\n",
       "      <td id=\"T_a299b_row2_col9\" class=\"data row2 col9\" >0.019849</td>\n",
       "      <td id=\"T_a299b_row2_col10\" class=\"data row2 col10\" >0.023969</td>\n",
       "      <td id=\"T_a299b_row2_col11\" class=\"data row2 col11\" >0.024660</td>\n",
       "      <td id=\"T_a299b_row2_col12\" class=\"data row2 col12\" >0.067965</td>\n",
       "      <td id=\"T_a299b_row2_col13\" class=\"data row2 col13\" >0.068983</td>\n",
       "      <td id=\"T_a299b_row2_col14\" class=\"data row2 col14\" >0.069364</td>\n",
       "    </tr>\n",
       "    <tr>\n",
       "      <th id=\"T_a299b_level0_row3\" class=\"row_heading level0 row3\" >Recall@2</th>\n",
       "      <td id=\"T_a299b_row3_col0\" class=\"data row3 col0\" >0.068557</td>\n",
       "      <td id=\"T_a299b_row3_col1\" class=\"data row3 col1\" >0.069732</td>\n",
       "      <td id=\"T_a299b_row3_col2\" class=\"data row3 col2\" >0.069409</td>\n",
       "      <td id=\"T_a299b_row3_col3\" class=\"data row3 col3\" >0.063528</td>\n",
       "      <td id=\"T_a299b_row3_col4\" class=\"data row3 col4\" >0.052244</td>\n",
       "      <td id=\"T_a299b_row3_col5\" class=\"data row3 col5\" >0.053263</td>\n",
       "      <td id=\"T_a299b_row3_col6\" class=\"data row3 col6\" >0.000301</td>\n",
       "      <td id=\"T_a299b_row3_col7\" class=\"data row3 col7\" >0.000301</td>\n",
       "      <td id=\"T_a299b_row3_col8\" class=\"data row3 col8\" >0.000301</td>\n",
       "      <td id=\"T_a299b_row3_col9\" class=\"data row3 col9\" >0.022370</td>\n",
       "      <td id=\"T_a299b_row3_col10\" class=\"data row3 col10\" >0.026595</td>\n",
       "      <td id=\"T_a299b_row3_col11\" class=\"data row3 col11\" >0.027518</td>\n",
       "      <td id=\"T_a299b_row3_col12\" class=\"data row3 col12\" >0.068025</td>\n",
       "      <td id=\"T_a299b_row3_col13\" class=\"data row3 col13\" >0.068443</td>\n",
       "      <td id=\"T_a299b_row3_col14\" class=\"data row3 col14\" >0.069145</td>\n",
       "    </tr>\n",
       "    <tr>\n",
       "      <th id=\"T_a299b_level0_row4\" class=\"row_heading level0 row4\" >Precision@3</th>\n",
       "      <td id=\"T_a299b_row4_col0\" class=\"data row4 col0\" >0.059652</td>\n",
       "      <td id=\"T_a299b_row4_col1\" class=\"data row4 col1\" >0.059753</td>\n",
       "      <td id=\"T_a299b_row4_col2\" class=\"data row4 col2\" >0.059425</td>\n",
       "      <td id=\"T_a299b_row4_col3\" class=\"data row4 col3\" >0.057100</td>\n",
       "      <td id=\"T_a299b_row4_col4\" class=\"data row4 col4\" >0.049594</td>\n",
       "      <td id=\"T_a299b_row4_col5\" class=\"data row4 col5\" >0.050435</td>\n",
       "      <td id=\"T_a299b_row4_col6\" class=\"data row4 col6\" >0.000434</td>\n",
       "      <td id=\"T_a299b_row4_col7\" class=\"data row4 col7\" >0.000313</td>\n",
       "      <td id=\"T_a299b_row4_col8\" class=\"data row4 col8\" >0.000313</td>\n",
       "      <td id=\"T_a299b_row4_col9\" class=\"data row4 col9\" >0.015215</td>\n",
       "      <td id=\"T_a299b_row4_col10\" class=\"data row4 col10\" >0.018653</td>\n",
       "      <td id=\"T_a299b_row4_col11\" class=\"data row4 col11\" >0.019697</td>\n",
       "      <td id=\"T_a299b_row4_col12\" class=\"data row4 col12\" >0.059776</td>\n",
       "      <td id=\"T_a299b_row4_col13\" class=\"data row4 col13\" >0.062042</td>\n",
       "      <td id=\"T_a299b_row4_col14\" class=\"data row4 col14\" >0.062125</td>\n",
       "    </tr>\n",
       "    <tr>\n",
       "      <th id=\"T_a299b_level0_row5\" class=\"row_heading level0 row5\" >Recall@3</th>\n",
       "      <td id=\"T_a299b_row5_col0\" class=\"data row5 col0\" >0.088229</td>\n",
       "      <td id=\"T_a299b_row5_col1\" class=\"data row5 col1\" >0.088386</td>\n",
       "      <td id=\"T_a299b_row5_col2\" class=\"data row5 col2\" >0.087776</td>\n",
       "      <td id=\"T_a299b_row5_col3\" class=\"data row5 col3\" >0.084089</td>\n",
       "      <td id=\"T_a299b_row5_col4\" class=\"data row5 col4\" >0.071360</td>\n",
       "      <td id=\"T_a299b_row5_col5\" class=\"data row5 col5\" >0.073058</td>\n",
       "      <td id=\"T_a299b_row5_col6\" class=\"data row5 col6\" >0.000473</td>\n",
       "      <td id=\"T_a299b_row5_col7\" class=\"data row5 col7\" >0.000301</td>\n",
       "      <td id=\"T_a299b_row5_col8\" class=\"data row5 col8\" >0.000301</td>\n",
       "      <td id=\"T_a299b_row5_col9\" class=\"data row5 col9\" >0.025505</td>\n",
       "      <td id=\"T_a299b_row5_col10\" class=\"data row5 col10\" >0.030642</td>\n",
       "      <td id=\"T_a299b_row5_col11\" class=\"data row5 col11\" >0.032315</td>\n",
       "      <td id=\"T_a299b_row5_col12\" class=\"data row5 col12\" >0.088296</td>\n",
       "      <td id=\"T_a299b_row5_col13\" class=\"data row5 col13\" >0.091157</td>\n",
       "      <td id=\"T_a299b_row5_col14\" class=\"data row5 col14\" >0.091500</td>\n",
       "    </tr>\n",
       "    <tr>\n",
       "      <th id=\"T_a299b_level0_row6\" class=\"row_heading level0 row6\" >Precision@4</th>\n",
       "      <td id=\"T_a299b_row6_col0\" class=\"data row6 col0\" >0.052843</td>\n",
       "      <td id=\"T_a299b_row6_col1\" class=\"data row6 col1\" >0.053252</td>\n",
       "      <td id=\"T_a299b_row6_col2\" class=\"data row6 col2\" >0.052741</td>\n",
       "      <td id=\"T_a299b_row6_col3\" class=\"data row6 col3\" >0.051024</td>\n",
       "      <td id=\"T_a299b_row6_col4\" class=\"data row6 col4\" >0.046405</td>\n",
       "      <td id=\"T_a299b_row6_col5\" class=\"data row6 col5\" >0.046731</td>\n",
       "      <td id=\"T_a299b_row6_col6\" class=\"data row6 col6\" >0.000354</td>\n",
       "      <td id=\"T_a299b_row6_col7\" class=\"data row6 col7\" >0.000350</td>\n",
       "      <td id=\"T_a299b_row6_col8\" class=\"data row6 col8\" >0.000237</td>\n",
       "      <td id=\"T_a299b_row6_col9\" class=\"data row6 col9\" >0.012556</td>\n",
       "      <td id=\"T_a299b_row6_col10\" class=\"data row6 col10\" >0.015397</td>\n",
       "      <td id=\"T_a299b_row6_col11\" class=\"data row6 col11\" >0.016497</td>\n",
       "      <td id=\"T_a299b_row6_col12\" class=\"data row6 col12\" >0.054367</td>\n",
       "      <td id=\"T_a299b_row6_col13\" class=\"data row6 col13\" >0.055845</td>\n",
       "      <td id=\"T_a299b_row6_col14\" class=\"data row6 col14\" >0.055861</td>\n",
       "    </tr>\n",
       "    <tr>\n",
       "      <th id=\"T_a299b_level0_row7\" class=\"row_heading level0 row7\" >Recall@4</th>\n",
       "      <td id=\"T_a299b_row7_col0\" class=\"data row7 col0\" >0.102719</td>\n",
       "      <td id=\"T_a299b_row7_col1\" class=\"data row7 col1\" >0.103579</td>\n",
       "      <td id=\"T_a299b_row7_col2\" class=\"data row7 col2\" >0.102545</td>\n",
       "      <td id=\"T_a299b_row7_col3\" class=\"data row7 col3\" >0.098638</td>\n",
       "      <td id=\"T_a299b_row7_col4\" class=\"data row7 col4\" >0.088156</td>\n",
       "      <td id=\"T_a299b_row7_col5\" class=\"data row7 col5\" >0.089611</td>\n",
       "      <td id=\"T_a299b_row7_col6\" class=\"data row7 col6\" >0.000512</td>\n",
       "      <td id=\"T_a299b_row7_col7\" class=\"data row7 col7\" >0.000514</td>\n",
       "      <td id=\"T_a299b_row7_col8\" class=\"data row7 col8\" >0.000302</td>\n",
       "      <td id=\"T_a299b_row7_col9\" class=\"data row7 col9\" >0.027625</td>\n",
       "      <td id=\"T_a299b_row7_col10\" class=\"data row7 col10\" >0.033269</td>\n",
       "      <td id=\"T_a299b_row7_col11\" class=\"data row7 col11\" >0.035609</td>\n",
       "      <td id=\"T_a299b_row7_col12\" class=\"data row7 col12\" >0.106091</td>\n",
       "      <td id=\"T_a299b_row7_col13\" class=\"data row7 col13\" >0.108316</td>\n",
       "      <td id=\"T_a299b_row7_col14\" class=\"data row7 col14\" >0.108380</td>\n",
       "    </tr>\n",
       "    <tr>\n",
       "      <th id=\"T_a299b_level0_row8\" class=\"row_heading level0 row8\" >Precision@5</th>\n",
       "      <td id=\"T_a299b_row8_col0\" class=\"data row8 col0\" >0.047307</td>\n",
       "      <td id=\"T_a299b_row8_col1\" class=\"data row8 col1\" >0.047507</td>\n",
       "      <td id=\"T_a299b_row8_col2\" class=\"data row8 col2\" >0.047126</td>\n",
       "      <td id=\"T_a299b_row8_col3\" class=\"data row8 col3\" >0.046238</td>\n",
       "      <td id=\"T_a299b_row8_col4\" class=\"data row8 col4\" >0.043391</td>\n",
       "      <td id=\"T_a299b_row8_col5\" class=\"data row8 col5\" >0.043133</td>\n",
       "      <td id=\"T_a299b_row8_col6\" class=\"data row8 col6\" >0.000290</td>\n",
       "      <td id=\"T_a299b_row8_col7\" class=\"data row8 col7\" >0.000299</td>\n",
       "      <td id=\"T_a299b_row8_col8\" class=\"data row8 col8\" >0.000197</td>\n",
       "      <td id=\"T_a299b_row8_col9\" class=\"data row8 col9\" >0.010623</td>\n",
       "      <td id=\"T_a299b_row8_col10\" class=\"data row8 col10\" >0.013265</td>\n",
       "      <td id=\"T_a299b_row8_col11\" class=\"data row8 col11\" >0.014093</td>\n",
       "      <td id=\"T_a299b_row8_col12\" class=\"data row8 col12\" >0.049428</td>\n",
       "      <td id=\"T_a299b_row8_col13\" class=\"data row8 col13\" >0.050715</td>\n",
       "      <td id=\"T_a299b_row8_col14\" class=\"data row8 col14\" >0.050488</td>\n",
       "    </tr>\n",
       "    <tr>\n",
       "      <th id=\"T_a299b_level0_row9\" class=\"row_heading level0 row9\" >Recall@5</th>\n",
       "      <td id=\"T_a299b_row9_col0\" class=\"data row9 col0\" >0.113988</td>\n",
       "      <td id=\"T_a299b_row9_col1\" class=\"data row9 col1\" >0.114334</td>\n",
       "      <td id=\"T_a299b_row9_col2\" class=\"data row9 col2\" >0.113141</td>\n",
       "      <td id=\"T_a299b_row9_col3\" class=\"data row9 col3\" >0.110624</td>\n",
       "      <td id=\"T_a299b_row9_col4\" class=\"data row9 col4\" >0.101862</td>\n",
       "      <td id=\"T_a299b_row9_col5\" class=\"data row9 col5\" >0.101747</td>\n",
       "      <td id=\"T_a299b_row9_col6\" class=\"data row9 col6\" >0.000531</td>\n",
       "      <td id=\"T_a299b_row9_col7\" class=\"data row9 col7\" >0.000528</td>\n",
       "      <td id=\"T_a299b_row9_col8\" class=\"data row9 col8\" >0.000318</td>\n",
       "      <td id=\"T_a299b_row9_col9\" class=\"data row9 col9\" >0.028907</td>\n",
       "      <td id=\"T_a299b_row9_col10\" class=\"data row9 col10\" >0.035516</td>\n",
       "      <td id=\"T_a299b_row9_col11\" class=\"data row9 col11\" >0.037741</td>\n",
       "      <td id=\"T_a299b_row9_col12\" class=\"data row9 col12\" >0.119280</td>\n",
       "      <td id=\"T_a299b_row9_col13\" class=\"data row9 col13\" >0.121963</td>\n",
       "      <td id=\"T_a299b_row9_col14\" class=\"data row9 col14\" >0.121249</td>\n",
       "    </tr>\n",
       "    <tr>\n",
       "      <th id=\"T_a299b_level0_row10\" class=\"row_heading level0 row10\" >Precision@6</th>\n",
       "      <td id=\"T_a299b_row10_col0\" class=\"data row10 col0\" >0.042492</td>\n",
       "      <td id=\"T_a299b_row10_col1\" class=\"data row10 col1\" >0.042649</td>\n",
       "      <td id=\"T_a299b_row10_col2\" class=\"data row10 col2\" >0.042305</td>\n",
       "      <td id=\"T_a299b_row10_col3\" class=\"data row10 col3\" >0.042271</td>\n",
       "      <td id=\"T_a299b_row10_col4\" class=\"data row10 col4\" >0.040557</td>\n",
       "      <td id=\"T_a299b_row10_col5\" class=\"data row10 col5\" >0.040027</td>\n",
       "      <td id=\"T_a299b_row10_col6\" class=\"data row10 col6\" >0.000243</td>\n",
       "      <td id=\"T_a299b_row10_col7\" class=\"data row10 col7\" >0.000251</td>\n",
       "      <td id=\"T_a299b_row10_col8\" class=\"data row10 col8\" >0.000168</td>\n",
       "      <td id=\"T_a299b_row10_col9\" class=\"data row10 col9\" >0.009216</td>\n",
       "      <td id=\"T_a299b_row10_col10\" class=\"data row10 col10\" >0.011678</td>\n",
       "      <td id=\"T_a299b_row10_col11\" class=\"data row10 col11\" >0.012491</td>\n",
       "      <td id=\"T_a299b_row10_col12\" class=\"data row10 col12\" >0.045275</td>\n",
       "      <td id=\"T_a299b_row10_col13\" class=\"data row10 col13\" >0.046306</td>\n",
       "      <td id=\"T_a299b_row10_col14\" class=\"data row10 col14\" >0.045913</td>\n",
       "    </tr>\n",
       "    <tr>\n",
       "      <th id=\"T_a299b_level0_row11\" class=\"row_heading level0 row11\" >Recall@6</th>\n",
       "      <td id=\"T_a299b_row11_col0\" class=\"data row11 col0\" >0.121488</td>\n",
       "      <td id=\"T_a299b_row11_col1\" class=\"data row11 col1\" >0.121888</td>\n",
       "      <td id=\"T_a299b_row11_col2\" class=\"data row11 col2\" >0.120845</td>\n",
       "      <td id=\"T_a299b_row11_col3\" class=\"data row11 col3\" >0.120621</td>\n",
       "      <td id=\"T_a299b_row11_col4\" class=\"data row11 col4\" >0.113703</td>\n",
       "      <td id=\"T_a299b_row11_col5\" class=\"data row11 col5\" >0.112000</td>\n",
       "      <td id=\"T_a299b_row11_col6\" class=\"data row11 col6\" >0.000532</td>\n",
       "      <td id=\"T_a299b_row11_col7\" class=\"data row11 col7\" >0.000529</td>\n",
       "      <td id=\"T_a299b_row11_col8\" class=\"data row11 col8\" >0.000320</td>\n",
       "      <td id=\"T_a299b_row11_col9\" class=\"data row11 col9\" >0.029991</td>\n",
       "      <td id=\"T_a299b_row11_col10\" class=\"data row11 col10\" >0.037176</td>\n",
       "      <td id=\"T_a299b_row11_col11\" class=\"data row11 col11\" >0.039688</td>\n",
       "      <td id=\"T_a299b_row11_col12\" class=\"data row11 col12\" >0.130016</td>\n",
       "      <td id=\"T_a299b_row11_col13\" class=\"data row11 col13\" >0.132426</td>\n",
       "      <td id=\"T_a299b_row11_col14\" class=\"data row11 col14\" >0.130981</td>\n",
       "    </tr>\n",
       "    <tr>\n",
       "      <th id=\"T_a299b_level0_row12\" class=\"row_heading level0 row12\" >Precision@7</th>\n",
       "      <td id=\"T_a299b_row12_col0\" class=\"data row12 col0\" >0.038625</td>\n",
       "      <td id=\"T_a299b_row12_col1\" class=\"data row12 col1\" >0.038823</td>\n",
       "      <td id=\"T_a299b_row12_col2\" class=\"data row12 col2\" >0.038516</td>\n",
       "      <td id=\"T_a299b_row12_col3\" class=\"data row12 col3\" >0.039081</td>\n",
       "      <td id=\"T_a299b_row12_col4\" class=\"data row12 col4\" >0.038043</td>\n",
       "      <td id=\"T_a299b_row12_col5\" class=\"data row12 col5\" >0.037431</td>\n",
       "      <td id=\"T_a299b_row12_col6\" class=\"data row12 col6\" >0.000223</td>\n",
       "      <td id=\"T_a299b_row12_col7\" class=\"data row12 col7\" >0.000221</td>\n",
       "      <td id=\"T_a299b_row12_col8\" class=\"data row12 col8\" >0.000197</td>\n",
       "      <td id=\"T_a299b_row12_col9\" class=\"data row12 col9\" >0.008167</td>\n",
       "      <td id=\"T_a299b_row12_col10\" class=\"data row12 col10\" >0.010537</td>\n",
       "      <td id=\"T_a299b_row12_col11\" class=\"data row12 col11\" >0.011346</td>\n",
       "      <td id=\"T_a299b_row12_col12\" class=\"data row12 col12\" >0.041434</td>\n",
       "      <td id=\"T_a299b_row12_col13\" class=\"data row12 col13\" >0.042480</td>\n",
       "      <td id=\"T_a299b_row12_col14\" class=\"data row12 col14\" >0.042250</td>\n",
       "    </tr>\n",
       "    <tr>\n",
       "      <th id=\"T_a299b_level0_row13\" class=\"row_heading level0 row13\" >Recall@7</th>\n",
       "      <td id=\"T_a299b_row13_col0\" class=\"data row13 col0\" >0.127714</td>\n",
       "      <td id=\"T_a299b_row13_col1\" class=\"data row13 col1\" >0.128418</td>\n",
       "      <td id=\"T_a299b_row13_col2\" class=\"data row13 col2\" >0.127244</td>\n",
       "      <td id=\"T_a299b_row13_col3\" class=\"data row13 col3\" >0.129477</td>\n",
       "      <td id=\"T_a299b_row13_col4\" class=\"data row13 col4\" >0.123266</td>\n",
       "      <td id=\"T_a299b_row13_col5\" class=\"data row13 col5\" >0.120783</td>\n",
       "      <td id=\"T_a299b_row13_col6\" class=\"data row13 col6\" >0.000548</td>\n",
       "      <td id=\"T_a299b_row13_col7\" class=\"data row13 col7\" >0.000545</td>\n",
       "      <td id=\"T_a299b_row13_col8\" class=\"data row13 col8\" >0.000407</td>\n",
       "      <td id=\"T_a299b_row13_col9\" class=\"data row13 col9\" >0.030833</td>\n",
       "      <td id=\"T_a299b_row13_col10\" class=\"data row13 col10\" >0.038864</td>\n",
       "      <td id=\"T_a299b_row13_col11\" class=\"data row13 col11\" >0.041779</td>\n",
       "      <td id=\"T_a299b_row13_col12\" class=\"data row13 col12\" >0.137766</td>\n",
       "      <td id=\"T_a299b_row13_col13\" class=\"data row13 col13\" >0.140744</td>\n",
       "      <td id=\"T_a299b_row13_col14\" class=\"data row13 col14\" >0.139535</td>\n",
       "    </tr>\n",
       "    <tr>\n",
       "      <th id=\"T_a299b_level0_row14\" class=\"row_heading level0 row14\" >Precision@8</th>\n",
       "      <td id=\"T_a299b_row14_col0\" class=\"data row14 col0\" >0.035492</td>\n",
       "      <td id=\"T_a299b_row14_col1\" class=\"data row14 col1\" >0.035623</td>\n",
       "      <td id=\"T_a299b_row14_col2\" class=\"data row14 col2\" >0.035403</td>\n",
       "      <td id=\"T_a299b_row14_col3\" class=\"data row14 col3\" >0.036397</td>\n",
       "      <td id=\"T_a299b_row14_col4\" class=\"data row14 col4\" >0.035971</td>\n",
       "      <td id=\"T_a299b_row14_col5\" class=\"data row14 col5\" >0.035245</td>\n",
       "      <td id=\"T_a299b_row14_col6\" class=\"data row14 col6\" >0.000195</td>\n",
       "      <td id=\"T_a299b_row14_col7\" class=\"data row14 col7\" >0.000227</td>\n",
       "      <td id=\"T_a299b_row14_col8\" class=\"data row14 col8\" >0.000174</td>\n",
       "      <td id=\"T_a299b_row14_col9\" class=\"data row14 col9\" >0.007377</td>\n",
       "      <td id=\"T_a299b_row14_col10\" class=\"data row14 col10\" >0.009616</td>\n",
       "      <td id=\"T_a299b_row14_col11\" class=\"data row14 col11\" >0.010434</td>\n",
       "      <td id=\"T_a299b_row14_col12\" class=\"data row14 col12\" >0.038383</td>\n",
       "      <td id=\"T_a299b_row14_col13\" class=\"data row14 col13\" >0.039306</td>\n",
       "      <td id=\"T_a299b_row14_col14\" class=\"data row14 col14\" >0.039052</td>\n",
       "    </tr>\n",
       "    <tr>\n",
       "      <th id=\"T_a299b_level0_row15\" class=\"row_heading level0 row15\" >Recall@8</th>\n",
       "      <td id=\"T_a299b_row15_col0\" class=\"data row15 col0\" >0.133388</td>\n",
       "      <td id=\"T_a299b_row15_col1\" class=\"data row15 col1\" >0.133853</td>\n",
       "      <td id=\"T_a299b_row15_col2\" class=\"data row15 col2\" >0.132848</td>\n",
       "      <td id=\"T_a299b_row15_col3\" class=\"data row15 col3\" >0.137124</td>\n",
       "      <td id=\"T_a299b_row15_col4\" class=\"data row15 col4\" >0.132069</td>\n",
       "      <td id=\"T_a299b_row15_col5\" class=\"data row15 col5\" >0.128967</td>\n",
       "      <td id=\"T_a299b_row15_col6\" class=\"data row15 col6\" >0.000548</td>\n",
       "      <td id=\"T_a299b_row15_col7\" class=\"data row15 col7\" >0.000615</td>\n",
       "      <td id=\"T_a299b_row15_col8\" class=\"data row15 col8\" >0.000410</td>\n",
       "      <td id=\"T_a299b_row15_col9\" class=\"data row15 col9\" >0.031639</td>\n",
       "      <td id=\"T_a299b_row15_col10\" class=\"data row15 col10\" >0.040317</td>\n",
       "      <td id=\"T_a299b_row15_col11\" class=\"data row15 col11\" >0.043493</td>\n",
       "      <td id=\"T_a299b_row15_col12\" class=\"data row15 col12\" >0.145217</td>\n",
       "      <td id=\"T_a299b_row15_col13\" class=\"data row15 col13\" >0.148081</td>\n",
       "      <td id=\"T_a299b_row15_col14\" class=\"data row15 col14\" >0.146537</td>\n",
       "    </tr>\n",
       "    <tr>\n",
       "      <th id=\"T_a299b_level0_row16\" class=\"row_heading level0 row16\" >Precision@9</th>\n",
       "      <td id=\"T_a299b_row16_col0\" class=\"data row16 col0\" >0.033033</td>\n",
       "      <td id=\"T_a299b_row16_col1\" class=\"data row16 col1\" >0.033170</td>\n",
       "      <td id=\"T_a299b_row16_col2\" class=\"data row16 col2\" >0.032969</td>\n",
       "      <td id=\"T_a299b_row16_col3\" class=\"data row16 col3\" >0.034174</td>\n",
       "      <td id=\"T_a299b_row16_col4\" class=\"data row16 col4\" >0.034100</td>\n",
       "      <td id=\"T_a299b_row16_col5\" class=\"data row16 col5\" >0.033445</td>\n",
       "      <td id=\"T_a299b_row16_col6\" class=\"data row16 col6\" >0.000203</td>\n",
       "      <td id=\"T_a299b_row16_col7\" class=\"data row16 col7\" >0.000208</td>\n",
       "      <td id=\"T_a299b_row16_col8\" class=\"data row16 col8\" >0.000214</td>\n",
       "      <td id=\"T_a299b_row16_col9\" class=\"data row16 col9\" >0.006758</td>\n",
       "      <td id=\"T_a299b_row16_col10\" class=\"data row16 col10\" >0.008906</td>\n",
       "      <td id=\"T_a299b_row16_col11\" class=\"data row16 col11\" >0.009707</td>\n",
       "      <td id=\"T_a299b_row16_col12\" class=\"data row16 col12\" >0.035861</td>\n",
       "      <td id=\"T_a299b_row16_col13\" class=\"data row16 col13\" >0.036790</td>\n",
       "      <td id=\"T_a299b_row16_col14\" class=\"data row16 col14\" >0.036514</td>\n",
       "    </tr>\n",
       "    <tr>\n",
       "      <th id=\"T_a299b_level0_row17\" class=\"row_heading level0 row17\" >Recall@9</th>\n",
       "      <td id=\"T_a299b_row17_col0\" class=\"data row17 col0\" >0.138717</td>\n",
       "      <td id=\"T_a299b_row17_col1\" class=\"data row17 col1\" >0.139219</td>\n",
       "      <td id=\"T_a299b_row17_col2\" class=\"data row17 col2\" >0.138301</td>\n",
       "      <td id=\"T_a299b_row17_col3\" class=\"data row17 col3\" >0.144300</td>\n",
       "      <td id=\"T_a299b_row17_col4\" class=\"data row17 col4\" >0.139907</td>\n",
       "      <td id=\"T_a299b_row17_col5\" class=\"data row17 col5\" >0.136657</td>\n",
       "      <td id=\"T_a299b_row17_col6\" class=\"data row17 col6\" >0.000609</td>\n",
       "      <td id=\"T_a299b_row17_col7\" class=\"data row17 col7\" >0.000638</td>\n",
       "      <td id=\"T_a299b_row17_col8\" class=\"data row17 col8\" >0.000637</td>\n",
       "      <td id=\"T_a299b_row17_col9\" class=\"data row17 col9\" >0.032429</td>\n",
       "      <td id=\"T_a299b_row17_col10\" class=\"data row17 col10\" >0.041683</td>\n",
       "      <td id=\"T_a299b_row17_col11\" class=\"data row17 col11\" >0.045182</td>\n",
       "      <td id=\"T_a299b_row17_col12\" class=\"data row17 col12\" >0.152234</td>\n",
       "      <td id=\"T_a299b_row17_col13\" class=\"data row17 col13\" >0.155219</td>\n",
       "      <td id=\"T_a299b_row17_col14\" class=\"data row17 col14\" >0.153249</td>\n",
       "    </tr>\n",
       "    <tr>\n",
       "      <th id=\"T_a299b_level0_row18\" class=\"row_heading level0 row18\" >Precision@10</th>\n",
       "      <td id=\"T_a299b_row18_col0\" class=\"data row18 col0\" >0.031007</td>\n",
       "      <td id=\"T_a299b_row18_col1\" class=\"data row18 col1\" >0.031076</td>\n",
       "      <td id=\"T_a299b_row18_col2\" class=\"data row18 col2\" >0.031017</td>\n",
       "      <td id=\"T_a299b_row18_col3\" class=\"data row18 col3\" >0.032240</td>\n",
       "      <td id=\"T_a299b_row18_col4\" class=\"data row18 col4\" >0.032496</td>\n",
       "      <td id=\"T_a299b_row18_col5\" class=\"data row18 col5\" >0.031776</td>\n",
       "      <td id=\"T_a299b_row18_col6\" class=\"data row18 col6\" >0.000215</td>\n",
       "      <td id=\"T_a299b_row18_col7\" class=\"data row18 col7\" >0.000215</td>\n",
       "      <td id=\"T_a299b_row18_col8\" class=\"data row18 col8\" >0.000212</td>\n",
       "      <td id=\"T_a299b_row18_col9\" class=\"data row18 col9\" >0.006269</td>\n",
       "      <td id=\"T_a299b_row18_col10\" class=\"data row18 col10\" >0.008300</td>\n",
       "      <td id=\"T_a299b_row18_col11\" class=\"data row18 col11\" >0.009099</td>\n",
       "      <td id=\"T_a299b_row18_col12\" class=\"data row18 col12\" >0.033745</td>\n",
       "      <td id=\"T_a299b_row18_col13\" class=\"data row18 col13\" >0.034667</td>\n",
       "      <td id=\"T_a299b_row18_col14\" class=\"data row18 col14\" >0.034389</td>\n",
       "    </tr>\n",
       "    <tr>\n",
       "      <th id=\"T_a299b_level0_row19\" class=\"row_heading level0 row19\" >Recall@10</th>\n",
       "      <td id=\"T_a299b_row19_col0\" class=\"data row19 col0\" >0.144048</td>\n",
       "      <td id=\"T_a299b_row19_col1\" class=\"data row19 col1\" >0.144324</td>\n",
       "      <td id=\"T_a299b_row19_col2\" class=\"data row19 col2\" >0.143825</td>\n",
       "      <td id=\"T_a299b_row19_col3\" class=\"data row19 col3\" >0.150447</td>\n",
       "      <td id=\"T_a299b_row19_col4\" class=\"data row19 col4\" >0.147142</td>\n",
       "      <td id=\"T_a299b_row19_col5\" class=\"data row19 col5\" >0.143324</td>\n",
       "      <td id=\"T_a299b_row19_col6\" class=\"data row19 col6\" >0.000723</td>\n",
       "      <td id=\"T_a299b_row19_col7\" class=\"data row19 col7\" >0.000723</td>\n",
       "      <td id=\"T_a299b_row19_col8\" class=\"data row19 col8\" >0.000696</td>\n",
       "      <td id=\"T_a299b_row19_col9\" class=\"data row19 col9\" >0.033195</td>\n",
       "      <td id=\"T_a299b_row19_col10\" class=\"data row19 col10\" >0.042863</td>\n",
       "      <td id=\"T_a299b_row19_col11\" class=\"data row19 col11\" >0.046852</td>\n",
       "      <td id=\"T_a299b_row19_col12\" class=\"data row19 col12\" >0.158760</td>\n",
       "      <td id=\"T_a299b_row19_col13\" class=\"data row19 col13\" >0.162013</td>\n",
       "      <td id=\"T_a299b_row19_col14\" class=\"data row19 col14\" >0.159747</td>\n",
       "    </tr>\n",
       "    <tr>\n",
       "      <th id=\"T_a299b_level0_row20\" class=\"row_heading level0 row20\" >MAP@1</th>\n",
       "      <td id=\"T_a299b_row20_col0\" class=\"data row20 col0\" >0.040853</td>\n",
       "      <td id=\"T_a299b_row20_col1\" class=\"data row20 col1\" >0.041867</td>\n",
       "      <td id=\"T_a299b_row20_col2\" class=\"data row20 col2\" >0.041905</td>\n",
       "      <td id=\"T_a299b_row20_col3\" class=\"data row20 col3\" >0.036633</td>\n",
       "      <td id=\"T_a299b_row20_col4\" class=\"data row20 col4\" >0.028896</td>\n",
       "      <td id=\"T_a299b_row20_col5\" class=\"data row20 col5\" >0.030265</td>\n",
       "      <td id=\"T_a299b_row20_col6\" class=\"data row20 col6\" >0.000116</td>\n",
       "      <td id=\"T_a299b_row20_col7\" class=\"data row20 col7\" >0.000116</td>\n",
       "      <td id=\"T_a299b_row20_col8\" class=\"data row20 col8\" >0.000116</td>\n",
       "      <td id=\"T_a299b_row20_col9\" class=\"data row20 col9\" >0.016639</td>\n",
       "      <td id=\"T_a299b_row20_col10\" class=\"data row20 col10\" >0.019000</td>\n",
       "      <td id=\"T_a299b_row20_col11\" class=\"data row20 col11\" >0.019221</td>\n",
       "      <td id=\"T_a299b_row20_col12\" class=\"data row20 col12\" >0.041697</td>\n",
       "      <td id=\"T_a299b_row20_col13\" class=\"data row20 col13\" >0.040503</td>\n",
       "      <td id=\"T_a299b_row20_col14\" class=\"data row20 col14\" >0.040512</td>\n",
       "    </tr>\n",
       "    <tr>\n",
       "      <th id=\"T_a299b_level0_row21\" class=\"row_heading level0 row21\" >MAP@2</th>\n",
       "      <td id=\"T_a299b_row21_col0\" class=\"data row21 col0\" >0.055336</td>\n",
       "      <td id=\"T_a299b_row21_col1\" class=\"data row21 col1\" >0.056471</td>\n",
       "      <td id=\"T_a299b_row21_col2\" class=\"data row21 col2\" >0.056333</td>\n",
       "      <td id=\"T_a299b_row21_col3\" class=\"data row21 col3\" >0.050676</td>\n",
       "      <td id=\"T_a299b_row21_col4\" class=\"data row21 col4\" >0.041052</td>\n",
       "      <td id=\"T_a299b_row21_col5\" class=\"data row21 col5\" >0.042259</td>\n",
       "      <td id=\"T_a299b_row21_col6\" class=\"data row21 col6\" >0.000208</td>\n",
       "      <td id=\"T_a299b_row21_col7\" class=\"data row21 col7\" >0.000208</td>\n",
       "      <td id=\"T_a299b_row21_col8\" class=\"data row21 col8\" >0.000208</td>\n",
       "      <td id=\"T_a299b_row21_col9\" class=\"data row21 col9\" >0.019620</td>\n",
       "      <td id=\"T_a299b_row21_col10\" class=\"data row21 col10\" >0.022962</td>\n",
       "      <td id=\"T_a299b_row21_col11\" class=\"data row21 col11\" >0.023529</td>\n",
       "      <td id=\"T_a299b_row21_col12\" class=\"data row21 col12\" >0.055532</td>\n",
       "      <td id=\"T_a299b_row21_col13\" class=\"data row21 col13\" >0.055119</td>\n",
       "      <td id=\"T_a299b_row21_col14\" class=\"data row21 col14\" >0.055524</td>\n",
       "    </tr>\n",
       "    <tr>\n",
       "      <th id=\"T_a299b_level0_row22\" class=\"row_heading level0 row22\" >MAP@3</th>\n",
       "      <td id=\"T_a299b_row22_col0\" class=\"data row22 col0\" >0.062456</td>\n",
       "      <td id=\"T_a299b_row22_col1\" class=\"data row22 col1\" >0.063242</td>\n",
       "      <td id=\"T_a299b_row22_col2\" class=\"data row22 col2\" >0.062991</td>\n",
       "      <td id=\"T_a299b_row22_col3\" class=\"data row22 col3\" >0.058002</td>\n",
       "      <td id=\"T_a299b_row22_col4\" class=\"data row22 col4\" >0.047860</td>\n",
       "      <td id=\"T_a299b_row22_col5\" class=\"data row22 col5\" >0.049335</td>\n",
       "      <td id=\"T_a299b_row22_col6\" class=\"data row22 col6\" >0.000266</td>\n",
       "      <td id=\"T_a299b_row22_col7\" class=\"data row22 col7\" >0.000208</td>\n",
       "      <td id=\"T_a299b_row22_col8\" class=\"data row22 col8\" >0.000208</td>\n",
       "      <td id=\"T_a299b_row22_col9\" class=\"data row22 col9\" >0.020712</td>\n",
       "      <td id=\"T_a299b_row22_col10\" class=\"data row22 col10\" >0.024398</td>\n",
       "      <td id=\"T_a299b_row22_col11\" class=\"data row22 col11\" >0.025234</td>\n",
       "      <td id=\"T_a299b_row22_col12\" class=\"data row22 col12\" >0.062849</td>\n",
       "      <td id=\"T_a299b_row22_col13\" class=\"data row22 col13\" >0.063314</td>\n",
       "      <td id=\"T_a299b_row22_col14\" class=\"data row22 col14\" >0.063627</td>\n",
       "    </tr>\n",
       "    <tr>\n",
       "      <th id=\"T_a299b_level0_row23\" class=\"row_heading level0 row23\" >MAP@4</th>\n",
       "      <td id=\"T_a299b_row23_col0\" class=\"data row23 col0\" >0.066520</td>\n",
       "      <td id=\"T_a299b_row23_col1\" class=\"data row23 col1\" >0.067478</td>\n",
       "      <td id=\"T_a299b_row23_col2\" class=\"data row23 col2\" >0.067117</td>\n",
       "      <td id=\"T_a299b_row23_col3\" class=\"data row23 col3\" >0.062062</td>\n",
       "      <td id=\"T_a299b_row23_col4\" class=\"data row23 col4\" >0.052431</td>\n",
       "      <td id=\"T_a299b_row23_col5\" class=\"data row23 col5\" >0.053848</td>\n",
       "      <td id=\"T_a299b_row23_col6\" class=\"data row23 col6\" >0.000275</td>\n",
       "      <td id=\"T_a299b_row23_col7\" class=\"data row23 col7\" >0.000261</td>\n",
       "      <td id=\"T_a299b_row23_col8\" class=\"data row23 col8\" >0.000209</td>\n",
       "      <td id=\"T_a299b_row23_col9\" class=\"data row23 col9\" >0.021280</td>\n",
       "      <td id=\"T_a299b_row23_col10\" class=\"data row23 col10\" >0.025096</td>\n",
       "      <td id=\"T_a299b_row23_col11\" class=\"data row23 col11\" >0.026120</td>\n",
       "      <td id=\"T_a299b_row23_col12\" class=\"data row23 col12\" >0.067765</td>\n",
       "      <td id=\"T_a299b_row23_col13\" class=\"data row23 col13\" >0.068078</td>\n",
       "      <td id=\"T_a299b_row23_col14\" class=\"data row23 col14\" >0.068326</td>\n",
       "    </tr>\n",
       "    <tr>\n",
       "      <th id=\"T_a299b_level0_row24\" class=\"row_heading level0 row24\" >MAP@5</th>\n",
       "      <td id=\"T_a299b_row24_col0\" class=\"data row24 col0\" >0.069093</td>\n",
       "      <td id=\"T_a299b_row24_col1\" class=\"data row24 col1\" >0.069948</td>\n",
       "      <td id=\"T_a299b_row24_col2\" class=\"data row24 col2\" >0.069559</td>\n",
       "      <td id=\"T_a299b_row24_col3\" class=\"data row24 col3\" >0.064784</td>\n",
       "      <td id=\"T_a299b_row24_col4\" class=\"data row24 col4\" >0.055500</td>\n",
       "      <td id=\"T_a299b_row24_col5\" class=\"data row24 col5\" >0.056605</td>\n",
       "      <td id=\"T_a299b_row24_col6\" class=\"data row24 col6\" >0.000279</td>\n",
       "      <td id=\"T_a299b_row24_col7\" class=\"data row24 col7\" >0.000264</td>\n",
       "      <td id=\"T_a299b_row24_col8\" class=\"data row24 col8\" >0.000212</td>\n",
       "      <td id=\"T_a299b_row24_col9\" class=\"data row24 col9\" >0.021554</td>\n",
       "      <td id=\"T_a299b_row24_col10\" class=\"data row24 col10\" >0.025569</td>\n",
       "      <td id=\"T_a299b_row24_col11\" class=\"data row24 col11\" >0.026567</td>\n",
       "      <td id=\"T_a299b_row24_col12\" class=\"data row24 col12\" >0.070794</td>\n",
       "      <td id=\"T_a299b_row24_col13\" class=\"data row24 col13\" >0.071208</td>\n",
       "      <td id=\"T_a299b_row24_col14\" class=\"data row24 col14\" >0.071279</td>\n",
       "    </tr>\n",
       "    <tr>\n",
       "      <th id=\"T_a299b_level0_row25\" class=\"row_heading level0 row25\" >MAP@6</th>\n",
       "      <td id=\"T_a299b_row25_col0\" class=\"data row25 col0\" >0.070576</td>\n",
       "      <td id=\"T_a299b_row25_col1\" class=\"data row25 col1\" >0.071449</td>\n",
       "      <td id=\"T_a299b_row25_col2\" class=\"data row25 col2\" >0.071073</td>\n",
       "      <td id=\"T_a299b_row25_col3\" class=\"data row25 col3\" >0.066697</td>\n",
       "      <td id=\"T_a299b_row25_col4\" class=\"data row25 col4\" >0.057710</td>\n",
       "      <td id=\"T_a299b_row25_col5\" class=\"data row25 col5\" >0.058581</td>\n",
       "      <td id=\"T_a299b_row25_col6\" class=\"data row25 col6\" >0.000279</td>\n",
       "      <td id=\"T_a299b_row25_col7\" class=\"data row25 col7\" >0.000264</td>\n",
       "      <td id=\"T_a299b_row25_col8\" class=\"data row25 col8\" >0.000212</td>\n",
       "      <td id=\"T_a299b_row25_col9\" class=\"data row25 col9\" >0.021739</td>\n",
       "      <td id=\"T_a299b_row25_col10\" class=\"data row25 col10\" >0.025862</td>\n",
       "      <td id=\"T_a299b_row25_col11\" class=\"data row25 col11\" >0.026910</td>\n",
       "      <td id=\"T_a299b_row25_col12\" class=\"data row25 col12\" >0.072865</td>\n",
       "      <td id=\"T_a299b_row25_col13\" class=\"data row25 col13\" >0.073249</td>\n",
       "      <td id=\"T_a299b_row25_col14\" class=\"data row25 col14\" >0.073189</td>\n",
       "    </tr>\n",
       "    <tr>\n",
       "      <th id=\"T_a299b_level0_row26\" class=\"row_heading level0 row26\" >MAP@7</th>\n",
       "      <td id=\"T_a299b_row26_col0\" class=\"data row26 col0\" >0.071655</td>\n",
       "      <td id=\"T_a299b_row26_col1\" class=\"data row26 col1\" >0.072576</td>\n",
       "      <td id=\"T_a299b_row26_col2\" class=\"data row26 col2\" >0.072175</td>\n",
       "      <td id=\"T_a299b_row26_col3\" class=\"data row26 col3\" >0.068169</td>\n",
       "      <td id=\"T_a299b_row26_col4\" class=\"data row26 col4\" >0.059291</td>\n",
       "      <td id=\"T_a299b_row26_col5\" class=\"data row26 col5\" >0.060038</td>\n",
       "      <td id=\"T_a299b_row26_col6\" class=\"data row26 col6\" >0.000282</td>\n",
       "      <td id=\"T_a299b_row26_col7\" class=\"data row26 col7\" >0.000267</td>\n",
       "      <td id=\"T_a299b_row26_col8\" class=\"data row26 col8\" >0.000225</td>\n",
       "      <td id=\"T_a299b_row26_col9\" class=\"data row26 col9\" >0.021862</td>\n",
       "      <td id=\"T_a299b_row26_col10\" class=\"data row26 col10\" >0.026116</td>\n",
       "      <td id=\"T_a299b_row26_col11\" class=\"data row26 col11\" >0.027224</td>\n",
       "      <td id=\"T_a299b_row26_col12\" class=\"data row26 col12\" >0.074184</td>\n",
       "      <td id=\"T_a299b_row26_col13\" class=\"data row26 col13\" >0.074673</td>\n",
       "      <td id=\"T_a299b_row26_col14\" class=\"data row26 col14\" >0.074633</td>\n",
       "    </tr>\n",
       "    <tr>\n",
       "      <th id=\"T_a299b_level0_row27\" class=\"row_heading level0 row27\" >MAP@8</th>\n",
       "      <td id=\"T_a299b_row27_col0\" class=\"data row27 col0\" >0.072508</td>\n",
       "      <td id=\"T_a299b_row27_col1\" class=\"data row27 col1\" >0.073393</td>\n",
       "      <td id=\"T_a299b_row27_col2\" class=\"data row27 col2\" >0.073018</td>\n",
       "      <td id=\"T_a299b_row27_col3\" class=\"data row27 col3\" >0.069279</td>\n",
       "      <td id=\"T_a299b_row27_col4\" class=\"data row27 col4\" >0.060597</td>\n",
       "      <td id=\"T_a299b_row27_col5\" class=\"data row27 col5\" >0.061254</td>\n",
       "      <td id=\"T_a299b_row27_col6\" class=\"data row27 col6\" >0.000282</td>\n",
       "      <td id=\"T_a299b_row27_col7\" class=\"data row27 col7\" >0.000276</td>\n",
       "      <td id=\"T_a299b_row27_col8\" class=\"data row27 col8\" >0.000225</td>\n",
       "      <td id=\"T_a299b_row27_col9\" class=\"data row27 col9\" >0.021967</td>\n",
       "      <td id=\"T_a299b_row27_col10\" class=\"data row27 col10\" >0.026311</td>\n",
       "      <td id=\"T_a299b_row27_col11\" class=\"data row27 col11\" >0.027460</td>\n",
       "      <td id=\"T_a299b_row27_col12\" class=\"data row27 col12\" >0.075288</td>\n",
       "      <td id=\"T_a299b_row27_col13\" class=\"data row27 col13\" >0.075762</td>\n",
       "      <td id=\"T_a299b_row27_col14\" class=\"data row27 col14\" >0.075685</td>\n",
       "    </tr>\n",
       "    <tr>\n",
       "      <th id=\"T_a299b_level0_row28\" class=\"row_heading level0 row28\" >MAP@9</th>\n",
       "      <td id=\"T_a299b_row28_col0\" class=\"data row28 col0\" >0.073228</td>\n",
       "      <td id=\"T_a299b_row28_col1\" class=\"data row28 col1\" >0.074128</td>\n",
       "      <td id=\"T_a299b_row28_col2\" class=\"data row28 col2\" >0.073762</td>\n",
       "      <td id=\"T_a299b_row28_col3\" class=\"data row28 col3\" >0.070221</td>\n",
       "      <td id=\"T_a299b_row28_col4\" class=\"data row28 col4\" >0.061635</td>\n",
       "      <td id=\"T_a299b_row28_col5\" class=\"data row28 col5\" >0.062276</td>\n",
       "      <td id=\"T_a299b_row28_col6\" class=\"data row28 col6\" >0.000288</td>\n",
       "      <td id=\"T_a299b_row28_col7\" class=\"data row28 col7\" >0.000278</td>\n",
       "      <td id=\"T_a299b_row28_col8\" class=\"data row28 col8\" >0.000250</td>\n",
       "      <td id=\"T_a299b_row28_col9\" class=\"data row28 col9\" >0.022058</td>\n",
       "      <td id=\"T_a299b_row28_col10\" class=\"data row28 col10\" >0.026475</td>\n",
       "      <td id=\"T_a299b_row28_col11\" class=\"data row28 col11\" >0.027661</td>\n",
       "      <td id=\"T_a299b_row28_col12\" class=\"data row28 col12\" >0.076213</td>\n",
       "      <td id=\"T_a299b_row28_col13\" class=\"data row28 col13\" >0.076721</td>\n",
       "      <td id=\"T_a299b_row28_col14\" class=\"data row28 col14\" >0.076604</td>\n",
       "    </tr>\n",
       "    <tr>\n",
       "      <th id=\"T_a299b_level0_row29\" class=\"row_heading level0 row29\" >MAP@10</th>\n",
       "      <td id=\"T_a299b_row29_col0\" class=\"data row29 col0\" >0.073870</td>\n",
       "      <td id=\"T_a299b_row29_col1\" class=\"data row29 col1\" >0.074739</td>\n",
       "      <td id=\"T_a299b_row29_col2\" class=\"data row29 col2\" >0.074424</td>\n",
       "      <td id=\"T_a299b_row29_col3\" class=\"data row29 col3\" >0.070960</td>\n",
       "      <td id=\"T_a299b_row29_col4\" class=\"data row29 col4\" >0.062512</td>\n",
       "      <td id=\"T_a299b_row29_col5\" class=\"data row29 col5\" >0.063090</td>\n",
       "      <td id=\"T_a299b_row29_col6\" class=\"data row29 col6\" >0.000300</td>\n",
       "      <td id=\"T_a299b_row29_col7\" class=\"data row29 col7\" >0.000287</td>\n",
       "      <td id=\"T_a299b_row29_col8\" class=\"data row29 col8\" >0.000256</td>\n",
       "      <td id=\"T_a299b_row29_col9\" class=\"data row29 col9\" >0.022138</td>\n",
       "      <td id=\"T_a299b_row29_col10\" class=\"data row29 col10\" >0.026603</td>\n",
       "      <td id=\"T_a299b_row29_col11\" class=\"data row29 col11\" >0.027842</td>\n",
       "      <td id=\"T_a299b_row29_col12\" class=\"data row29 col12\" >0.077006</td>\n",
       "      <td id=\"T_a299b_row29_col13\" class=\"data row29 col13\" >0.077538</td>\n",
       "      <td id=\"T_a299b_row29_col14\" class=\"data row29 col14\" >0.077387</td>\n",
       "    </tr>\n",
       "  </tbody>\n",
       "</table>\n"
      ],
      "text/plain": [
       "<pandas.io.formats.style.Styler at 0x7f7b593da9a0>"
      ]
     },
     "execution_count": 65,
     "metadata": {},
     "output_type": "execute_result"
    }
   ],
   "source": [
    "df_quality.style.highlight_max(color='lightgreen', axis=1)"
   ]
  },
  {
   "cell_type": "markdown",
   "id": "0887527d-f98f-43e8-b260-1beda466ebfc",
   "metadata": {},
   "source": [
    "## Load saved models"
   ]
  },
  {
   "cell_type": "code",
   "execution_count": 52,
   "id": "aac8d396-4bd0-4082-9556-fd84baa4da1a",
   "metadata": {},
   "outputs": [
    {
     "name": "stderr",
     "output_type": "stream",
     "text": [
      "100%|███████████████████████████████████████████████████████████████████████████████████████████████████████████████████████| 15/15 [00:00<00:00, 17.20it/s]\n"
     ]
    }
   ],
   "source": [
    "models_dir = Path('../models')\n",
    "\n",
    "for model_name in tqdm(models.keys()):\n",
    "    with open(models_dir / f'{model_name}.dill', 'rb') as f:\n",
    "        models[model_name] = dill.load(f)"
   ]
  },
  {
   "cell_type": "markdown",
   "id": "a51c4215",
   "metadata": {},
   "source": [
    "# 6. Recs via ANN"
   ]
  },
  {
   "cell_type": "markdown",
   "id": "4c76383f-fae6-4646-9742-f259528364fa",
   "metadata": {},
   "source": [
    "## По метрикам лучше всего выглядят модели LightFMWarp, выберем LightFM_warp_16"
   ]
  },
  {
   "cell_type": "code",
   "execution_count": 53,
   "id": "7e562025-bb26-4467-885c-9874d3cfe316",
   "metadata": {},
   "outputs": [],
   "source": [
    "best_model = models['LightFM_warp_16']"
   ]
  },
  {
   "cell_type": "code",
   "execution_count": 55,
   "id": "6c5dd47e-d4b5-4d2d-9413-6ec03367e1b3",
   "metadata": {},
   "outputs": [],
   "source": [
    "user_embeddings, item_embeddings = best_model.get_vectors(dataset)"
   ]
  },
  {
   "cell_type": "code",
   "execution_count": 56,
   "id": "436d9aca-9ee6-48e4-bc60-e4fe9510b0b9",
   "metadata": {},
   "outputs": [
    {
     "name": "stdout",
     "output_type": "stream",
     "text": [
      "user_embeddings: (756562, 18), item_embeddings: (14019, 18)\n"
     ]
    }
   ],
   "source": [
    "print(f'user_embeddings: {user_embeddings.shape}, item_embeddings: {item_embeddings.shape}')"
   ]
  },
  {
   "cell_type": "code",
   "execution_count": 57,
   "id": "14ef22e1-823c-4b25-8efa-77fd0f8ae8b1",
   "metadata": {},
   "outputs": [],
   "source": [
    "def augment_inner_product(factors):\n",
    "    normed_factors = np.linalg.norm(factors, axis=1)\n",
    "    max_norm = normed_factors.max()\n",
    "    \n",
    "    extra_dim = np.sqrt(max_norm ** 2 - normed_factors ** 2).reshape(-1, 1)\n",
    "    augmented_factors = np.append(factors, extra_dim, axis=1)\n",
    "    return max_norm, augmented_factors"
   ]
  },
  {
   "cell_type": "code",
   "execution_count": 58,
   "id": "0dd99681-742b-4529-a595-e604c7235aa1",
   "metadata": {},
   "outputs": [
    {
     "name": "stdout",
     "output_type": "stream",
     "text": [
      "pre shape:  (14019, 18)\n"
     ]
    },
    {
     "data": {
      "text/plain": [
       "(14019, 19)"
      ]
     },
     "execution_count": 58,
     "metadata": {},
     "output_type": "execute_result"
    }
   ],
   "source": [
    "print('pre shape: ', item_embeddings.shape)\n",
    "max_norm, augmented_item_embeddings = augment_inner_product(item_embeddings)\n",
    "augmented_item_embeddings.shape"
   ]
  },
  {
   "cell_type": "code",
   "execution_count": 59,
   "id": "e41142ed-545a-462f-bc3f-c904193c8863",
   "metadata": {},
   "outputs": [
    {
     "data": {
      "text/plain": [
       "(756562, 19)"
      ]
     },
     "execution_count": 59,
     "metadata": {},
     "output_type": "execute_result"
    }
   ],
   "source": [
    "extra_zero = np.zeros((user_embeddings.shape[0], 1))\n",
    "augmented_user_embeddings = np.append(user_embeddings, extra_zero, axis=1)\n",
    "augmented_user_embeddings.shape"
   ]
  },
  {
   "cell_type": "markdown",
   "id": "61aa90ef-d46f-4d9a-95f1-a3ce9999d8b1",
   "metadata": {},
   "source": [
    "## Для получения оффлайн рекомендаций используем NMSLIB"
   ]
  },
  {
   "cell_type": "markdown",
   "id": "adcabeeb-ff50-4ec7-996d-49bc0275a371",
   "metadata": {},
   "source": [
    "### Set parameters"
   ]
  },
  {
   "cell_type": "code",
   "execution_count": 60,
   "id": "add5f6f5-87d1-4ff1-a674-63ce88fa80b0",
   "metadata": {},
   "outputs": [
    {
     "name": "stdout",
     "output_type": "stream",
     "text": [
      "Index-time parameters {'M': 48, 'indexThreadQty': 4, 'efConstruction': 100, 'post': 0}\n"
     ]
    }
   ],
   "source": [
    "# Set index parameters\n",
    "# These are the most important ones\n",
    "M = 48\n",
    "efC = 100\n",
    "\n",
    "num_threads = 4\n",
    "index_time_params = {'M': M, 'indexThreadQty': num_threads, 'efConstruction': efC, 'post' : 0}\n",
    "print('Index-time parameters', index_time_params)"
   ]
  },
  {
   "cell_type": "code",
   "execution_count": 61,
   "id": "fc37298c-a1f6-480e-8e73-e2d06a26c893",
   "metadata": {},
   "outputs": [
    {
     "data": {
      "text/plain": [
       "14019"
      ]
     },
     "execution_count": 61,
     "metadata": {},
     "output_type": "execute_result"
    }
   ],
   "source": [
    "# Number of neighbors \n",
    "K=10\n",
    "\n",
    "# Space name should correspond to the space name \n",
    "# used for brute-force search\n",
    "space_name='negdotprod'\n",
    "\n",
    "# Intitialize the library, specify the space, the type of the vector and add data points \n",
    "index = nmslib.init(method='hnsw', space=space_name, data_type=nmslib.DataType.DENSE_VECTOR) \n",
    "index.addDataPointBatch(augmented_item_embeddings) "
   ]
  },
  {
   "cell_type": "code",
   "execution_count": 62,
   "id": "a22e68a2-100d-49f1-8b5b-e4e9ecd4cb23",
   "metadata": {},
   "outputs": [
    {
     "name": "stdout",
     "output_type": "stream",
     "text": [
      "Index-time parameters {'M': 48, 'indexThreadQty': 4, 'efConstruction': 100}\n",
      "Indexing time = 0.136509\n"
     ]
    }
   ],
   "source": [
    "# Create an index\n",
    "start = time.time()\n",
    "index_time_params = {'M': M, 'indexThreadQty': num_threads, 'efConstruction': efC}\n",
    "index.createIndex(index_time_params) \n",
    "end = time.time() \n",
    "print('Index-time parameters', index_time_params)\n",
    "print('Indexing time = %f' % (end-start))"
   ]
  },
  {
   "cell_type": "code",
   "execution_count": 63,
   "id": "f2c1eeae-88aa-4c76-ae23-13639b462be9",
   "metadata": {},
   "outputs": [
    {
     "name": "stdout",
     "output_type": "stream",
     "text": [
      "Setting query-time parameters {'efSearch': 100}\n"
     ]
    }
   ],
   "source": [
    "# Setting query-time parameters\n",
    "efS = 100\n",
    "query_time_params = {'efSearch': efS}\n",
    "print('Setting query-time parameters', query_time_params)\n",
    "index.setQueryTimeParams(query_time_params)"
   ]
  },
  {
   "cell_type": "code",
   "execution_count": 64,
   "id": "8230104b-5a8e-4628-b3a7-159215654f6e",
   "metadata": {},
   "outputs": [
    {
     "name": "stdout",
     "output_type": "stream",
     "text": [
      "kNN time total=3.216093 (sec), per query=0.000004 (sec), per query adjusted for thread number=0.000017 (sec)\n"
     ]
    }
   ],
   "source": [
    "# Querying\n",
    "query_qty = augmented_user_embeddings.shape[0]\n",
    "start = time.time() \n",
    "nbrs = index.knnQueryBatch(augmented_user_embeddings, k = K, num_threads = num_threads)\n",
    "end = time.time() \n",
    "print('kNN time total=%f (sec), per query=%f (sec), per query adjusted for thread number=%f (sec)' % \n",
    "      (end-start, float(end-start)/query_qty, num_threads*float(end-start)/query_qty)) "
   ]
  },
  {
   "cell_type": "markdown",
   "id": "61d02557-5e09-4196-8afe-6ca6ae9278aa",
   "metadata": {},
   "source": [
    "## Save offline recs"
   ]
  },
  {
   "cell_type": "code",
   "execution_count": 65,
   "id": "e06dbca4-2386-4ca5-b897-9b49818b2f0c",
   "metadata": {},
   "outputs": [],
   "source": [
    "recommendations = {users_inv_mapping[i]: [items_inv_mapping[r] for r in pred[0]] for i, pred in enumerate(nbrs)}"
   ]
  },
  {
   "cell_type": "code",
   "execution_count": 66,
   "id": "250eea3a-7e2c-4415-b63b-bc052c90a87b",
   "metadata": {},
   "outputs": [],
   "source": [
    "import pickle\n",
    "with open(models_dir / f'offline_ann_recs.pkl', 'wb') as f:\n",
    "    pickle.dump(recommendations, f, protocol=pickle.HIGHEST_PROTOCOL)"
   ]
  }
 ],
 "metadata": {
  "kernelspec": {
   "display_name": "Python 3 (ipykernel)",
   "language": "python",
   "name": "python3"
  },
  "language_info": {
   "codemirror_mode": {
    "name": "ipython",
    "version": 3
   },
   "file_extension": ".py",
   "mimetype": "text/x-python",
   "name": "python",
   "nbconvert_exporter": "python",
   "pygments_lexer": "ipython3",
   "version": "3.8.14"
  }
 },
 "nbformat": 4,
 "nbformat_minor": 5
}
